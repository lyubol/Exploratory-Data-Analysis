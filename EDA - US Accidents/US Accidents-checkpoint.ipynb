{
 "cells": [
  {
   "cell_type": "markdown",
   "id": "68c39cb6",
   "metadata": {},
   "source": [
    "# US CAR ACCIDENTS (2016 - 2021) - EXPLORATORY DATA ANALYSIS"
   ]
  },
  {
   "cell_type": "markdown",
   "id": "fb885e04",
   "metadata": {},
   "source": [
    "# This notebook is in progress..."
   ]
  },
  {
   "cell_type": "markdown",
   "id": "bce7739f",
   "metadata": {},
   "source": [
    "# 0. Introduction"
   ]
  },
  {
   "cell_type": "markdown",
   "id": "02c32995",
   "metadata": {},
   "source": [
    "**Dataset overview**\n",
    "\n",
    "This is a countrywide traffic accident dataset, which covers 49 states of the United States. The data is continuously being collected from February 2016, using several data providers, including two APIs which provide streaming traffic event data. Check here to learn more about this dataset.\n",
    "\n",
    "**Columns description**\n",
    "\n",
    "| Column ID | Column Name | Column Description | Nullable\n",
    "| --- | --- | --- | --- |\n",
    "|0|ID|This is a unique identifier of the accident record|No|\n",
    "|1|Severity|Shows the severity of the accident, a number between 1 and 4, where 1 indicates the least impact on traffic (i.e., short delay as a result of the accident) and 4 indicates a significant impact on traffic (i.e., long delay)|No|\n",
    "|2|Start_Time|Shows start time of the accident in local time zone|No|\n",
    "|3|End_Time|Shows end time of the accident in local time zone|No|\n",
    "|4|Start_Lat|Shows latitude in GPS coordinate of the start point|No|\n",
    "|5|Start_Lng|Shows longitude in GPS coordinate of the start point|No|\n",
    "|6|End_Lat|Shows latitude in GPS coordinate of the end point|Yes|\n",
    "|7|End_Lng|Shows longitude in GPS coordinate of the end point|Yes|\n",
    "|8|Distance(mi)|The length of the road extent affected by the accident|No|\n",
    "|9|Description|Shows natural language description of the accident|No|\n",
    "|10|Number|Shows the street number in address field|Yes|\n",
    "|11|Street|Shows the street name in address field|Yes|\n",
    "|12|Side|Shows the relative side of the street (Right/Left) in address field|Yes|\n",
    "|13|City|Shows the city in address field|Yes|\n",
    "|14|County|Shows the county in address field|Yes|\n",
    "|15|State|Shows the state in address field|Yes|\n",
    "|16|Zipcode|Shows the zipcode in address field|Yes|\n",
    "|17|Country|Shows the country in address field|Yes|\n",
    "|18|Timezone|Shows timezone based on the location of the accident (eastern, central, etc.)|Yes|\n",
    "|19|Airport_Code|Denotes an airport-based weather station which is the closest one to location of the accident|Yes|\n",
    "|20|Weather_Timestamp|Shows the time-stamp of weather observation record (in local time)|Yes|\n",
    "|21|Temperature(F)|Shows the temperature (in Fahrenheit)|Yes|\n",
    "|22|Wind_Chill(F)|Shows the wind chill (in Fahrenheit)|Yes|\n",
    "|23|Humidity(%)|Shows the humidity (in percentage)|Yes|\n",
    "|24|Pressure(in)|Shows the air pressure (in inches)|Yes|\n",
    "|25|Visibility(mi)|Shows visibility (in miles)|Yes|\n",
    "|26|Wind_Direction|Shows wind direction|Yes|\n",
    "|27|Wind_Speed(mph)|Shows wind speed (in miles per hour)|Yes|\n",
    "|28|Precipitation(in)|Shows precipitation amount in inches, if there is any|Yes|\n",
    "|29|Weather_Condition|Shows the weather condition (rain, snow, thunderstorm, fog, etc.)|Yes|\n",
    "|30|Amenity|A POI annotation which indicates presence of amenity in a nearby location|No|\n",
    "|31|Bump|A POI annotation which indicates presence of speed bump or hump in a nearby location|No|\n",
    "|32|Crossing|A POI annotation which indicates presence of crossing in a nearby location|No|\n",
    "|33|Give_Way|A POI annotation which indicates presence of give_way in a nearby location|No|\n",
    "|34|Junction|A POI annotation which indicates presence of junction in a nearby location|No|\n",
    "|35|No_Exit|A POI annotation which indicates presence of no_exit in a nearby location|No|\n",
    "|36|Railway|A POI annotation which indicates presence of railway in a nearby location|No|\n",
    "|37|Roundabout|A POI annotation which indicates presence of roundabout in a nearby location|No|\n",
    "|38|Station|A POI annotation which indicates presence of station in a nearby location|No|\n",
    "|39|Stop|A POI annotation which indicates presence of stop in a nearby location|No|\n",
    "|40|Traffic_Calming|A POI annotation which indicates presence of traffic_calming in a nearby location|No|\n",
    "|41|Traffic_Signal|A POI annotation which indicates presence of traffic_signal in a nearby location|No|\n",
    "|42|Turning_Loop|A POI annotation which indicates presence of turning_loop in a nearby location|No|\n",
    "|43|Sunrise_Sunset|Shows the period of day (i.e. day or night) based on sunrise/sunset|No|\n",
    "|44|Civil_Twilight|Shows the period of day (i.e. day or night) based on civil twilight|No|\n",
    "|45|Nautical_Twilight|Shows the period of day (i.e. day or night) based on nautical twilight|No|\n",
    "|46|Astronomical_Twilight|Shows the period of day (i.e. day or night) based on astronomical twilight|No|\n",
    "\n",
    "**Data source**\n",
    "\n",
    "* Accidents data - https://www.kaggle.com/\n",
    "\n",
    "* US States data (reference data) - https://worldpopulationreview.com/states\n",
    "\n",
    "**Table of Contents**\n",
    "\n",
    "| Section ID | Subsection ID | Section Name |\n",
    "| --- | --- | --- |\n",
    "|0||Introduction|\n",
    "|1||Read source data|\n",
    "|1|1.1|Read main dataset|\n",
    "|1|1.2|Read reference datasets|\n",
    "|2||Overview of the source data|\n",
    "|3||Handle missing values|\n",
    "|3|3.1|Drop columns|\n",
    "|3|3.2|Replace values|\n",
    "|3|3.3|Fill missing values|\n",
    "|4||Handle outliers|\n",
    "|4|4.1|Function for z-score outlier detection|\n",
    "|4|4.2|Check the distribution|\n",
    "|4|4.3|Remove outliers|\n",
    "|5||Analysis|\n",
    "|5|5.1|Location Analysis|\n",
    "|5|5.1.1|State Analysis|\n",
    "|5|5.1.2|City Analysis|\n",
    "|5|5.1.3|Street Analysis|\n",
    "|5|5.2|Time Analysis|\n",
    "|5|5.2.1|Year Analysis|\n",
    "|5|5.2.2|Month Analysis|\n",
    "|5|5.2.3|Day Analysis|\n",
    "|5|5.2.4|Hour Analysis|\n",
    "|5|5.2.5|Accident duration analysis|\n",
    "|5|5.2.6|Season Analysis|\n",
    "|5|5.3|Weather Conditions Analysis|\n",
    "|5|5.3.1|Temperature Analysis|\n",
    "|5|5.3.2|Night/Day Analysis|\n",
    "|5|5.3.3|Visibility Analysis|\n",
    "|5|5.3.4|Precipitation Analysis|\n",
    "|5|5.4|Infrastructure Analysis|\n",
    "|5|5.5|Other Analysis|\n",
    "|5|5.5.1|Severity Analysis|\n",
    "|5|5.5.2|Distance Analysis|\n",
    "|99||TBC...|"
   ]
  },
  {
   "cell_type": "markdown",
   "id": "fbd904fc",
   "metadata": {},
   "source": [
    "# 1. Read source data"
   ]
  },
  {
   "cell_type": "code",
   "execution_count": 115,
   "id": "e8ea70d5",
   "metadata": {},
   "outputs": [],
   "source": [
    "import pandas as pd\n",
    "import numpy as np\n",
    "import matplotlib.pyplot as plt\n",
    "import matplotlib.dates as mdates\n",
    "import datetime\n",
    "import geopandas as gdp\n",
    "\n",
    "%matplotlib inline"
   ]
  },
  {
   "cell_type": "code",
   "execution_count": 116,
   "id": "0abaae2c",
   "metadata": {},
   "outputs": [],
   "source": [
    "# Adjust options to show all DF columns \n",
    "pd.set_option(\"display.max_columns\", None)\n",
    "\n",
    "# Set visualizations style\n",
    "plt.style.use(\"fivethirtyeight\")"
   ]
  },
  {
   "cell_type": "markdown",
   "id": "fe185561",
   "metadata": {},
   "source": [
    "### 1.1. Read main dataset"
   ]
  },
  {
   "cell_type": "code",
   "execution_count": 117,
   "id": "d61f0f96",
   "metadata": {
    "scrolled": true
   },
   "outputs": [
    {
     "data": {
      "text/html": [
       "<div>\n",
       "<style scoped>\n",
       "    .dataframe tbody tr th:only-of-type {\n",
       "        vertical-align: middle;\n",
       "    }\n",
       "\n",
       "    .dataframe tbody tr th {\n",
       "        vertical-align: top;\n",
       "    }\n",
       "\n",
       "    .dataframe thead th {\n",
       "        text-align: right;\n",
       "    }\n",
       "</style>\n",
       "<table border=\"1\" class=\"dataframe\">\n",
       "  <thead>\n",
       "    <tr style=\"text-align: right;\">\n",
       "      <th></th>\n",
       "      <th>ID</th>\n",
       "      <th>Severity</th>\n",
       "      <th>Start_Time</th>\n",
       "      <th>End_Time</th>\n",
       "      <th>Start_Lat</th>\n",
       "      <th>Start_Lng</th>\n",
       "      <th>End_Lat</th>\n",
       "      <th>End_Lng</th>\n",
       "      <th>Distance(mi)</th>\n",
       "      <th>Description</th>\n",
       "      <th>Number</th>\n",
       "      <th>Street</th>\n",
       "      <th>Side</th>\n",
       "      <th>City</th>\n",
       "      <th>County</th>\n",
       "      <th>State</th>\n",
       "      <th>Zipcode</th>\n",
       "      <th>Country</th>\n",
       "      <th>Timezone</th>\n",
       "      <th>Airport_Code</th>\n",
       "      <th>Weather_Timestamp</th>\n",
       "      <th>Temperature(F)</th>\n",
       "      <th>Wind_Chill(F)</th>\n",
       "      <th>Humidity(%)</th>\n",
       "      <th>Pressure(in)</th>\n",
       "      <th>Visibility(mi)</th>\n",
       "      <th>Wind_Direction</th>\n",
       "      <th>Wind_Speed(mph)</th>\n",
       "      <th>Precipitation(in)</th>\n",
       "      <th>Weather_Condition</th>\n",
       "      <th>Amenity</th>\n",
       "      <th>Bump</th>\n",
       "      <th>Crossing</th>\n",
       "      <th>Give_Way</th>\n",
       "      <th>Junction</th>\n",
       "      <th>No_Exit</th>\n",
       "      <th>Railway</th>\n",
       "      <th>Roundabout</th>\n",
       "      <th>Station</th>\n",
       "      <th>Stop</th>\n",
       "      <th>Traffic_Calming</th>\n",
       "      <th>Traffic_Signal</th>\n",
       "      <th>Turning_Loop</th>\n",
       "      <th>Sunrise_Sunset</th>\n",
       "      <th>Civil_Twilight</th>\n",
       "      <th>Nautical_Twilight</th>\n",
       "      <th>Astronomical_Twilight</th>\n",
       "    </tr>\n",
       "  </thead>\n",
       "  <tbody>\n",
       "    <tr>\n",
       "      <th>0</th>\n",
       "      <td>A-1</td>\n",
       "      <td>3</td>\n",
       "      <td>2016-02-08 00:37:08</td>\n",
       "      <td>2016-02-08 06:37:08</td>\n",
       "      <td>40.108910</td>\n",
       "      <td>-83.092860</td>\n",
       "      <td>40.112060</td>\n",
       "      <td>-83.031870</td>\n",
       "      <td>3.230</td>\n",
       "      <td>Between Sawmill Rd/Exit 20 and OH-315/Olentang...</td>\n",
       "      <td>NaN</td>\n",
       "      <td>Outerbelt E</td>\n",
       "      <td>R</td>\n",
       "      <td>Dublin</td>\n",
       "      <td>Franklin</td>\n",
       "      <td>OH</td>\n",
       "      <td>43017</td>\n",
       "      <td>US</td>\n",
       "      <td>US/Eastern</td>\n",
       "      <td>KOSU</td>\n",
       "      <td>2016-02-08 00:53:00</td>\n",
       "      <td>42.1</td>\n",
       "      <td>36.1</td>\n",
       "      <td>58.0</td>\n",
       "      <td>29.76</td>\n",
       "      <td>10.0</td>\n",
       "      <td>SW</td>\n",
       "      <td>10.4</td>\n",
       "      <td>0.00</td>\n",
       "      <td>Light Rain</td>\n",
       "      <td>False</td>\n",
       "      <td>False</td>\n",
       "      <td>False</td>\n",
       "      <td>False</td>\n",
       "      <td>False</td>\n",
       "      <td>False</td>\n",
       "      <td>False</td>\n",
       "      <td>False</td>\n",
       "      <td>False</td>\n",
       "      <td>False</td>\n",
       "      <td>False</td>\n",
       "      <td>False</td>\n",
       "      <td>False</td>\n",
       "      <td>Night</td>\n",
       "      <td>Night</td>\n",
       "      <td>Night</td>\n",
       "      <td>Night</td>\n",
       "    </tr>\n",
       "    <tr>\n",
       "      <th>1</th>\n",
       "      <td>A-2</td>\n",
       "      <td>2</td>\n",
       "      <td>2016-02-08 05:56:20</td>\n",
       "      <td>2016-02-08 11:56:20</td>\n",
       "      <td>39.865420</td>\n",
       "      <td>-84.062800</td>\n",
       "      <td>39.865010</td>\n",
       "      <td>-84.048730</td>\n",
       "      <td>0.747</td>\n",
       "      <td>At OH-4/OH-235/Exit 41 - Accident.</td>\n",
       "      <td>NaN</td>\n",
       "      <td>I-70 E</td>\n",
       "      <td>R</td>\n",
       "      <td>Dayton</td>\n",
       "      <td>Montgomery</td>\n",
       "      <td>OH</td>\n",
       "      <td>45424</td>\n",
       "      <td>US</td>\n",
       "      <td>US/Eastern</td>\n",
       "      <td>KFFO</td>\n",
       "      <td>2016-02-08 05:58:00</td>\n",
       "      <td>36.9</td>\n",
       "      <td>NaN</td>\n",
       "      <td>91.0</td>\n",
       "      <td>29.68</td>\n",
       "      <td>10.0</td>\n",
       "      <td>Calm</td>\n",
       "      <td>NaN</td>\n",
       "      <td>0.02</td>\n",
       "      <td>Light Rain</td>\n",
       "      <td>False</td>\n",
       "      <td>False</td>\n",
       "      <td>False</td>\n",
       "      <td>False</td>\n",
       "      <td>False</td>\n",
       "      <td>False</td>\n",
       "      <td>False</td>\n",
       "      <td>False</td>\n",
       "      <td>False</td>\n",
       "      <td>False</td>\n",
       "      <td>False</td>\n",
       "      <td>False</td>\n",
       "      <td>False</td>\n",
       "      <td>Night</td>\n",
       "      <td>Night</td>\n",
       "      <td>Night</td>\n",
       "      <td>Night</td>\n",
       "    </tr>\n",
       "    <tr>\n",
       "      <th>2</th>\n",
       "      <td>A-3</td>\n",
       "      <td>2</td>\n",
       "      <td>2016-02-08 06:15:39</td>\n",
       "      <td>2016-02-08 12:15:39</td>\n",
       "      <td>39.102660</td>\n",
       "      <td>-84.524680</td>\n",
       "      <td>39.102090</td>\n",
       "      <td>-84.523960</td>\n",
       "      <td>0.055</td>\n",
       "      <td>At I-71/US-50/Exit 1 - Accident.</td>\n",
       "      <td>NaN</td>\n",
       "      <td>I-75 S</td>\n",
       "      <td>R</td>\n",
       "      <td>Cincinnati</td>\n",
       "      <td>Hamilton</td>\n",
       "      <td>OH</td>\n",
       "      <td>45203</td>\n",
       "      <td>US</td>\n",
       "      <td>US/Eastern</td>\n",
       "      <td>KLUK</td>\n",
       "      <td>2016-02-08 05:53:00</td>\n",
       "      <td>36.0</td>\n",
       "      <td>NaN</td>\n",
       "      <td>97.0</td>\n",
       "      <td>29.70</td>\n",
       "      <td>10.0</td>\n",
       "      <td>Calm</td>\n",
       "      <td>NaN</td>\n",
       "      <td>0.02</td>\n",
       "      <td>Overcast</td>\n",
       "      <td>False</td>\n",
       "      <td>False</td>\n",
       "      <td>False</td>\n",
       "      <td>False</td>\n",
       "      <td>True</td>\n",
       "      <td>False</td>\n",
       "      <td>False</td>\n",
       "      <td>False</td>\n",
       "      <td>False</td>\n",
       "      <td>False</td>\n",
       "      <td>False</td>\n",
       "      <td>False</td>\n",
       "      <td>False</td>\n",
       "      <td>Night</td>\n",
       "      <td>Night</td>\n",
       "      <td>Night</td>\n",
       "      <td>Day</td>\n",
       "    </tr>\n",
       "    <tr>\n",
       "      <th>3</th>\n",
       "      <td>A-4</td>\n",
       "      <td>2</td>\n",
       "      <td>2016-02-08 06:51:45</td>\n",
       "      <td>2016-02-08 12:51:45</td>\n",
       "      <td>41.062130</td>\n",
       "      <td>-81.537840</td>\n",
       "      <td>41.062170</td>\n",
       "      <td>-81.535470</td>\n",
       "      <td>0.123</td>\n",
       "      <td>At Dart Ave/Exit 21 - Accident.</td>\n",
       "      <td>NaN</td>\n",
       "      <td>I-77 N</td>\n",
       "      <td>R</td>\n",
       "      <td>Akron</td>\n",
       "      <td>Summit</td>\n",
       "      <td>OH</td>\n",
       "      <td>44311</td>\n",
       "      <td>US</td>\n",
       "      <td>US/Eastern</td>\n",
       "      <td>KAKR</td>\n",
       "      <td>2016-02-08 06:54:00</td>\n",
       "      <td>39.0</td>\n",
       "      <td>NaN</td>\n",
       "      <td>55.0</td>\n",
       "      <td>29.65</td>\n",
       "      <td>10.0</td>\n",
       "      <td>Calm</td>\n",
       "      <td>NaN</td>\n",
       "      <td>NaN</td>\n",
       "      <td>Overcast</td>\n",
       "      <td>False</td>\n",
       "      <td>False</td>\n",
       "      <td>False</td>\n",
       "      <td>False</td>\n",
       "      <td>False</td>\n",
       "      <td>False</td>\n",
       "      <td>False</td>\n",
       "      <td>False</td>\n",
       "      <td>False</td>\n",
       "      <td>False</td>\n",
       "      <td>False</td>\n",
       "      <td>False</td>\n",
       "      <td>False</td>\n",
       "      <td>Night</td>\n",
       "      <td>Night</td>\n",
       "      <td>Day</td>\n",
       "      <td>Day</td>\n",
       "    </tr>\n",
       "    <tr>\n",
       "      <th>4</th>\n",
       "      <td>A-5</td>\n",
       "      <td>3</td>\n",
       "      <td>2016-02-08 07:53:43</td>\n",
       "      <td>2016-02-08 13:53:43</td>\n",
       "      <td>39.172393</td>\n",
       "      <td>-84.492792</td>\n",
       "      <td>39.170476</td>\n",
       "      <td>-84.501798</td>\n",
       "      <td>0.500</td>\n",
       "      <td>At Mitchell Ave/Exit 6 - Accident.</td>\n",
       "      <td>NaN</td>\n",
       "      <td>I-75 S</td>\n",
       "      <td>R</td>\n",
       "      <td>Cincinnati</td>\n",
       "      <td>Hamilton</td>\n",
       "      <td>OH</td>\n",
       "      <td>45217</td>\n",
       "      <td>US</td>\n",
       "      <td>US/Eastern</td>\n",
       "      <td>KLUK</td>\n",
       "      <td>2016-02-08 07:53:00</td>\n",
       "      <td>37.0</td>\n",
       "      <td>29.8</td>\n",
       "      <td>93.0</td>\n",
       "      <td>29.69</td>\n",
       "      <td>10.0</td>\n",
       "      <td>WSW</td>\n",
       "      <td>10.4</td>\n",
       "      <td>0.01</td>\n",
       "      <td>Light Rain</td>\n",
       "      <td>False</td>\n",
       "      <td>False</td>\n",
       "      <td>False</td>\n",
       "      <td>False</td>\n",
       "      <td>False</td>\n",
       "      <td>False</td>\n",
       "      <td>False</td>\n",
       "      <td>False</td>\n",
       "      <td>False</td>\n",
       "      <td>False</td>\n",
       "      <td>False</td>\n",
       "      <td>False</td>\n",
       "      <td>False</td>\n",
       "      <td>Day</td>\n",
       "      <td>Day</td>\n",
       "      <td>Day</td>\n",
       "      <td>Day</td>\n",
       "    </tr>\n",
       "  </tbody>\n",
       "</table>\n",
       "</div>"
      ],
      "text/plain": [
       "    ID  Severity           Start_Time             End_Time  Start_Lat  \\\n",
       "0  A-1         3  2016-02-08 00:37:08  2016-02-08 06:37:08  40.108910   \n",
       "1  A-2         2  2016-02-08 05:56:20  2016-02-08 11:56:20  39.865420   \n",
       "2  A-3         2  2016-02-08 06:15:39  2016-02-08 12:15:39  39.102660   \n",
       "3  A-4         2  2016-02-08 06:51:45  2016-02-08 12:51:45  41.062130   \n",
       "4  A-5         3  2016-02-08 07:53:43  2016-02-08 13:53:43  39.172393   \n",
       "\n",
       "   Start_Lng    End_Lat    End_Lng  Distance(mi)  \\\n",
       "0 -83.092860  40.112060 -83.031870         3.230   \n",
       "1 -84.062800  39.865010 -84.048730         0.747   \n",
       "2 -84.524680  39.102090 -84.523960         0.055   \n",
       "3 -81.537840  41.062170 -81.535470         0.123   \n",
       "4 -84.492792  39.170476 -84.501798         0.500   \n",
       "\n",
       "                                         Description  Number       Street  \\\n",
       "0  Between Sawmill Rd/Exit 20 and OH-315/Olentang...     NaN  Outerbelt E   \n",
       "1                 At OH-4/OH-235/Exit 41 - Accident.     NaN       I-70 E   \n",
       "2                   At I-71/US-50/Exit 1 - Accident.     NaN       I-75 S   \n",
       "3                    At Dart Ave/Exit 21 - Accident.     NaN       I-77 N   \n",
       "4                 At Mitchell Ave/Exit 6 - Accident.     NaN       I-75 S   \n",
       "\n",
       "  Side        City      County State Zipcode Country    Timezone Airport_Code  \\\n",
       "0    R      Dublin    Franklin    OH   43017      US  US/Eastern         KOSU   \n",
       "1    R      Dayton  Montgomery    OH   45424      US  US/Eastern         KFFO   \n",
       "2    R  Cincinnati    Hamilton    OH   45203      US  US/Eastern         KLUK   \n",
       "3    R       Akron      Summit    OH   44311      US  US/Eastern         KAKR   \n",
       "4    R  Cincinnati    Hamilton    OH   45217      US  US/Eastern         KLUK   \n",
       "\n",
       "     Weather_Timestamp  Temperature(F)  Wind_Chill(F)  Humidity(%)  \\\n",
       "0  2016-02-08 00:53:00            42.1           36.1         58.0   \n",
       "1  2016-02-08 05:58:00            36.9            NaN         91.0   \n",
       "2  2016-02-08 05:53:00            36.0            NaN         97.0   \n",
       "3  2016-02-08 06:54:00            39.0            NaN         55.0   \n",
       "4  2016-02-08 07:53:00            37.0           29.8         93.0   \n",
       "\n",
       "   Pressure(in)  Visibility(mi) Wind_Direction  Wind_Speed(mph)  \\\n",
       "0         29.76            10.0             SW             10.4   \n",
       "1         29.68            10.0           Calm              NaN   \n",
       "2         29.70            10.0           Calm              NaN   \n",
       "3         29.65            10.0           Calm              NaN   \n",
       "4         29.69            10.0            WSW             10.4   \n",
       "\n",
       "   Precipitation(in) Weather_Condition  Amenity   Bump  Crossing  Give_Way  \\\n",
       "0               0.00        Light Rain    False  False     False     False   \n",
       "1               0.02        Light Rain    False  False     False     False   \n",
       "2               0.02          Overcast    False  False     False     False   \n",
       "3                NaN          Overcast    False  False     False     False   \n",
       "4               0.01        Light Rain    False  False     False     False   \n",
       "\n",
       "   Junction  No_Exit  Railway  Roundabout  Station   Stop  Traffic_Calming  \\\n",
       "0     False    False    False       False    False  False            False   \n",
       "1     False    False    False       False    False  False            False   \n",
       "2      True    False    False       False    False  False            False   \n",
       "3     False    False    False       False    False  False            False   \n",
       "4     False    False    False       False    False  False            False   \n",
       "\n",
       "   Traffic_Signal  Turning_Loop Sunrise_Sunset Civil_Twilight  \\\n",
       "0           False         False          Night          Night   \n",
       "1           False         False          Night          Night   \n",
       "2           False         False          Night          Night   \n",
       "3           False         False          Night          Night   \n",
       "4           False         False            Day            Day   \n",
       "\n",
       "  Nautical_Twilight Astronomical_Twilight  \n",
       "0             Night                 Night  \n",
       "1             Night                 Night  \n",
       "2             Night                   Day  \n",
       "3               Day                   Day  \n",
       "4               Day                   Day  "
      ]
     },
     "execution_count": 117,
     "metadata": {},
     "output_type": "execute_result"
    }
   ],
   "source": [
    "df = pd.read_csv(\"C:/Users/L_L/Documents/Learning Resources/Datasets/US_Accidents_Dec21_updated.csv\")\n",
    "\n",
    "df.head()"
   ]
  },
  {
   "cell_type": "markdown",
   "id": "e7bc7347",
   "metadata": {},
   "source": [
    "### 1.2. Read reference datasets"
   ]
  },
  {
   "cell_type": "code",
   "execution_count": 118,
   "id": "3bbd8168",
   "metadata": {},
   "outputs": [
    {
     "name": "stderr",
     "output_type": "stream",
     "text": [
      "C:\\Users\\L_L\\AppData\\Local\\Temp\\ipykernel_1472\\1610908311.py:7: FutureWarning:\n",
      "\n",
      "The frame.append method is deprecated and will be removed from pandas in a future version. Use pandas.concat instead.\n",
      "\n"
     ]
    }
   ],
   "source": [
    "# US States population dataset\n",
    "df_states_population_raw = pd.read_html(\"https://worldpopulationreview.com/states\")\n",
    "\n",
    "df_states_population_1 = pd.DataFrame(df_states_population_raw[0])\n",
    "df_states_population_2 = pd.DataFrame(df_states_population_raw[1])\n",
    "\n",
    "df_states_population = df_states_population_1.append(df_states_population_2, ignore_index=False)\n",
    "\n",
    "df_states_population = (\n",
    "    df_states_population\n",
    "    .reset_index()\n",
    "    .drop(columns=[\"index\", \"Rank\"])\n",
    "    .sort_values(\"2022 Population\", ascending=False)\n",
    ")\n",
    "\n",
    "df_states_population[\"Rank\"] = (\n",
    "    df_states_population[\"2022 Population\"]\n",
    "    .rank(ascending=False)\n",
    "    .astype(\"int\")\n",
    ")\n",
    "\n",
    "# df_states_population.head(60)"
   ]
  },
  {
   "cell_type": "markdown",
   "id": "474d28fd",
   "metadata": {},
   "source": [
    "# 2. Overview of the source data"
   ]
  },
  {
   "cell_type": "code",
   "execution_count": 119,
   "id": "c3b9ea68",
   "metadata": {
    "scrolled": true
   },
   "outputs": [
    {
     "name": "stdout",
     "output_type": "stream",
     "text": [
      "<class 'pandas.core.frame.DataFrame'>\n",
      "RangeIndex: 2845342 entries, 0 to 2845341\n",
      "Data columns (total 47 columns):\n",
      " #   Column                 Dtype  \n",
      "---  ------                 -----  \n",
      " 0   ID                     object \n",
      " 1   Severity               int64  \n",
      " 2   Start_Time             object \n",
      " 3   End_Time               object \n",
      " 4   Start_Lat              float64\n",
      " 5   Start_Lng              float64\n",
      " 6   End_Lat                float64\n",
      " 7   End_Lng                float64\n",
      " 8   Distance(mi)           float64\n",
      " 9   Description            object \n",
      " 10  Number                 float64\n",
      " 11  Street                 object \n",
      " 12  Side                   object \n",
      " 13  City                   object \n",
      " 14  County                 object \n",
      " 15  State                  object \n",
      " 16  Zipcode                object \n",
      " 17  Country                object \n",
      " 18  Timezone               object \n",
      " 19  Airport_Code           object \n",
      " 20  Weather_Timestamp      object \n",
      " 21  Temperature(F)         float64\n",
      " 22  Wind_Chill(F)          float64\n",
      " 23  Humidity(%)            float64\n",
      " 24  Pressure(in)           float64\n",
      " 25  Visibility(mi)         float64\n",
      " 26  Wind_Direction         object \n",
      " 27  Wind_Speed(mph)        float64\n",
      " 28  Precipitation(in)      float64\n",
      " 29  Weather_Condition      object \n",
      " 30  Amenity                bool   \n",
      " 31  Bump                   bool   \n",
      " 32  Crossing               bool   \n",
      " 33  Give_Way               bool   \n",
      " 34  Junction               bool   \n",
      " 35  No_Exit                bool   \n",
      " 36  Railway                bool   \n",
      " 37  Roundabout             bool   \n",
      " 38  Station                bool   \n",
      " 39  Stop                   bool   \n",
      " 40  Traffic_Calming        bool   \n",
      " 41  Traffic_Signal         bool   \n",
      " 42  Turning_Loop           bool   \n",
      " 43  Sunrise_Sunset         object \n",
      " 44  Civil_Twilight         object \n",
      " 45  Nautical_Twilight      object \n",
      " 46  Astronomical_Twilight  object \n",
      "dtypes: bool(13), float64(13), int64(1), object(20)\n",
      "memory usage: 773.4+ MB\n"
     ]
    }
   ],
   "source": [
    "# Display all columns and their respective data type\n",
    "\n",
    "df.info()"
   ]
  },
  {
   "cell_type": "code",
   "execution_count": 120,
   "id": "601155ed",
   "metadata": {},
   "outputs": [
    {
     "data": {
      "text/html": [
       "<div>\n",
       "<style scoped>\n",
       "    .dataframe tbody tr th:only-of-type {\n",
       "        vertical-align: middle;\n",
       "    }\n",
       "\n",
       "    .dataframe tbody tr th {\n",
       "        vertical-align: top;\n",
       "    }\n",
       "\n",
       "    .dataframe thead th {\n",
       "        text-align: right;\n",
       "    }\n",
       "</style>\n",
       "<table border=\"1\" class=\"dataframe\">\n",
       "  <thead>\n",
       "    <tr style=\"text-align: right;\">\n",
       "      <th></th>\n",
       "      <th>Severity</th>\n",
       "      <th>Start_Lat</th>\n",
       "      <th>Start_Lng</th>\n",
       "      <th>End_Lat</th>\n",
       "      <th>End_Lng</th>\n",
       "      <th>Distance(mi)</th>\n",
       "      <th>Number</th>\n",
       "      <th>Temperature(F)</th>\n",
       "      <th>Wind_Chill(F)</th>\n",
       "      <th>Humidity(%)</th>\n",
       "      <th>Pressure(in)</th>\n",
       "      <th>Visibility(mi)</th>\n",
       "      <th>Wind_Speed(mph)</th>\n",
       "      <th>Precipitation(in)</th>\n",
       "    </tr>\n",
       "  </thead>\n",
       "  <tbody>\n",
       "    <tr>\n",
       "      <th>count</th>\n",
       "      <td>2.845342e+06</td>\n",
       "      <td>2.845342e+06</td>\n",
       "      <td>2.845342e+06</td>\n",
       "      <td>2.845342e+06</td>\n",
       "      <td>2.845342e+06</td>\n",
       "      <td>2.845342e+06</td>\n",
       "      <td>1.101431e+06</td>\n",
       "      <td>2.776068e+06</td>\n",
       "      <td>2.375699e+06</td>\n",
       "      <td>2.772250e+06</td>\n",
       "      <td>2.786142e+06</td>\n",
       "      <td>2.774796e+06</td>\n",
       "      <td>2.687398e+06</td>\n",
       "      <td>2.295884e+06</td>\n",
       "    </tr>\n",
       "    <tr>\n",
       "      <th>mean</th>\n",
       "      <td>2.137572e+00</td>\n",
       "      <td>3.624520e+01</td>\n",
       "      <td>-9.711463e+01</td>\n",
       "      <td>3.624532e+01</td>\n",
       "      <td>-9.711439e+01</td>\n",
       "      <td>7.026779e-01</td>\n",
       "      <td>8.089408e+03</td>\n",
       "      <td>6.179356e+01</td>\n",
       "      <td>5.965823e+01</td>\n",
       "      <td>6.436545e+01</td>\n",
       "      <td>2.947234e+01</td>\n",
       "      <td>9.099391e+00</td>\n",
       "      <td>7.395044e+00</td>\n",
       "      <td>7.016940e-03</td>\n",
       "    </tr>\n",
       "    <tr>\n",
       "      <th>std</th>\n",
       "      <td>4.787216e-01</td>\n",
       "      <td>5.363797e+00</td>\n",
       "      <td>1.831782e+01</td>\n",
       "      <td>5.363873e+00</td>\n",
       "      <td>1.831763e+01</td>\n",
       "      <td>1.560361e+00</td>\n",
       "      <td>1.836009e+04</td>\n",
       "      <td>1.862263e+01</td>\n",
       "      <td>2.116097e+01</td>\n",
       "      <td>2.287457e+01</td>\n",
       "      <td>1.045286e+00</td>\n",
       "      <td>2.717546e+00</td>\n",
       "      <td>5.527454e+00</td>\n",
       "      <td>9.348831e-02</td>\n",
       "    </tr>\n",
       "    <tr>\n",
       "      <th>min</th>\n",
       "      <td>1.000000e+00</td>\n",
       "      <td>2.456603e+01</td>\n",
       "      <td>-1.245481e+02</td>\n",
       "      <td>2.456601e+01</td>\n",
       "      <td>-1.245457e+02</td>\n",
       "      <td>0.000000e+00</td>\n",
       "      <td>0.000000e+00</td>\n",
       "      <td>-8.900000e+01</td>\n",
       "      <td>-8.900000e+01</td>\n",
       "      <td>1.000000e+00</td>\n",
       "      <td>0.000000e+00</td>\n",
       "      <td>0.000000e+00</td>\n",
       "      <td>0.000000e+00</td>\n",
       "      <td>0.000000e+00</td>\n",
       "    </tr>\n",
       "    <tr>\n",
       "      <th>25%</th>\n",
       "      <td>2.000000e+00</td>\n",
       "      <td>3.344517e+01</td>\n",
       "      <td>-1.180331e+02</td>\n",
       "      <td>3.344628e+01</td>\n",
       "      <td>-1.180333e+02</td>\n",
       "      <td>5.200000e-02</td>\n",
       "      <td>1.270000e+03</td>\n",
       "      <td>5.000000e+01</td>\n",
       "      <td>4.600000e+01</td>\n",
       "      <td>4.800000e+01</td>\n",
       "      <td>2.931000e+01</td>\n",
       "      <td>1.000000e+01</td>\n",
       "      <td>3.500000e+00</td>\n",
       "      <td>0.000000e+00</td>\n",
       "    </tr>\n",
       "    <tr>\n",
       "      <th>50%</th>\n",
       "      <td>2.000000e+00</td>\n",
       "      <td>3.609861e+01</td>\n",
       "      <td>-9.241808e+01</td>\n",
       "      <td>3.609799e+01</td>\n",
       "      <td>-9.241772e+01</td>\n",
       "      <td>2.440000e-01</td>\n",
       "      <td>4.007000e+03</td>\n",
       "      <td>6.400000e+01</td>\n",
       "      <td>6.300000e+01</td>\n",
       "      <td>6.700000e+01</td>\n",
       "      <td>2.982000e+01</td>\n",
       "      <td>1.000000e+01</td>\n",
       "      <td>7.000000e+00</td>\n",
       "      <td>0.000000e+00</td>\n",
       "    </tr>\n",
       "    <tr>\n",
       "      <th>75%</th>\n",
       "      <td>2.000000e+00</td>\n",
       "      <td>4.016024e+01</td>\n",
       "      <td>-8.037243e+01</td>\n",
       "      <td>4.016105e+01</td>\n",
       "      <td>-8.037338e+01</td>\n",
       "      <td>7.640000e-01</td>\n",
       "      <td>9.567000e+03</td>\n",
       "      <td>7.600000e+01</td>\n",
       "      <td>7.600000e+01</td>\n",
       "      <td>8.300000e+01</td>\n",
       "      <td>3.001000e+01</td>\n",
       "      <td>1.000000e+01</td>\n",
       "      <td>1.000000e+01</td>\n",
       "      <td>0.000000e+00</td>\n",
       "    </tr>\n",
       "    <tr>\n",
       "      <th>max</th>\n",
       "      <td>4.000000e+00</td>\n",
       "      <td>4.900058e+01</td>\n",
       "      <td>-6.711317e+01</td>\n",
       "      <td>4.907500e+01</td>\n",
       "      <td>-6.710924e+01</td>\n",
       "      <td>1.551860e+02</td>\n",
       "      <td>9.999997e+06</td>\n",
       "      <td>1.960000e+02</td>\n",
       "      <td>1.960000e+02</td>\n",
       "      <td>1.000000e+02</td>\n",
       "      <td>5.890000e+01</td>\n",
       "      <td>1.400000e+02</td>\n",
       "      <td>1.087000e+03</td>\n",
       "      <td>2.400000e+01</td>\n",
       "    </tr>\n",
       "  </tbody>\n",
       "</table>\n",
       "</div>"
      ],
      "text/plain": [
       "           Severity     Start_Lat     Start_Lng       End_Lat       End_Lng  \\\n",
       "count  2.845342e+06  2.845342e+06  2.845342e+06  2.845342e+06  2.845342e+06   \n",
       "mean   2.137572e+00  3.624520e+01 -9.711463e+01  3.624532e+01 -9.711439e+01   \n",
       "std    4.787216e-01  5.363797e+00  1.831782e+01  5.363873e+00  1.831763e+01   \n",
       "min    1.000000e+00  2.456603e+01 -1.245481e+02  2.456601e+01 -1.245457e+02   \n",
       "25%    2.000000e+00  3.344517e+01 -1.180331e+02  3.344628e+01 -1.180333e+02   \n",
       "50%    2.000000e+00  3.609861e+01 -9.241808e+01  3.609799e+01 -9.241772e+01   \n",
       "75%    2.000000e+00  4.016024e+01 -8.037243e+01  4.016105e+01 -8.037338e+01   \n",
       "max    4.000000e+00  4.900058e+01 -6.711317e+01  4.907500e+01 -6.710924e+01   \n",
       "\n",
       "       Distance(mi)        Number  Temperature(F)  Wind_Chill(F)  \\\n",
       "count  2.845342e+06  1.101431e+06    2.776068e+06   2.375699e+06   \n",
       "mean   7.026779e-01  8.089408e+03    6.179356e+01   5.965823e+01   \n",
       "std    1.560361e+00  1.836009e+04    1.862263e+01   2.116097e+01   \n",
       "min    0.000000e+00  0.000000e+00   -8.900000e+01  -8.900000e+01   \n",
       "25%    5.200000e-02  1.270000e+03    5.000000e+01   4.600000e+01   \n",
       "50%    2.440000e-01  4.007000e+03    6.400000e+01   6.300000e+01   \n",
       "75%    7.640000e-01  9.567000e+03    7.600000e+01   7.600000e+01   \n",
       "max    1.551860e+02  9.999997e+06    1.960000e+02   1.960000e+02   \n",
       "\n",
       "        Humidity(%)  Pressure(in)  Visibility(mi)  Wind_Speed(mph)  \\\n",
       "count  2.772250e+06  2.786142e+06    2.774796e+06     2.687398e+06   \n",
       "mean   6.436545e+01  2.947234e+01    9.099391e+00     7.395044e+00   \n",
       "std    2.287457e+01  1.045286e+00    2.717546e+00     5.527454e+00   \n",
       "min    1.000000e+00  0.000000e+00    0.000000e+00     0.000000e+00   \n",
       "25%    4.800000e+01  2.931000e+01    1.000000e+01     3.500000e+00   \n",
       "50%    6.700000e+01  2.982000e+01    1.000000e+01     7.000000e+00   \n",
       "75%    8.300000e+01  3.001000e+01    1.000000e+01     1.000000e+01   \n",
       "max    1.000000e+02  5.890000e+01    1.400000e+02     1.087000e+03   \n",
       "\n",
       "       Precipitation(in)  \n",
       "count       2.295884e+06  \n",
       "mean        7.016940e-03  \n",
       "std         9.348831e-02  \n",
       "min         0.000000e+00  \n",
       "25%         0.000000e+00  \n",
       "50%         0.000000e+00  \n",
       "75%         0.000000e+00  \n",
       "max         2.400000e+01  "
      ]
     },
     "execution_count": 120,
     "metadata": {},
     "output_type": "execute_result"
    }
   ],
   "source": [
    "# Display statistics information for all int/float columns\n",
    "\n",
    "df.describe()"
   ]
  },
  {
   "cell_type": "code",
   "execution_count": 121,
   "id": "2fed5963",
   "metadata": {
    "scrolled": true
   },
   "outputs": [
    {
     "data": {
      "text/html": [
       "<div>\n",
       "<style scoped>\n",
       "    .dataframe tbody tr th:only-of-type {\n",
       "        vertical-align: middle;\n",
       "    }\n",
       "\n",
       "    .dataframe tbody tr th {\n",
       "        vertical-align: top;\n",
       "    }\n",
       "\n",
       "    .dataframe thead th {\n",
       "        text-align: right;\n",
       "    }\n",
       "</style>\n",
       "<table border=\"1\" class=\"dataframe\">\n",
       "  <thead>\n",
       "    <tr style=\"text-align: right;\">\n",
       "      <th></th>\n",
       "      <th>Severity</th>\n",
       "      <th>Start_Lat</th>\n",
       "      <th>Start_Lng</th>\n",
       "      <th>End_Lat</th>\n",
       "      <th>End_Lng</th>\n",
       "      <th>Distance(mi)</th>\n",
       "      <th>Number</th>\n",
       "      <th>Temperature(F)</th>\n",
       "      <th>Wind_Chill(F)</th>\n",
       "      <th>Humidity(%)</th>\n",
       "      <th>Pressure(in)</th>\n",
       "      <th>Visibility(mi)</th>\n",
       "      <th>Wind_Speed(mph)</th>\n",
       "      <th>Precipitation(in)</th>\n",
       "    </tr>\n",
       "  </thead>\n",
       "  <tbody>\n",
       "    <tr>\n",
       "      <th>0</th>\n",
       "      <td>3</td>\n",
       "      <td>40.108910</td>\n",
       "      <td>-83.092860</td>\n",
       "      <td>40.112060</td>\n",
       "      <td>-83.031870</td>\n",
       "      <td>3.230</td>\n",
       "      <td>NaN</td>\n",
       "      <td>42.1</td>\n",
       "      <td>36.1</td>\n",
       "      <td>58.0</td>\n",
       "      <td>29.76</td>\n",
       "      <td>10.0</td>\n",
       "      <td>10.4</td>\n",
       "      <td>0.00</td>\n",
       "    </tr>\n",
       "    <tr>\n",
       "      <th>1</th>\n",
       "      <td>2</td>\n",
       "      <td>39.865420</td>\n",
       "      <td>-84.062800</td>\n",
       "      <td>39.865010</td>\n",
       "      <td>-84.048730</td>\n",
       "      <td>0.747</td>\n",
       "      <td>NaN</td>\n",
       "      <td>36.9</td>\n",
       "      <td>NaN</td>\n",
       "      <td>91.0</td>\n",
       "      <td>29.68</td>\n",
       "      <td>10.0</td>\n",
       "      <td>NaN</td>\n",
       "      <td>0.02</td>\n",
       "    </tr>\n",
       "    <tr>\n",
       "      <th>2</th>\n",
       "      <td>2</td>\n",
       "      <td>39.102660</td>\n",
       "      <td>-84.524680</td>\n",
       "      <td>39.102090</td>\n",
       "      <td>-84.523960</td>\n",
       "      <td>0.055</td>\n",
       "      <td>NaN</td>\n",
       "      <td>36.0</td>\n",
       "      <td>NaN</td>\n",
       "      <td>97.0</td>\n",
       "      <td>29.70</td>\n",
       "      <td>10.0</td>\n",
       "      <td>NaN</td>\n",
       "      <td>0.02</td>\n",
       "    </tr>\n",
       "    <tr>\n",
       "      <th>3</th>\n",
       "      <td>2</td>\n",
       "      <td>41.062130</td>\n",
       "      <td>-81.537840</td>\n",
       "      <td>41.062170</td>\n",
       "      <td>-81.535470</td>\n",
       "      <td>0.123</td>\n",
       "      <td>NaN</td>\n",
       "      <td>39.0</td>\n",
       "      <td>NaN</td>\n",
       "      <td>55.0</td>\n",
       "      <td>29.65</td>\n",
       "      <td>10.0</td>\n",
       "      <td>NaN</td>\n",
       "      <td>NaN</td>\n",
       "    </tr>\n",
       "    <tr>\n",
       "      <th>4</th>\n",
       "      <td>3</td>\n",
       "      <td>39.172393</td>\n",
       "      <td>-84.492792</td>\n",
       "      <td>39.170476</td>\n",
       "      <td>-84.501798</td>\n",
       "      <td>0.500</td>\n",
       "      <td>NaN</td>\n",
       "      <td>37.0</td>\n",
       "      <td>29.8</td>\n",
       "      <td>93.0</td>\n",
       "      <td>29.69</td>\n",
       "      <td>10.0</td>\n",
       "      <td>10.4</td>\n",
       "      <td>0.01</td>\n",
       "    </tr>\n",
       "    <tr>\n",
       "      <th>...</th>\n",
       "      <td>...</td>\n",
       "      <td>...</td>\n",
       "      <td>...</td>\n",
       "      <td>...</td>\n",
       "      <td>...</td>\n",
       "      <td>...</td>\n",
       "      <td>...</td>\n",
       "      <td>...</td>\n",
       "      <td>...</td>\n",
       "      <td>...</td>\n",
       "      <td>...</td>\n",
       "      <td>...</td>\n",
       "      <td>...</td>\n",
       "      <td>...</td>\n",
       "    </tr>\n",
       "    <tr>\n",
       "      <th>2845337</th>\n",
       "      <td>2</td>\n",
       "      <td>34.002480</td>\n",
       "      <td>-117.379360</td>\n",
       "      <td>33.998880</td>\n",
       "      <td>-117.370940</td>\n",
       "      <td>0.543</td>\n",
       "      <td>NaN</td>\n",
       "      <td>86.0</td>\n",
       "      <td>86.0</td>\n",
       "      <td>40.0</td>\n",
       "      <td>28.92</td>\n",
       "      <td>10.0</td>\n",
       "      <td>13.0</td>\n",
       "      <td>0.00</td>\n",
       "    </tr>\n",
       "    <tr>\n",
       "      <th>2845338</th>\n",
       "      <td>2</td>\n",
       "      <td>32.766960</td>\n",
       "      <td>-117.148060</td>\n",
       "      <td>32.765550</td>\n",
       "      <td>-117.153630</td>\n",
       "      <td>0.338</td>\n",
       "      <td>NaN</td>\n",
       "      <td>70.0</td>\n",
       "      <td>70.0</td>\n",
       "      <td>73.0</td>\n",
       "      <td>29.39</td>\n",
       "      <td>10.0</td>\n",
       "      <td>6.0</td>\n",
       "      <td>0.00</td>\n",
       "    </tr>\n",
       "    <tr>\n",
       "      <th>2845339</th>\n",
       "      <td>2</td>\n",
       "      <td>33.775450</td>\n",
       "      <td>-117.847790</td>\n",
       "      <td>33.777400</td>\n",
       "      <td>-117.857270</td>\n",
       "      <td>0.561</td>\n",
       "      <td>NaN</td>\n",
       "      <td>73.0</td>\n",
       "      <td>73.0</td>\n",
       "      <td>64.0</td>\n",
       "      <td>29.74</td>\n",
       "      <td>10.0</td>\n",
       "      <td>10.0</td>\n",
       "      <td>0.00</td>\n",
       "    </tr>\n",
       "    <tr>\n",
       "      <th>2845340</th>\n",
       "      <td>2</td>\n",
       "      <td>33.992460</td>\n",
       "      <td>-118.403020</td>\n",
       "      <td>33.983110</td>\n",
       "      <td>-118.395650</td>\n",
       "      <td>0.772</td>\n",
       "      <td>NaN</td>\n",
       "      <td>71.0</td>\n",
       "      <td>71.0</td>\n",
       "      <td>81.0</td>\n",
       "      <td>29.62</td>\n",
       "      <td>10.0</td>\n",
       "      <td>8.0</td>\n",
       "      <td>0.00</td>\n",
       "    </tr>\n",
       "    <tr>\n",
       "      <th>2845341</th>\n",
       "      <td>2</td>\n",
       "      <td>34.133930</td>\n",
       "      <td>-117.230920</td>\n",
       "      <td>34.137360</td>\n",
       "      <td>-117.239340</td>\n",
       "      <td>0.537</td>\n",
       "      <td>NaN</td>\n",
       "      <td>79.0</td>\n",
       "      <td>79.0</td>\n",
       "      <td>47.0</td>\n",
       "      <td>28.63</td>\n",
       "      <td>7.0</td>\n",
       "      <td>7.0</td>\n",
       "      <td>0.00</td>\n",
       "    </tr>\n",
       "  </tbody>\n",
       "</table>\n",
       "<p>2845342 rows × 14 columns</p>\n",
       "</div>"
      ],
      "text/plain": [
       "         Severity  Start_Lat   Start_Lng    End_Lat     End_Lng  Distance(mi)  \\\n",
       "0               3  40.108910  -83.092860  40.112060  -83.031870         3.230   \n",
       "1               2  39.865420  -84.062800  39.865010  -84.048730         0.747   \n",
       "2               2  39.102660  -84.524680  39.102090  -84.523960         0.055   \n",
       "3               2  41.062130  -81.537840  41.062170  -81.535470         0.123   \n",
       "4               3  39.172393  -84.492792  39.170476  -84.501798         0.500   \n",
       "...           ...        ...         ...        ...         ...           ...   \n",
       "2845337         2  34.002480 -117.379360  33.998880 -117.370940         0.543   \n",
       "2845338         2  32.766960 -117.148060  32.765550 -117.153630         0.338   \n",
       "2845339         2  33.775450 -117.847790  33.777400 -117.857270         0.561   \n",
       "2845340         2  33.992460 -118.403020  33.983110 -118.395650         0.772   \n",
       "2845341         2  34.133930 -117.230920  34.137360 -117.239340         0.537   \n",
       "\n",
       "         Number  Temperature(F)  Wind_Chill(F)  Humidity(%)  Pressure(in)  \\\n",
       "0           NaN            42.1           36.1         58.0         29.76   \n",
       "1           NaN            36.9            NaN         91.0         29.68   \n",
       "2           NaN            36.0            NaN         97.0         29.70   \n",
       "3           NaN            39.0            NaN         55.0         29.65   \n",
       "4           NaN            37.0           29.8         93.0         29.69   \n",
       "...         ...             ...            ...          ...           ...   \n",
       "2845337     NaN            86.0           86.0         40.0         28.92   \n",
       "2845338     NaN            70.0           70.0         73.0         29.39   \n",
       "2845339     NaN            73.0           73.0         64.0         29.74   \n",
       "2845340     NaN            71.0           71.0         81.0         29.62   \n",
       "2845341     NaN            79.0           79.0         47.0         28.63   \n",
       "\n",
       "         Visibility(mi)  Wind_Speed(mph)  Precipitation(in)  \n",
       "0                  10.0             10.4               0.00  \n",
       "1                  10.0              NaN               0.02  \n",
       "2                  10.0              NaN               0.02  \n",
       "3                  10.0              NaN                NaN  \n",
       "4                  10.0             10.4               0.01  \n",
       "...                 ...              ...                ...  \n",
       "2845337            10.0             13.0               0.00  \n",
       "2845338            10.0              6.0               0.00  \n",
       "2845339            10.0             10.0               0.00  \n",
       "2845340            10.0              8.0               0.00  \n",
       "2845341             7.0              7.0               0.00  \n",
       "\n",
       "[2845342 rows x 14 columns]"
      ]
     },
     "execution_count": 121,
     "metadata": {},
     "output_type": "execute_result"
    }
   ],
   "source": [
    "# Display numeric data type columns only \n",
    "\n",
    "df.select_dtypes(\n",
    "    include=[\"int16\", \"int32\", \"int64\", \"float16\", \"float32\", \"float64\"]\n",
    ")"
   ]
  },
  {
   "cell_type": "code",
   "execution_count": 122,
   "id": "8c001ccb",
   "metadata": {
    "scrolled": true
   },
   "outputs": [
    {
     "data": {
      "text/plain": [
       "ID                       False\n",
       "Severity                 False\n",
       "Start_Time               False\n",
       "End_Time                 False\n",
       "Start_Lat                False\n",
       "Start_Lng                False\n",
       "End_Lat                  False\n",
       "End_Lng                  False\n",
       "Distance(mi)             False\n",
       "Description              False\n",
       "Number                    True\n",
       "Street                    True\n",
       "Side                     False\n",
       "City                      True\n",
       "County                   False\n",
       "State                    False\n",
       "Zipcode                   True\n",
       "Country                  False\n",
       "Timezone                  True\n",
       "Airport_Code              True\n",
       "Weather_Timestamp         True\n",
       "Temperature(F)            True\n",
       "Wind_Chill(F)             True\n",
       "Humidity(%)               True\n",
       "Pressure(in)              True\n",
       "Visibility(mi)            True\n",
       "Wind_Direction            True\n",
       "Wind_Speed(mph)           True\n",
       "Precipitation(in)         True\n",
       "Weather_Condition         True\n",
       "Amenity                  False\n",
       "Bump                     False\n",
       "Crossing                 False\n",
       "Give_Way                 False\n",
       "Junction                 False\n",
       "No_Exit                  False\n",
       "Railway                  False\n",
       "Roundabout               False\n",
       "Station                  False\n",
       "Stop                     False\n",
       "Traffic_Calming          False\n",
       "Traffic_Signal           False\n",
       "Turning_Loop             False\n",
       "Sunrise_Sunset            True\n",
       "Civil_Twilight            True\n",
       "Nautical_Twilight         True\n",
       "Astronomical_Twilight     True\n",
       "dtype: bool"
      ]
     },
     "execution_count": 122,
     "metadata": {},
     "output_type": "execute_result"
    }
   ],
   "source": [
    "# Check for columns containing nulls\n",
    "\n",
    "df.isnull().any()"
   ]
  },
  {
   "cell_type": "code",
   "execution_count": 123,
   "id": "fb427a2f",
   "metadata": {},
   "outputs": [],
   "source": [
    "# Convert data types\n",
    "\n",
    "df[\"Weather_Timestamp\"] = pd.to_datetime(df[\"Weather_Timestamp\"])\n",
    "df[\"Start_Time\"] = pd.to_datetime(df[\"Start_Time\"])\n",
    "df[\"End_Time\"] = pd.to_datetime(df[\"End_Time\"])"
   ]
  },
  {
   "cell_type": "code",
   "execution_count": 124,
   "id": "113c2405",
   "metadata": {},
   "outputs": [
    {
     "data": {
      "image/png": "[encoded data removed]",
      "text/plain": [
       "<Figure size 648x432 with 1 Axes>"
      ]
     },
     "metadata": {},
     "output_type": "display_data"
    }
   ],
   "source": [
    "# Display count of empty values per column in descending order\n",
    "\n",
    "percent_null_values = df.isnull().sum().sort_values(ascending=True) / len(df) * 100\n",
    "\n",
    "columns = percent_null_values[percent_null_values > 0].index\n",
    "values = percent_null_values[percent_null_values > 0].values\n",
    "values_rounded = np.round(percent_null_values[percent_null_values > 0].values, 4)\n",
    "\n",
    "# PLot on a horizontal bar chart, since there are many columns with missing values\n",
    "plt_size = plt.figure(figsize=(9,6))\n",
    "barElements = plt.barh(columns, values)\n",
    "\n",
    "# Add labels with the total number of accidents\n",
    "for element, label in zip(barElements, [str(i) + \"%\" for i in values_rounded]):\n",
    "    plt.text(\n",
    "        element.get_x() + (element.get_width() + 1), \n",
    "        element.get_y() + (element.get_height() / 4), \n",
    "        label, \n",
    "        bbox=({\"facecolor\":\"gray\", \"alpha\":0.2, \"boxstyle\":\"round, pad=0.05\"}), \n",
    "        fontsize=12\n",
    "    )\n",
    "\n",
    "plt.xlabel(\"% Missing values\", fontweight=\"bold\", fontsize=13)\n",
    "plt.yticks(size=13)\n",
    "plt.xticks([i for i in range(61) if i % 5 == 0], size=13)\n",
    "plt.title(\"% Missing values by column\", fontweight=\"bold\", fontsize=16)\n",
    "plt.grid(False)"
   ]
  },
  {
   "cell_type": "code",
   "execution_count": 125,
   "id": "113fc958",
   "metadata": {},
   "outputs": [
    {
     "data": {
      "text/plain": [
       "Street                    0.000070\n",
       "City                      0.004815\n",
       "Zipcode                   0.046356\n",
       "Civil_Twilight            0.100761\n",
       "Sunrise_Sunset            0.100761\n",
       "Astronomical_Twilight     0.100761\n",
       "Nautical_Twilight         0.100761\n",
       "Timezone                  0.128596\n",
       "Airport_Code              0.335601\n",
       "Weather_Timestamp         1.783125\n",
       "Pressure(in)              2.080593\n",
       "Temperature(F)            2.434646\n",
       "Visibility(mi)            2.479350\n",
       "Weather_Condition         2.482514\n",
       "Humidity(%)               2.568830\n",
       "Wind_Direction            2.592834\n",
       "Wind_Speed(mph)           5.550967\n",
       "Wind_Chill(F)            16.505678\n",
       "Precipitation(in)        19.310789\n",
       "Number                   61.290031\n",
       "dtype: float64"
      ]
     },
     "execution_count": 125,
     "metadata": {},
     "output_type": "execute_result"
    }
   ],
   "source": [
    "percent_null_values[percent_null_values > 0]"
   ]
  },
  {
   "cell_type": "markdown",
   "id": "d2cb348b",
   "metadata": {},
   "source": [
    "# 3. Handle missing values"
   ]
  },
  {
   "cell_type": "markdown",
   "id": "2ae80e82",
   "metadata": {},
   "source": [
    "### 3.1. Drop columns"
   ]
  },
  {
   "cell_type": "code",
   "execution_count": 126,
   "id": "bc38bf38",
   "metadata": {},
   "outputs": [],
   "source": [
    "# Drop columns of little or no use\n",
    "\n",
    "# Drop the \"Number\" (Street Number) column since most of the values are missing and we are not goind to use it in our analysis\n",
    "df = df.drop(columns = [\"Number\"])\n",
    "\n",
    "# Drop the \"Country\" column since we know that all of the data is about the US\n",
    "df = df.drop(columns = [\"Country\"])\n",
    "\n",
    "# Drop twilight columns except for the \"Sunrise_Sunset\" one, which we are going to use\n",
    "df = df.drop(columns = [\"Nautical_Twilight\", \"Astronomical_Twilight\", \"Civil_Twilight\"])\n",
    "\n",
    "# Drop missing values from all of the following columns since they represent < 1% of the data and we can't fill the missing values.\n",
    "df = df.dropna(subset=[\"Airport_Code\", \"Street\", \"City\", \"Zipcode\", \"Sunrise_Sunset\", \"Timezone\"])\n",
    "\n",
    "# Drop column \"Weather_Timestamp\" since it is almost identical with column \"Start_time\", which was confirmed using the following code:\n",
    "# (df.Weather_Timestamp - df.Start_Time).mean()\n",
    "df = df.dropna(subset=[\"Weather_Timestamp\"])"
   ]
  },
  {
   "cell_type": "markdown",
   "id": "aad7e6ec",
   "metadata": {},
   "source": [
    "### 3.2. Replace values"
   ]
  },
  {
   "cell_type": "code",
   "execution_count": 127,
   "id": "8e7b2c97",
   "metadata": {},
   "outputs": [],
   "source": [
    "# Replace values in columns\n",
    "\n",
    "# Clean and simplify column \"Wind_Direction\"\n",
    "df[\"Wind_Direction\"] = (\n",
    "    df[\"Wind_Direction\"]\n",
    "    .str.replace(\"WSW\", \"W\")\n",
    "    .str.replace(\"WNW\", \"W\")\n",
    "    .str.replace(\"SSW\", \"S\")\n",
    "    .str.replace(\"SSE\", \"S\")\n",
    "    .str.replace(\"NNW\", \"N\")\n",
    "    .str.replace(\"NNE\", \"N\")\n",
    "    .str.replace(\"ESE\", \"E\")\n",
    "    .str.replace(\"ENE\", \"E\")\n",
    "    .str.replace(\"Variable\", \"VAR\")\n",
    "    .str.replace(\"Calm\", \"CALM\")\n",
    ")"
   ]
  },
  {
   "cell_type": "markdown",
   "id": "ebff55ec",
   "metadata": {},
   "source": [
    "### 3.3. Fill missing values"
   ]
  },
  {
   "cell_type": "code",
   "execution_count": 128,
   "id": "f76119d6",
   "metadata": {},
   "outputs": [],
   "source": [
    "# Fill missing values in numerical columns\n",
    "df = df.fillna(\n",
    "    {\n",
    "        \"Precipitation(in)\":df[\"Precipitation(in)\"].mean(),\n",
    "        \"Wind_Chill(F)\":df[\"Wind_Chill(F)\"].mean(),\n",
    "        \"Wind_Speed(mph)\":df[\"Wind_Speed(mph)\"].mean(),\n",
    "        \"Humidity(%)\":df[\"Humidity(%)\"].mean(),\n",
    "        \"Visibility(mi)\":df[\"Visibility(mi)\"].mean(),\n",
    "        \"Temperature(F)\":df[\"Temperature(F)\"].mean(),\n",
    "        \"Pressure(in)\":df[\"Pressure(in)\"].mean()\n",
    "    }\n",
    ")\n",
    "\n",
    "# Fill missing values in categorical columns\n",
    "df = df.fillna(\n",
    "    {\n",
    "        \"Wind_Direction\":df[\"Wind_Direction\"].mode(),\n",
    "        \"Weather_Condition\":df[\"Weather_Condition\"].mode()\n",
    "    }\n",
    ")"
   ]
  },
  {
   "cell_type": "markdown",
   "id": "dc76d82a",
   "metadata": {},
   "source": [
    "# 4. Handle outliers"
   ]
  },
  {
   "cell_type": "markdown",
   "id": "ee2b2be8",
   "metadata": {},
   "source": [
    "### 4.1. Function for z-score outlier detection"
   ]
  },
  {
   "cell_type": "code",
   "execution_count": 129,
   "id": "22568642",
   "metadata": {},
   "outputs": [],
   "source": [
    "# Define function that will determine outliers by using the z-score technique. Every value that fall outside the three standard deviation boundaries will be considered as an outlier.\n",
    "\n",
    "def detect_outliers(df, col):\n",
    "    lower_limit = df[col].mean() + (df[col].std() * 3)\n",
    "    upper_limit = df[col].mean() - (df[col].std() * 3)\n",
    "    return lower_limit, upper_limit"
   ]
  },
  {
   "cell_type": "markdown",
   "id": "ea6b88c7",
   "metadata": {},
   "source": [
    "### 4.2. Check the distribution"
   ]
  },
  {
   "cell_type": "code",
   "execution_count": 130,
   "id": "5ef8d36d",
   "metadata": {},
   "outputs": [
    {
     "data": {
      "text/plain": [
       "' \\nWe can see that there are some absurd observations like:\\n    - Tempreture of almost 200F; \\n    - Wind speed of more than 1000 mph;\\n    - Air pressure of more than 60 inches.\\n'"
      ]
     },
     "execution_count": 130,
     "metadata": {},
     "output_type": "execute_result"
    },
    {
     "data": {
      "image/png": "[encoded data removed]",
      "text/plain": [
       "<Figure size 1440x1440 with 16 Axes>"
      ]
     },
     "metadata": {},
     "output_type": "display_data"
    }
   ],
   "source": [
    "# Check the distribution of all numeric columns using histograms\n",
    "\n",
    "df[[i for i in df.describe().columns]].hist(bins=50, rwidth=0.8, figsize=(20,20))\n",
    "\n",
    "\n",
    "\"\"\" \n",
    "We can see that there are some absurd observations like:\n",
    "    - Tempreture of almost 200F; \n",
    "    - Wind speed of more than 1000 mph;\n",
    "    - Air pressure of more than 60 inches.\n",
    "\"\"\""
   ]
  },
  {
   "cell_type": "markdown",
   "id": "004b37db",
   "metadata": {},
   "source": [
    "### 4.3. Remove outliers"
   ]
  },
  {
   "cell_type": "code",
   "execution_count": 131,
   "id": "7776969d",
   "metadata": {},
   "outputs": [],
   "source": [
    "# Create a dictionary to hold the lower and upper bounderies for each numeric column\n",
    "outliers_bounderies = {}\n",
    "\n",
    "for i in df.describe().columns:\n",
    "    outliers_bounderies[i] = {\"upper\":detect_outliers(df, i)[0], \"lower\":detect_outliers(df, i)[1]}\n",
    "\n",
    "# Remove outliers based on the calculated lower and upper bounderies\n",
    "for i in outliers_bounderies:\n",
    "    df = df[(df[i] > outliers_bounderies[i][\"lower\"]) & (df[i] < outliers_bounderies[i][\"upper\"])]"
   ]
  },
  {
   "cell_type": "markdown",
   "id": "f8a346a8",
   "metadata": {},
   "source": [
    "# 5. Analysis"
   ]
  },
  {
   "cell_type": "markdown",
   "id": "0923f1dd",
   "metadata": {},
   "source": [
    "### 5.1. Location Analysis"
   ]
  },
  {
   "cell_type": "markdown",
   "id": "34844df7",
   "metadata": {},
   "source": [
    "#### 5.1.1. State Analysis"
   ]
  },
  {
   "cell_type": "code",
   "execution_count": 132,
   "id": "66819281",
   "metadata": {},
   "outputs": [],
   "source": [
    "states_dict = {\n",
    "    \"Alabama\":\"AL\",\n",
    "    \"Alaska\":\"AK\",\n",
    "    \"Arizona\":\"AZ\",\n",
    "    \"Arkansas\":\"AR\",\n",
    "    \"California\":\"CA\",\n",
    "    \"Colorado\":\"CO\",\n",
    "    \"Connecticut\":\"CT\",\n",
    "    \"District of Columbia\":\"DC\",\n",
    "    \"Delaware\":\"DE\",\n",
    "    \"Florida\":\"FL\",\n",
    "    \"Georgia\":\"GA\",\n",
    "    \"Hawaii\":\"HI\",\n",
    "    \"Idaho\":\"ID\",\n",
    "    \"Illinois\":\"IL\",\n",
    "    \"Indiana\":\"IN\",\n",
    "    \"Iowa\":\"IA\",\n",
    "    \"Kansas\":\"KS\",\n",
    "    \"Kentucky\":\"KY\",\n",
    "    \"Louisiana\":\"LA\",\n",
    "    \"Maine\":\"ME\",\n",
    "    \"Maryland\":\"MD\",\n",
    "    \"Massachusetts\":\"MA\",\n",
    "    \"Michigan\":\"MI\",\n",
    "    \"Minnesota\":\"MN\",\n",
    "    \"Mississippi\":\"MS\",\n",
    "    \"Missouri\":\"MO\",\n",
    "    \"Montana\":\"MT\",\n",
    "    \"Nebraska\":\"NE\",\n",
    "    \"Nevada\":\"NV\",\n",
    "    \"New Hampshire\":\"NH\",\n",
    "    \"New Jersey\":\"NJ\",\n",
    "    \"New Mexico\":\"NM\",\n",
    "    \"New York\":\"NY\",\n",
    "    \"North Carolina\":\"NC\",\n",
    "    \"North Dakota\":\"ND\",\n",
    "    \"Ohio\":\"OH\",\n",
    "    \"Oklahoma\":\"OK\",\n",
    "    \"Oregon\":\"OR\",\n",
    "    \"Pennsylvania\":\"PA\",\n",
    "    \"Rhode Island\":\"RI\",\n",
    "    \"South Carolina\":\"SC\",\n",
    "    \"South Dakota\":\"SD\",\n",
    "    \"Tennessee\":\"TN\",\n",
    "    \"Texas\":\"TX\",\n",
    "    \"Utah\":\"UT\",\n",
    "    \"Vermont\":\"VT\",\n",
    "    \"Virginia\":\"VA\",\n",
    "    \"Washington\":\"WA\",\n",
    "    \"West Virginia\":\"WV\",\n",
    "    \"Wisconsin\":\"WI\",\n",
    "    \"Wyoming\":\"WY\"\n",
    "}"
   ]
  },
  {
   "cell_type": "markdown",
   "id": "9e3428ee",
   "metadata": {},
   "source": [
    "INSIGHT: California is the State with the most car accidents. It is leading by quite a lot from the second (Florida) and the third (Texas) state."
   ]
  },
  {
   "cell_type": "code",
   "execution_count": 133,
   "id": "250eedce",
   "metadata": {},
   "outputs": [],
   "source": [
    "# Create new DataFrame to hold states by total number of accidents\n",
    "df_top_states = (\n",
    "    df[\"State\"]\n",
    "    .value_counts()\n",
    "    .to_frame()\n",
    ")\n",
    "\n",
    "# Rename indexs and columns\n",
    "df_top_states = (\n",
    "    df_top_states\n",
    "    .rename(index=dict(zip(list(states_dict.values()), list(states_dict.keys()))))\n",
    "    .rename(columns={\"State\":\"Total\"})\n",
    ")\n",
    "\n",
    "# Calculate percent values\n",
    "df_top_states[\"Percent\"] = (df_top_states[\"Total\"] / df_top_states[\"Total\"].sum()) * 100"
   ]
  },
  {
   "cell_type": "code",
   "execution_count": 134,
   "id": "08df5e7c",
   "metadata": {},
   "outputs": [
    {
     "data": {
      "image/png": "[encoded data removed]",
      "text/plain": [
       "<Figure size 648x432 with 1 Axes>"
      ]
     },
     "metadata": {},
     "output_type": "display_data"
    }
   ],
   "source": [
    "# Visualize using a horizontal bar chart to show comparison among the categories.\n",
    "\n",
    "x_state = df_top_states[\"Percent\"].nlargest(10).sort_values(ascending=True).index\n",
    "y_percent = df_top_states[\"Percent\"].nlargest(10).sort_values(ascending=True).values\n",
    "# This variable will be used for the total number labels\n",
    "bar_labels = [format(i, \",d\") for i in df_top_states[\"Total\"].nlargest(10).sort_values(ascending=True).values]\n",
    "\n",
    "plt_size = plt.figure(figsize=(9,6))\n",
    "barElements = plt.barh(x_state, y_percent, height=0.7)\n",
    "\n",
    "# Add labels with the total number of accidents\n",
    "for element, label in zip(barElements, bar_labels):\n",
    "    plt.text(\n",
    "        element.get_x() + (element.get_width() + 0.3), \n",
    "        element.get_y() + (element.get_height() / 2.6), \n",
    "        label, \n",
    "        fontsize=12\n",
    "    )\n",
    "\n",
    "plt.title(\"Top 10 States with the highest percent of accidents\\n (2016 - 2021)\", fontsize=16, fontweight=\"bold\", pad=10)\n",
    "plt.ylabel(\"State\", fontsize=13, fontweight=\"bold\")\n",
    "plt.yticks(size=13)\n",
    "plt.xlabel(\"% of Total Accidents\", fontsize=13, fontweight=\"bold\")\n",
    "plt.xticks(size=13)\n",
    "plt.grid(False)\n",
    "plt.tight_layout()\n",
    "plt.show()"
   ]
  },
  {
   "cell_type": "markdown",
   "id": "38492e32",
   "metadata": {},
   "source": [
    "INSIGHT: Wyoming, South Dakota and Vermont are the US states with the least number of car accidents."
   ]
  },
  {
   "cell_type": "code",
   "execution_count": 135,
   "id": "592d17c3",
   "metadata": {},
   "outputs": [
    {
     "data": {
      "image/png": "[encoded data removed]",
      "text/plain": [
       "<Figure size 648x432 with 1 Axes>"
      ]
     },
     "metadata": {},
     "output_type": "display_data"
    }
   ],
   "source": [
    "# Visualize using a horizontal bar chart to show comparison among the categories.\n",
    "\n",
    "x_state = df_top_states[\"Percent\"].nsmallest(10).sort_values(ascending=False).index\n",
    "y_percent = df_top_states[\"Percent\"].nsmallest(10).sort_values(ascending=False).values\n",
    "# This variable will be used for the total number labels\n",
    "bar_labels = [format(i, \",d\") for i in df_top_states[\"Total\"].nsmallest(10).sort_values(ascending=False).values]\n",
    "\n",
    "plt_size = plt.figure(figsize=(9,6))\n",
    "barElements = plt.barh(x_state, y_percent)\n",
    "\n",
    "# Add labels with the total number of accidents\n",
    "for element, label in zip(barElements, bar_labels):\n",
    "    plt.text(\n",
    "        element.get_x() + (element.get_width() + 0.001), \n",
    "        element.get_y() + (element.get_height() / 2.6), \n",
    "        label, \n",
    "        fontsize=12\n",
    "    )\n",
    "\n",
    "plt.title(\"Top 10 States with the lowest percent of accidents\\n (2016 - 2021)\", fontsize=16, fontweight=\"bold\", pad=10)\n",
    "plt.ylabel(\"State\", fontsize=13, fontweight=\"bold\")\n",
    "plt.yticks(size=13)\n",
    "plt.xlabel(\"% of Total Accidents\", fontsize=13, fontweight=\"bold\")\n",
    "plt.xticks(size=13)\n",
    "plt.grid(False)\n",
    "plt.tight_layout()\n",
    "\n",
    "# Set the alpha of each bar according to its value\n",
    "for i, y in zip(list(range(len(barElements))), y_percent):\n",
    "    barElements[i].set_alpha((y / max(y_percent)))\n",
    "\n",
    "plt.show()"
   ]
  },
  {
   "cell_type": "code",
   "execution_count": 163,
   "id": "c0c7969b",
   "metadata": {},
   "outputs": [
    {
     "data": {
      "image/png": "[encoded data removed]",
      "text/plain": [
       "<Figure size 1080x720 with 2 Axes>"
      ]
     },
     "metadata": {},
     "output_type": "display_data"
    }
   ],
   "source": [
    "# define the path to the shape file and read it\n",
    "shape_path = \"C:/Users/L_L/Documents/GitHub Repositories/Exploratory-Data-Analysis/EDA - US Accidents/Shapefiles/cb_2018_us_state_500k.shp\"\n",
    "shape = gdp.read_file(shape_path)\n",
    "\n",
    "df_top_states_map = df_top_states.reset_index().rename(columns={\"index\":\"State\"})\n",
    "# merge the shape file with the DataFrame that holds the numeric values that we would like to plot\n",
    "shape_merged = shape.merge(df_top_states_map, left_on=\"NAME\", right_on=\"State\", how=\"left\").dropna(subset=\"State\")\n",
    "\n",
    "# plot the data\n",
    "ax = shape_merged.boundary.plot(edgecolor=\"gray\", linewidth=0.2, figsize=(15,10))\n",
    "shape_merged.plot(ax=ax, column=\"Total\", legend=True, cmap=\"Reds\", legend_kwds={\"shrink\":0.4, \"orientation\":\"vertical\"})\n",
    "plt.grid(False)\n",
    "ax.get_xaxis().set_visible(False)\n",
    "ax.get_yaxis().set_visible(False)\n",
    "plt.title(\"Total accidents by State (2016 - 2021)\", fontweight=\"bold\", fontsize=16, pad=10)\n",
    "plt.show()"
   ]
  },
  {
   "cell_type": "code",
   "execution_count": 137,
   "id": "9a63df51",
   "metadata": {},
   "outputs": [],
   "source": [
    "import plotly as py \n",
    "from plotly.offline import download_plotlyjs, init_notebook_mode, plot, iplot \n",
    "import plotly.graph_objs as go"
   ]
  },
  {
   "cell_type": "code",
   "execution_count": 219,
   "id": "c9412de8",
   "metadata": {},
   "outputs": [
    {
     "data": {
      "application/vnd.plotly.v1+json": {
       "config": {
        "plotlyServerURL": "https://plot.ly"
       },
       "data": [
        {
         "colorbar": {
          "title": {
           "text": "Total Accidents"
          }
         },
         "colorscale": [
          [
           0,
           "rgb(255,245,240)"
          ],
          [
           0.125,
           "rgb(254,224,210)"
          ],
          [
           0.25,
           "rgb(252,187,161)"
          ],
          [
           0.375,
           "rgb(252,146,114)"
          ],
          [
           0.5,
           "rgb(251,106,74)"
          ],
          [
           0.625,
           "rgb(239,59,44)"
          ],
          [
           0.75,
           "rgb(203,24,29)"
          ],
          [
           0.875,
           "rgb(165,15,21)"
          ],
          [
           1,
           "rgb(103,0,13)"
          ]
         ],
         "locationmode": "USA-states",
         "locations": [
          "CA",
          "FL",
          "TX",
          "OR",
          "VA",
          "NY",
          "PA",
          "SC",
          "NC",
          "MN",
          "TN",
          "MD",
          "AZ",
          "NJ",
          "LA",
          "IL",
          "MI",
          "GA",
          "WA",
          "MO",
          "CT",
          "OH",
          "AL",
          "IN",
          "UT",
          "AR",
          "DC",
          "OK",
          "KS",
          "WV",
          "ID",
          "IA",
          "MT",
          "MA",
          "KY",
          "WI",
          "MS",
          "CO",
          "RI",
          "DE",
          "NH",
          "NE",
          "NV",
          "ME",
          "ND",
          "NM",
          "VT",
          "SD",
          "WY"
         ],
         "marker": {
          "line": {
           "color": "rgb(200,200,200)",
           "width": 0.6
          }
         },
         "text": [
          "California",
          "Florida",
          "Texas",
          "Oregon",
          "Virginia",
          "New York",
          "Pennsylvania",
          "South Carolina",
          "North Carolina",
          "Minnesota",
          "Tennessee",
          "Maryland",
          "Arizona",
          "New Jersey",
          "Louisiana",
          "Illinois",
          "Michigan",
          "Georgia",
          "Washington",
          "Missouri",
          "Connecticut",
          "Ohio",
          "Alabama",
          "Indiana",
          "Utah",
          "Arkansas",
          "District of Columbia",
          "Oklahoma",
          "Kansas",
          "West Virginia",
          "Idaho",
          "Iowa",
          "Montana",
          "Massachusetts",
          "Kentucky",
          "Wisconsin",
          "Mississippi",
          "Colorado",
          "Rhode Island",
          "Delaware",
          "New Hampshire",
          "Nebraska",
          "Nevada",
          "Maine",
          "North Dakota",
          "New Mexico",
          "Vermont",
          "South Dakota",
          "Wyoming"
         ],
         "type": "choropleth",
         "z": [
          739136,
          378118,
          136390,
          103865,
          94841,
          93718,
          84970,
          83298,
          83179,
          76685,
          48862,
          48818,
          47277,
          46272,
          44012,
          41078,
          36112,
          30783,
          28442,
          26189,
          25599,
          18078,
          17052,
          15867,
          8854,
          8599,
          8226,
          8012,
          7837,
          6630,
          6282,
          6173,
          5725,
          5540,
          5532,
          4727,
          4673,
          4192,
          4029,
          3704,
          3305,
          2467,
          2418,
          1868,
          1248,
          487,
          271,
          131,
          57
         ]
        }
       ],
       "layout": {
        "geo": {
         "scope": "usa"
        },
        "height": 500,
        "margin": {
         "b": 20,
         "l": 0,
         "r": 0,
         "t": 50
        },
        "template": {
         "data": {
          "bar": [
           {
            "error_x": {
             "color": "#2a3f5f"
            },
            "error_y": {
             "color": "#2a3f5f"
            },
            "marker": {
             "line": {
              "color": "#E5ECF6",
              "width": 0.5
             },
             "pattern": {
              "fillmode": "overlay",
              "size": 10,
              "solidity": 0.2
             }
            },
            "type": "bar"
           }
          ],
          "barpolar": [
           {
            "marker": {
             "line": {
              "color": "#E5ECF6",
              "width": 0.5
             },
             "pattern": {
              "fillmode": "overlay",
              "size": 10,
              "solidity": 0.2
             }
            },
            "type": "barpolar"
           }
          ],
          "carpet": [
           {
            "aaxis": {
             "endlinecolor": "#2a3f5f",
             "gridcolor": "white",
             "linecolor": "white",
             "minorgridcolor": "white",
             "startlinecolor": "#2a3f5f"
            },
            "baxis": {
             "endlinecolor": "#2a3f5f",
             "gridcolor": "white",
             "linecolor": "white",
             "minorgridcolor": "white",
             "startlinecolor": "#2a3f5f"
            },
            "type": "carpet"
           }
          ],
          "choropleth": [
           {
            "colorbar": {
             "outlinewidth": 0,
             "ticks": ""
            },
            "type": "choropleth"
           }
          ],
          "contour": [
           {
            "colorbar": {
             "outlinewidth": 0,
             "ticks": ""
            },
            "colorscale": [
             [
              0,
              "#0d0887"
             ],
             [
              0.1111111111111111,
              "#46039f"
             ],
             [
              0.2222222222222222,
              "#7201a8"
             ],
             [
              0.3333333333333333,
              "#9c179e"
             ],
             [
              0.4444444444444444,
              "#bd3786"
             ],
             [
              0.5555555555555556,
              "#d8576b"
             ],
             [
              0.6666666666666666,
              "#ed7953"
             ],
             [
              0.7777777777777778,
              "#fb9f3a"
             ],
             [
              0.8888888888888888,
              "#fdca26"
             ],
             [
              1,
              "#f0f921"
             ]
            ],
            "type": "contour"
           }
          ],
          "contourcarpet": [
           {
            "colorbar": {
             "outlinewidth": 0,
             "ticks": ""
            },
            "type": "contourcarpet"
           }
          ],
          "heatmap": [
           {
            "colorbar": {
             "outlinewidth": 0,
             "ticks": ""
            },
            "colorscale": [
             [
              0,
              "#0d0887"
             ],
             [
              0.1111111111111111,
              "#46039f"
             ],
             [
              0.2222222222222222,
              "#7201a8"
             ],
             [
              0.3333333333333333,
              "#9c179e"
             ],
             [
              0.4444444444444444,
              "#bd3786"
             ],
             [
              0.5555555555555556,
              "#d8576b"
             ],
             [
              0.6666666666666666,
              "#ed7953"
             ],
             [
              0.7777777777777778,
              "#fb9f3a"
             ],
             [
              0.8888888888888888,
              "#fdca26"
             ],
             [
              1,
              "#f0f921"
             ]
            ],
            "type": "heatmap"
           }
          ],
          "heatmapgl": [
           {
            "colorbar": {
             "outlinewidth": 0,
             "ticks": ""
            },
            "colorscale": [
             [
              0,
              "#0d0887"
             ],
             [
              0.1111111111111111,
              "#46039f"
             ],
             [
              0.2222222222222222,
              "#7201a8"
             ],
             [
              0.3333333333333333,
              "#9c179e"
             ],
             [
              0.4444444444444444,
              "#bd3786"
             ],
             [
              0.5555555555555556,
              "#d8576b"
             ],
             [
              0.6666666666666666,
              "#ed7953"
             ],
             [
              0.7777777777777778,
              "#fb9f3a"
             ],
             [
              0.8888888888888888,
              "#fdca26"
             ],
             [
              1,
              "#f0f921"
             ]
            ],
            "type": "heatmapgl"
           }
          ],
          "histogram": [
           {
            "marker": {
             "pattern": {
              "fillmode": "overlay",
              "size": 10,
              "solidity": 0.2
             }
            },
            "type": "histogram"
           }
          ],
          "histogram2d": [
           {
            "colorbar": {
             "outlinewidth": 0,
             "ticks": ""
            },
            "colorscale": [
             [
              0,
              "#0d0887"
             ],
             [
              0.1111111111111111,
              "#46039f"
             ],
             [
              0.2222222222222222,
              "#7201a8"
             ],
             [
              0.3333333333333333,
              "#9c179e"
             ],
             [
              0.4444444444444444,
              "#bd3786"
             ],
             [
              0.5555555555555556,
              "#d8576b"
             ],
             [
              0.6666666666666666,
              "#ed7953"
             ],
             [
              0.7777777777777778,
              "#fb9f3a"
             ],
             [
              0.8888888888888888,
              "#fdca26"
             ],
             [
              1,
              "#f0f921"
             ]
            ],
            "type": "histogram2d"
           }
          ],
          "histogram2dcontour": [
           {
            "colorbar": {
             "outlinewidth": 0,
             "ticks": ""
            },
            "colorscale": [
             [
              0,
              "#0d0887"
             ],
             [
              0.1111111111111111,
              "#46039f"
             ],
             [
              0.2222222222222222,
              "#7201a8"
             ],
             [
              0.3333333333333333,
              "#9c179e"
             ],
             [
              0.4444444444444444,
              "#bd3786"
             ],
             [
              0.5555555555555556,
              "#d8576b"
             ],
             [
              0.6666666666666666,
              "#ed7953"
             ],
             [
              0.7777777777777778,
              "#fb9f3a"
             ],
             [
              0.8888888888888888,
              "#fdca26"
             ],
             [
              1,
              "#f0f921"
             ]
            ],
            "type": "histogram2dcontour"
           }
          ],
          "mesh3d": [
           {
            "colorbar": {
             "outlinewidth": 0,
             "ticks": ""
            },
            "type": "mesh3d"
           }
          ],
          "parcoords": [
           {
            "line": {
             "colorbar": {
              "outlinewidth": 0,
              "ticks": ""
             }
            },
            "type": "parcoords"
           }
          ],
          "pie": [
           {
            "automargin": true,
            "type": "pie"
           }
          ],
          "scatter": [
           {
            "fillpattern": {
             "fillmode": "overlay",
             "size": 10,
             "solidity": 0.2
            },
            "type": "scatter"
           }
          ],
          "scatter3d": [
           {
            "line": {
             "colorbar": {
              "outlinewidth": 0,
              "ticks": ""
             }
            },
            "marker": {
             "colorbar": {
              "outlinewidth": 0,
              "ticks": ""
             }
            },
            "type": "scatter3d"
           }
          ],
          "scattercarpet": [
           {
            "marker": {
             "colorbar": {
              "outlinewidth": 0,
              "ticks": ""
             }
            },
            "type": "scattercarpet"
           }
          ],
          "scattergeo": [
           {
            "marker": {
             "colorbar": {
              "outlinewidth": 0,
              "ticks": ""
             }
            },
            "type": "scattergeo"
           }
          ],
          "scattergl": [
           {
            "marker": {
             "colorbar": {
              "outlinewidth": 0,
              "ticks": ""
             }
            },
            "type": "scattergl"
           }
          ],
          "scattermapbox": [
           {
            "marker": {
             "colorbar": {
              "outlinewidth": 0,
              "ticks": ""
             }
            },
            "type": "scattermapbox"
           }
          ],
          "scatterpolar": [
           {
            "marker": {
             "colorbar": {
              "outlinewidth": 0,
              "ticks": ""
             }
            },
            "type": "scatterpolar"
           }
          ],
          "scatterpolargl": [
           {
            "marker": {
             "colorbar": {
              "outlinewidth": 0,
              "ticks": ""
             }
            },
            "type": "scatterpolargl"
           }
          ],
          "scatterternary": [
           {
            "marker": {
             "colorbar": {
              "outlinewidth": 0,
              "ticks": ""
             }
            },
            "type": "scatterternary"
           }
          ],
          "surface": [
           {
            "colorbar": {
             "outlinewidth": 0,
             "ticks": ""
            },
            "colorscale": [
             [
              0,
              "#0d0887"
             ],
             [
              0.1111111111111111,
              "#46039f"
             ],
             [
              0.2222222222222222,
              "#7201a8"
             ],
             [
              0.3333333333333333,
              "#9c179e"
             ],
             [
              0.4444444444444444,
              "#bd3786"
             ],
             [
              0.5555555555555556,
              "#d8576b"
             ],
             [
              0.6666666666666666,
              "#ed7953"
             ],
             [
              0.7777777777777778,
              "#fb9f3a"
             ],
             [
              0.8888888888888888,
              "#fdca26"
             ],
             [
              1,
              "#f0f921"
             ]
            ],
            "type": "surface"
           }
          ],
          "table": [
           {
            "cells": {
             "fill": {
              "color": "#EBF0F8"
             },
             "line": {
              "color": "white"
             }
            },
            "header": {
             "fill": {
              "color": "#C8D4E3"
             },
             "line": {
              "color": "white"
             }
            },
            "type": "table"
           }
          ]
         },
         "layout": {
          "annotationdefaults": {
           "arrowcolor": "#2a3f5f",
           "arrowhead": 0,
           "arrowwidth": 1
          },
          "autotypenumbers": "strict",
          "coloraxis": {
           "colorbar": {
            "outlinewidth": 0,
            "ticks": ""
           }
          },
          "colorscale": {
           "diverging": [
            [
             0,
             "#8e0152"
            ],
            [
             0.1,
             "#c51b7d"
            ],
            [
             0.2,
             "#de77ae"
            ],
            [
             0.3,
             "#f1b6da"
            ],
            [
             0.4,
             "#fde0ef"
            ],
            [
             0.5,
             "#f7f7f7"
            ],
            [
             0.6,
             "#e6f5d0"
            ],
            [
             0.7,
             "#b8e186"
            ],
            [
             0.8,
             "#7fbc41"
            ],
            [
             0.9,
             "#4d9221"
            ],
            [
             1,
             "#276419"
            ]
           ],
           "sequential": [
            [
             0,
             "#0d0887"
            ],
            [
             0.1111111111111111,
             "#46039f"
            ],
            [
             0.2222222222222222,
             "#7201a8"
            ],
            [
             0.3333333333333333,
             "#9c179e"
            ],
            [
             0.4444444444444444,
             "#bd3786"
            ],
            [
             0.5555555555555556,
             "#d8576b"
            ],
            [
             0.6666666666666666,
             "#ed7953"
            ],
            [
             0.7777777777777778,
             "#fb9f3a"
            ],
            [
             0.8888888888888888,
             "#fdca26"
            ],
            [
             1,
             "#f0f921"
            ]
           ],
           "sequentialminus": [
            [
             0,
             "#0d0887"
            ],
            [
             0.1111111111111111,
             "#46039f"
            ],
            [
             0.2222222222222222,
             "#7201a8"
            ],
            [
             0.3333333333333333,
             "#9c179e"
            ],
            [
             0.4444444444444444,
             "#bd3786"
            ],
            [
             0.5555555555555556,
             "#d8576b"
            ],
            [
             0.6666666666666666,
             "#ed7953"
            ],
            [
             0.7777777777777778,
             "#fb9f3a"
            ],
            [
             0.8888888888888888,
             "#fdca26"
            ],
            [
             1,
             "#f0f921"
            ]
           ]
          },
          "colorway": [
           "#636efa",
           "#EF553B",
           "#00cc96",
           "#ab63fa",
           "#FFA15A",
           "#19d3f3",
           "#FF6692",
           "#B6E880",
           "#FF97FF",
           "#FECB52"
          ],
          "font": {
           "color": "#2a3f5f"
          },
          "geo": {
           "bgcolor": "white",
           "lakecolor": "white",
           "landcolor": "#E5ECF6",
           "showlakes": true,
           "showland": true,
           "subunitcolor": "white"
          },
          "hoverlabel": {
           "align": "left"
          },
          "hovermode": "closest",
          "mapbox": {
           "style": "light"
          },
          "paper_bgcolor": "white",
          "plot_bgcolor": "#E5ECF6",
          "polar": {
           "angularaxis": {
            "gridcolor": "white",
            "linecolor": "white",
            "ticks": ""
           },
           "bgcolor": "#E5ECF6",
           "radialaxis": {
            "gridcolor": "white",
            "linecolor": "white",
            "ticks": ""
           }
          },
          "scene": {
           "xaxis": {
            "backgroundcolor": "#E5ECF6",
            "gridcolor": "white",
            "gridwidth": 2,
            "linecolor": "white",
            "showbackground": true,
            "ticks": "",
            "zerolinecolor": "white"
           },
           "yaxis": {
            "backgroundcolor": "#E5ECF6",
            "gridcolor": "white",
            "gridwidth": 2,
            "linecolor": "white",
            "showbackground": true,
            "ticks": "",
            "zerolinecolor": "white"
           },
           "zaxis": {
            "backgroundcolor": "#E5ECF6",
            "gridcolor": "white",
            "gridwidth": 2,
            "linecolor": "white",
            "showbackground": true,
            "ticks": "",
            "zerolinecolor": "white"
           }
          },
          "shapedefaults": {
           "line": {
            "color": "#2a3f5f"
           }
          },
          "ternary": {
           "aaxis": {
            "gridcolor": "white",
            "linecolor": "white",
            "ticks": ""
           },
           "baxis": {
            "gridcolor": "white",
            "linecolor": "white",
            "ticks": ""
           },
           "bgcolor": "#E5ECF6",
           "caxis": {
            "gridcolor": "white",
            "linecolor": "white",
            "ticks": ""
           }
          },
          "title": {
           "x": 0.05
          },
          "xaxis": {
           "automargin": true,
           "gridcolor": "white",
           "linecolor": "white",
           "ticks": "",
           "title": {
            "standoff": 15
           },
           "zerolinecolor": "white",
           "zerolinewidth": 2
          },
          "yaxis": {
           "automargin": true,
           "gridcolor": "white",
           "linecolor": "white",
           "ticks": "",
           "title": {
            "standoff": 15
           },
           "zerolinecolor": "white",
           "zerolinewidth": 2
          }
         }
        },
        "title": {
         "text": "Total Accidents by State (2016 - 2021)"
        },
        "width": 850
       }
      }
     },
     "metadata": {},
     "output_type": "display_data"
    }
   ],
   "source": [
    "data = dict(type = \"choropleth\",\n",
    "            colorscale = \"Reds\",\n",
    "            z = df_top_states_map[\"Total\"],\n",
    "            locations = df_top_states_map[\"Abbreviation\"],\n",
    "            locationmode = \"USA-states\",\n",
    "            text = df_top_states_map[\"State\"],\n",
    "            marker = dict(line = dict(color = \"rgb(200,200,200)\", width = 0.6)),\n",
    "            colorbar = {\"title\":\"Total Accidents\"}\n",
    ")\n",
    "\n",
    "layout = dict(\n",
    "    title = \"Total Accidents by State (2016 - 2021)\",\n",
    "    geo = dict(\n",
    "        scope = \"usa\"\n",
    "        ),\n",
    "    height=500, width=850, margin={\"r\":0,\"t\":50,\"l\":0,\"b\":20}     \n",
    ")\n",
    "\n",
    "choromap = go.Figure(data = [data], layout=layout)\n",
    "\n",
    "choromap.show()"
   ]
  },
  {
   "cell_type": "code",
   "execution_count": 172,
   "id": "2bcd8563",
   "metadata": {},
   "outputs": [],
   "source": [
    "df_states_abbreviation = pd.DataFrame.from_dict(states_dict, orient=\"index\", columns=[\"Abbreviation\"])\n",
    "\n",
    "df_top_states_map = df_top_states_map.merge(df_states_abbreviation, left_on=\"State\", right_index=True)"
   ]
  },
  {
   "cell_type": "code",
   "execution_count": 173,
   "id": "c644d043",
   "metadata": {},
   "outputs": [
    {
     "data": {
      "text/html": [
       "<div>\n",
       "<style scoped>\n",
       "    .dataframe tbody tr th:only-of-type {\n",
       "        vertical-align: middle;\n",
       "    }\n",
       "\n",
       "    .dataframe tbody tr th {\n",
       "        vertical-align: top;\n",
       "    }\n",
       "\n",
       "    .dataframe thead th {\n",
       "        text-align: right;\n",
       "    }\n",
       "</style>\n",
       "<table border=\"1\" class=\"dataframe\">\n",
       "  <thead>\n",
       "    <tr style=\"text-align: right;\">\n",
       "      <th></th>\n",
       "      <th>State</th>\n",
       "      <th>Total</th>\n",
       "      <th>Percent</th>\n",
       "      <th>Abbreviation</th>\n",
       "    </tr>\n",
       "  </thead>\n",
       "  <tbody>\n",
       "    <tr>\n",
       "      <th>0</th>\n",
       "      <td>California</td>\n",
       "      <td>739136</td>\n",
       "      <td>30.050723</td>\n",
       "      <td>CA</td>\n",
       "    </tr>\n",
       "    <tr>\n",
       "      <th>1</th>\n",
       "      <td>Florida</td>\n",
       "      <td>378118</td>\n",
       "      <td>15.372975</td>\n",
       "      <td>FL</td>\n",
       "    </tr>\n",
       "    <tr>\n",
       "      <th>2</th>\n",
       "      <td>Texas</td>\n",
       "      <td>136390</td>\n",
       "      <td>5.545147</td>\n",
       "      <td>TX</td>\n",
       "    </tr>\n",
       "    <tr>\n",
       "      <th>3</th>\n",
       "      <td>Oregon</td>\n",
       "      <td>103865</td>\n",
       "      <td>4.222793</td>\n",
       "      <td>OR</td>\n",
       "    </tr>\n",
       "    <tr>\n",
       "      <th>4</th>\n",
       "      <td>Virginia</td>\n",
       "      <td>94841</td>\n",
       "      <td>3.855908</td>\n",
       "      <td>VA</td>\n",
       "    </tr>\n",
       "    <tr>\n",
       "      <th>5</th>\n",
       "      <td>New York</td>\n",
       "      <td>93718</td>\n",
       "      <td>3.810251</td>\n",
       "      <td>NY</td>\n",
       "    </tr>\n",
       "    <tr>\n",
       "      <th>6</th>\n",
       "      <td>Pennsylvania</td>\n",
       "      <td>84970</td>\n",
       "      <td>3.454587</td>\n",
       "      <td>PA</td>\n",
       "    </tr>\n",
       "    <tr>\n",
       "      <th>7</th>\n",
       "      <td>South Carolina</td>\n",
       "      <td>83298</td>\n",
       "      <td>3.386610</td>\n",
       "      <td>SC</td>\n",
       "    </tr>\n",
       "    <tr>\n",
       "      <th>8</th>\n",
       "      <td>North Carolina</td>\n",
       "      <td>83179</td>\n",
       "      <td>3.381772</td>\n",
       "      <td>NC</td>\n",
       "    </tr>\n",
       "    <tr>\n",
       "      <th>9</th>\n",
       "      <td>Minnesota</td>\n",
       "      <td>76685</td>\n",
       "      <td>3.117748</td>\n",
       "      <td>MN</td>\n",
       "    </tr>\n",
       "    <tr>\n",
       "      <th>10</th>\n",
       "      <td>Tennessee</td>\n",
       "      <td>48862</td>\n",
       "      <td>1.986561</td>\n",
       "      <td>TN</td>\n",
       "    </tr>\n",
       "    <tr>\n",
       "      <th>11</th>\n",
       "      <td>Maryland</td>\n",
       "      <td>48818</td>\n",
       "      <td>1.984772</td>\n",
       "      <td>MD</td>\n",
       "    </tr>\n",
       "    <tr>\n",
       "      <th>12</th>\n",
       "      <td>Arizona</td>\n",
       "      <td>47277</td>\n",
       "      <td>1.922120</td>\n",
       "      <td>AZ</td>\n",
       "    </tr>\n",
       "    <tr>\n",
       "      <th>13</th>\n",
       "      <td>New Jersey</td>\n",
       "      <td>46272</td>\n",
       "      <td>1.881260</td>\n",
       "      <td>NJ</td>\n",
       "    </tr>\n",
       "    <tr>\n",
       "      <th>14</th>\n",
       "      <td>Louisiana</td>\n",
       "      <td>44012</td>\n",
       "      <td>1.789376</td>\n",
       "      <td>LA</td>\n",
       "    </tr>\n",
       "    <tr>\n",
       "      <th>15</th>\n",
       "      <td>Illinois</td>\n",
       "      <td>41078</td>\n",
       "      <td>1.670090</td>\n",
       "      <td>IL</td>\n",
       "    </tr>\n",
       "    <tr>\n",
       "      <th>16</th>\n",
       "      <td>Michigan</td>\n",
       "      <td>36112</td>\n",
       "      <td>1.468189</td>\n",
       "      <td>MI</td>\n",
       "    </tr>\n",
       "    <tr>\n",
       "      <th>17</th>\n",
       "      <td>Georgia</td>\n",
       "      <td>30783</td>\n",
       "      <td>1.251531</td>\n",
       "      <td>GA</td>\n",
       "    </tr>\n",
       "    <tr>\n",
       "      <th>18</th>\n",
       "      <td>Washington</td>\n",
       "      <td>28442</td>\n",
       "      <td>1.156354</td>\n",
       "      <td>WA</td>\n",
       "    </tr>\n",
       "    <tr>\n",
       "      <th>19</th>\n",
       "      <td>Missouri</td>\n",
       "      <td>26189</td>\n",
       "      <td>1.064755</td>\n",
       "      <td>MO</td>\n",
       "    </tr>\n",
       "    <tr>\n",
       "      <th>20</th>\n",
       "      <td>Connecticut</td>\n",
       "      <td>25599</td>\n",
       "      <td>1.040767</td>\n",
       "      <td>CT</td>\n",
       "    </tr>\n",
       "    <tr>\n",
       "      <th>21</th>\n",
       "      <td>Ohio</td>\n",
       "      <td>18078</td>\n",
       "      <td>0.734989</td>\n",
       "      <td>OH</td>\n",
       "    </tr>\n",
       "    <tr>\n",
       "      <th>22</th>\n",
       "      <td>Alabama</td>\n",
       "      <td>17052</td>\n",
       "      <td>0.693276</td>\n",
       "      <td>AL</td>\n",
       "    </tr>\n",
       "    <tr>\n",
       "      <th>23</th>\n",
       "      <td>Indiana</td>\n",
       "      <td>15867</td>\n",
       "      <td>0.645098</td>\n",
       "      <td>IN</td>\n",
       "    </tr>\n",
       "    <tr>\n",
       "      <th>24</th>\n",
       "      <td>Utah</td>\n",
       "      <td>8854</td>\n",
       "      <td>0.359973</td>\n",
       "      <td>UT</td>\n",
       "    </tr>\n",
       "    <tr>\n",
       "      <th>25</th>\n",
       "      <td>Arkansas</td>\n",
       "      <td>8599</td>\n",
       "      <td>0.349606</td>\n",
       "      <td>AR</td>\n",
       "    </tr>\n",
       "    <tr>\n",
       "      <th>26</th>\n",
       "      <td>District of Columbia</td>\n",
       "      <td>8226</td>\n",
       "      <td>0.334441</td>\n",
       "      <td>DC</td>\n",
       "    </tr>\n",
       "    <tr>\n",
       "      <th>27</th>\n",
       "      <td>Oklahoma</td>\n",
       "      <td>8012</td>\n",
       "      <td>0.325740</td>\n",
       "      <td>OK</td>\n",
       "    </tr>\n",
       "    <tr>\n",
       "      <th>28</th>\n",
       "      <td>Kansas</td>\n",
       "      <td>7837</td>\n",
       "      <td>0.318625</td>\n",
       "      <td>KS</td>\n",
       "    </tr>\n",
       "    <tr>\n",
       "      <th>29</th>\n",
       "      <td>West Virginia</td>\n",
       "      <td>6630</td>\n",
       "      <td>0.269553</td>\n",
       "      <td>WV</td>\n",
       "    </tr>\n",
       "    <tr>\n",
       "      <th>30</th>\n",
       "      <td>Idaho</td>\n",
       "      <td>6282</td>\n",
       "      <td>0.255404</td>\n",
       "      <td>ID</td>\n",
       "    </tr>\n",
       "    <tr>\n",
       "      <th>31</th>\n",
       "      <td>Iowa</td>\n",
       "      <td>6173</td>\n",
       "      <td>0.250973</td>\n",
       "      <td>IA</td>\n",
       "    </tr>\n",
       "    <tr>\n",
       "      <th>32</th>\n",
       "      <td>Montana</td>\n",
       "      <td>5725</td>\n",
       "      <td>0.232759</td>\n",
       "      <td>MT</td>\n",
       "    </tr>\n",
       "    <tr>\n",
       "      <th>33</th>\n",
       "      <td>Massachusetts</td>\n",
       "      <td>5540</td>\n",
       "      <td>0.225237</td>\n",
       "      <td>MA</td>\n",
       "    </tr>\n",
       "    <tr>\n",
       "      <th>34</th>\n",
       "      <td>Kentucky</td>\n",
       "      <td>5532</td>\n",
       "      <td>0.224912</td>\n",
       "      <td>KY</td>\n",
       "    </tr>\n",
       "    <tr>\n",
       "      <th>35</th>\n",
       "      <td>Wisconsin</td>\n",
       "      <td>4727</td>\n",
       "      <td>0.192184</td>\n",
       "      <td>WI</td>\n",
       "    </tr>\n",
       "    <tr>\n",
       "      <th>36</th>\n",
       "      <td>Mississippi</td>\n",
       "      <td>4673</td>\n",
       "      <td>0.189988</td>\n",
       "      <td>MS</td>\n",
       "    </tr>\n",
       "    <tr>\n",
       "      <th>37</th>\n",
       "      <td>Colorado</td>\n",
       "      <td>4192</td>\n",
       "      <td>0.170432</td>\n",
       "      <td>CO</td>\n",
       "    </tr>\n",
       "    <tr>\n",
       "      <th>38</th>\n",
       "      <td>Rhode Island</td>\n",
       "      <td>4029</td>\n",
       "      <td>0.163805</td>\n",
       "      <td>RI</td>\n",
       "    </tr>\n",
       "    <tr>\n",
       "      <th>39</th>\n",
       "      <td>Delaware</td>\n",
       "      <td>3704</td>\n",
       "      <td>0.150592</td>\n",
       "      <td>DE</td>\n",
       "    </tr>\n",
       "    <tr>\n",
       "      <th>40</th>\n",
       "      <td>New Hampshire</td>\n",
       "      <td>3305</td>\n",
       "      <td>0.134370</td>\n",
       "      <td>NH</td>\n",
       "    </tr>\n",
       "    <tr>\n",
       "      <th>41</th>\n",
       "      <td>Nebraska</td>\n",
       "      <td>2467</td>\n",
       "      <td>0.100300</td>\n",
       "      <td>NE</td>\n",
       "    </tr>\n",
       "    <tr>\n",
       "      <th>42</th>\n",
       "      <td>Nevada</td>\n",
       "      <td>2418</td>\n",
       "      <td>0.098308</td>\n",
       "      <td>NV</td>\n",
       "    </tr>\n",
       "    <tr>\n",
       "      <th>43</th>\n",
       "      <td>Maine</td>\n",
       "      <td>1868</td>\n",
       "      <td>0.075946</td>\n",
       "      <td>ME</td>\n",
       "    </tr>\n",
       "    <tr>\n",
       "      <th>44</th>\n",
       "      <td>North Dakota</td>\n",
       "      <td>1248</td>\n",
       "      <td>0.050739</td>\n",
       "      <td>ND</td>\n",
       "    </tr>\n",
       "    <tr>\n",
       "      <th>45</th>\n",
       "      <td>New Mexico</td>\n",
       "      <td>487</td>\n",
       "      <td>0.019800</td>\n",
       "      <td>NM</td>\n",
       "    </tr>\n",
       "    <tr>\n",
       "      <th>46</th>\n",
       "      <td>Vermont</td>\n",
       "      <td>271</td>\n",
       "      <td>0.011018</td>\n",
       "      <td>VT</td>\n",
       "    </tr>\n",
       "    <tr>\n",
       "      <th>47</th>\n",
       "      <td>South Dakota</td>\n",
       "      <td>131</td>\n",
       "      <td>0.005326</td>\n",
       "      <td>SD</td>\n",
       "    </tr>\n",
       "    <tr>\n",
       "      <th>48</th>\n",
       "      <td>Wyoming</td>\n",
       "      <td>57</td>\n",
       "      <td>0.002317</td>\n",
       "      <td>WY</td>\n",
       "    </tr>\n",
       "  </tbody>\n",
       "</table>\n",
       "</div>"
      ],
      "text/plain": [
       "                   State   Total    Percent Abbreviation\n",
       "0             California  739136  30.050723           CA\n",
       "1                Florida  378118  15.372975           FL\n",
       "2                  Texas  136390   5.545147           TX\n",
       "3                 Oregon  103865   4.222793           OR\n",
       "4               Virginia   94841   3.855908           VA\n",
       "5               New York   93718   3.810251           NY\n",
       "6           Pennsylvania   84970   3.454587           PA\n",
       "7         South Carolina   83298   3.386610           SC\n",
       "8         North Carolina   83179   3.381772           NC\n",
       "9              Minnesota   76685   3.117748           MN\n",
       "10             Tennessee   48862   1.986561           TN\n",
       "11              Maryland   48818   1.984772           MD\n",
       "12               Arizona   47277   1.922120           AZ\n",
       "13            New Jersey   46272   1.881260           NJ\n",
       "14             Louisiana   44012   1.789376           LA\n",
       "15              Illinois   41078   1.670090           IL\n",
       "16              Michigan   36112   1.468189           MI\n",
       "17               Georgia   30783   1.251531           GA\n",
       "18            Washington   28442   1.156354           WA\n",
       "19              Missouri   26189   1.064755           MO\n",
       "20           Connecticut   25599   1.040767           CT\n",
       "21                  Ohio   18078   0.734989           OH\n",
       "22               Alabama   17052   0.693276           AL\n",
       "23               Indiana   15867   0.645098           IN\n",
       "24                  Utah    8854   0.359973           UT\n",
       "25              Arkansas    8599   0.349606           AR\n",
       "26  District of Columbia    8226   0.334441           DC\n",
       "27              Oklahoma    8012   0.325740           OK\n",
       "28                Kansas    7837   0.318625           KS\n",
       "29         West Virginia    6630   0.269553           WV\n",
       "30                 Idaho    6282   0.255404           ID\n",
       "31                  Iowa    6173   0.250973           IA\n",
       "32               Montana    5725   0.232759           MT\n",
       "33         Massachusetts    5540   0.225237           MA\n",
       "34              Kentucky    5532   0.224912           KY\n",
       "35             Wisconsin    4727   0.192184           WI\n",
       "36           Mississippi    4673   0.189988           MS\n",
       "37              Colorado    4192   0.170432           CO\n",
       "38          Rhode Island    4029   0.163805           RI\n",
       "39              Delaware    3704   0.150592           DE\n",
       "40         New Hampshire    3305   0.134370           NH\n",
       "41              Nebraska    2467   0.100300           NE\n",
       "42                Nevada    2418   0.098308           NV\n",
       "43                 Maine    1868   0.075946           ME\n",
       "44          North Dakota    1248   0.050739           ND\n",
       "45            New Mexico     487   0.019800           NM\n",
       "46               Vermont     271   0.011018           VT\n",
       "47          South Dakota     131   0.005326           SD\n",
       "48               Wyoming      57   0.002317           WY"
      ]
     },
     "execution_count": 173,
     "metadata": {},
     "output_type": "execute_result"
    }
   ],
   "source": [
    "df_top_states_map"
   ]
  },
  {
   "cell_type": "markdown",
   "id": "02630a6f",
   "metadata": {},
   "source": [
    "#### 5.1.2. City Analysis"
   ]
  },
  {
   "cell_type": "markdown",
   "id": "e42f954c",
   "metadata": {},
   "source": [
    "INSIGHT: Even though California is the state with the most car accidents, Miami leads the city ranking."
   ]
  },
  {
   "cell_type": "code",
   "execution_count": 57,
   "id": "43879b52",
   "metadata": {},
   "outputs": [],
   "source": [
    "df_top_cities = (\n",
    "    df[\"City\"]\n",
    "    .value_counts()\n",
    "    .reset_index()\n",
    "    .rename(columns={\"index\":\"City\", \"City\":\"Total\"})\n",
    ")\n",
    "\n",
    "df_top_cities[\"Percent\"] = (\n",
    "    round(\n",
    "        (df_top_cities[\"Total\"] / df_top_cities[\"Total\"].sum()) * 100, \n",
    "        2\n",
    "    )\n",
    ")\n",
    "\n",
    "df_top_cities = df_top_cities.set_index(\"City\")"
   ]
  },
  {
   "cell_type": "code",
   "execution_count": 58,
   "id": "4d36071e",
   "metadata": {},
   "outputs": [
    {
     "data": {
      "image/png": "[encoded data removed]",
      "text/plain": [
       "<Figure size 648x432 with 1 Axes>"
      ]
     },
     "metadata": {},
     "output_type": "display_data"
    }
   ],
   "source": [
    "# Visualize using a horizontal bar chart to show comparison among the categories.\n",
    "\n",
    "x_state = df_top_cities[\"Percent\"].nlargest(10).sort_values(ascending=True).index\n",
    "y_percent = df_top_cities[\"Percent\"].nlargest(10).sort_values(ascending=True).values\n",
    "# This variable will be used for the total number labels\n",
    "bar_labels = [format(i, \",d\") for i in df_top_cities[\"Total\"].nlargest(10).sort_values(ascending=True).values]\n",
    "\n",
    "plt_size = plt.figure(figsize=(9,6))\n",
    "barElements = plt.barh(x_state, y_percent, height=0.72)\n",
    "\n",
    "# Add labels with the total number of accidents\n",
    "for element, label in zip(barElements, bar_labels):\n",
    "    plt.text(\n",
    "        element.get_x() + (element.get_width()/2) - 0.16, \n",
    "        element.get_y() + (element.get_height() / 2.6), \n",
    "        label, \n",
    "        bbox=({\"facecolor\":\"white\", \"alpha\":0.4}), \n",
    "        fontsize=12\n",
    "    )\n",
    "\n",
    "plt.title(\"Top 10 cities with the highest percent of accidents\\n (2016 - 2021)\", fontsize=16, fontweight=\"bold\", pad=10)\n",
    "# plt.ylabel(\"City\", fontsize=13, fontweight=\"bold\")\n",
    "plt.yticks(size=13)\n",
    "plt.xlabel(\"% of Total Accidents\", fontsize=13, fontweight=\"bold\")\n",
    "plt.xticks(size=13)\n",
    "plt.tight_layout()\n",
    "plt.grid(False)\n",
    "\n",
    "# Set the alpha of each bar according to its value\n",
    "for i, y in zip(list(range(len(barElements))), y_percent):\n",
    "    barElements[i].set_alpha((y / max(y_percent)))\n",
    "\n",
    "plt.show()"
   ]
  },
  {
   "cell_type": "markdown",
   "id": "2e3d91f9",
   "metadata": {},
   "source": [
    "#### 5.1.3. Street Analysis"
   ]
  },
  {
   "cell_type": "code",
   "execution_count": 59,
   "id": "111d475f",
   "metadata": {},
   "outputs": [],
   "source": [
    "# Create new DataFrame to hold streets by total number of accidents\n",
    "df_top_streets = (\n",
    "    df[\"Street\"]\n",
    "    .value_counts()\n",
    "    .to_frame()\n",
    "    .rename(columns={\"Street\":\"Total\"})\n",
    ")\n",
    "\n",
    "df_top_streets[\"Percent\"] = (\n",
    "    df_top_streets[\"Total\"] / (df_top_streets[\"Total\"].sum() * 100)\n",
    ")"
   ]
  },
  {
   "cell_type": "code",
   "execution_count": 60,
   "id": "bebe16d8",
   "metadata": {},
   "outputs": [
    {
     "data": {
      "image/png": "[encoded data removed]",
      "text/plain": [
       "<Figure size 648x432 with 1 Axes>"
      ]
     },
     "metadata": {},
     "output_type": "display_data"
    }
   ],
   "source": [
    "# Visualize using a horizontal bar chart to show comparison among the categories.\n",
    "\n",
    "x_state = df_top_streets[\"Percent\"].nlargest(10).sort_values(ascending=True).index\n",
    "y_percent = df_top_streets[\"Percent\"].nlargest(10).sort_values(ascending=True).values\n",
    "# This variable will be used for the total number labels\n",
    "bar_labels = [format(i, \",d\") for i in df_top_streets[\"Total\"].nlargest(10).sort_values(ascending=True).values]\n",
    "\n",
    "plt_size = plt.figure(figsize=(9,6))\n",
    "barElements = plt.barh(x_state, y_percent, height=0.72)\n",
    "\n",
    "# Add labels with the total number of accidents\n",
    "for element, label in zip(barElements, bar_labels):\n",
    "    plt.text(\n",
    "        element.get_x() + (element.get_width()/2.4), \n",
    "        element.get_y() + (element.get_height() / 2.6), \n",
    "        label, \n",
    "        bbox=({\"facecolor\":\"azure\", \"alpha\":0.4}), \n",
    "        fontsize=12\n",
    "    )\n",
    "\n",
    "\n",
    "plt.title(\"Top 10 Interstate highways with the highest percent of of accidents\\n (2016 - 2021)\", fontsize=16, fontweight=\"bold\", pad=10)\n",
    "plt.ylabel(\"Highway\", fontsize=13, fontweight=\"bold\")\n",
    "plt.yticks(size=13)\n",
    "plt.xlabel(\"% of Total Accidents\", fontsize=13, fontweight=\"bold\")\n",
    "plt.xticks(size=13)\n",
    "plt.tight_layout()\n",
    "plt.grid(False)\n",
    "\n",
    "# Set the alpha of each bar according to its value\n",
    "for i, y in zip(list(range(len(barElements))), y_percent):\n",
    "    barElements[i].set_alpha((y * 10000) / 2 + 0.25)\n",
    "\n",
    "plt.show()"
   ]
  },
  {
   "cell_type": "code",
   "execution_count": 61,
   "id": "67b22d34",
   "metadata": {},
   "outputs": [
    {
     "data": {
      "text/html": [
       "<div>\n",
       "<style scoped>\n",
       "    .dataframe tbody tr th:only-of-type {\n",
       "        vertical-align: middle;\n",
       "    }\n",
       "\n",
       "    .dataframe tbody tr th {\n",
       "        vertical-align: top;\n",
       "    }\n",
       "\n",
       "    .dataframe thead th {\n",
       "        text-align: right;\n",
       "    }\n",
       "</style>\n",
       "<table border=\"1\" class=\"dataframe\">\n",
       "  <thead>\n",
       "    <tr style=\"text-align: right;\">\n",
       "      <th></th>\n",
       "      <th>Street</th>\n",
       "      <th>State</th>\n",
       "      <th>Total</th>\n",
       "      <th>Rank</th>\n",
       "    </tr>\n",
       "  </thead>\n",
       "  <tbody>\n",
       "    <tr>\n",
       "      <th>2</th>\n",
       "      <td>I-10 E</td>\n",
       "      <td>CA</td>\n",
       "      <td>15989</td>\n",
       "      <td>1.0</td>\n",
       "    </tr>\n",
       "    <tr>\n",
       "      <th>4</th>\n",
       "      <td>I-10 E</td>\n",
       "      <td>LA</td>\n",
       "      <td>3201</td>\n",
       "      <td>2.0</td>\n",
       "    </tr>\n",
       "    <tr>\n",
       "      <th>1</th>\n",
       "      <td>I-10 E</td>\n",
       "      <td>AZ</td>\n",
       "      <td>2193</td>\n",
       "      <td>3.0</td>\n",
       "    </tr>\n",
       "    <tr>\n",
       "      <th>7</th>\n",
       "      <td>I-10 E</td>\n",
       "      <td>TX</td>\n",
       "      <td>1298</td>\n",
       "      <td>4.0</td>\n",
       "    </tr>\n",
       "    <tr>\n",
       "      <th>0</th>\n",
       "      <td>I-10 E</td>\n",
       "      <td>AL</td>\n",
       "      <td>638</td>\n",
       "      <td>5.0</td>\n",
       "    </tr>\n",
       "    <tr>\n",
       "      <th>3</th>\n",
       "      <td>I-10 E</td>\n",
       "      <td>FL</td>\n",
       "      <td>349</td>\n",
       "      <td>6.0</td>\n",
       "    </tr>\n",
       "    <tr>\n",
       "      <th>5</th>\n",
       "      <td>I-10 E</td>\n",
       "      <td>MS</td>\n",
       "      <td>158</td>\n",
       "      <td>7.0</td>\n",
       "    </tr>\n",
       "    <tr>\n",
       "      <th>6</th>\n",
       "      <td>I-10 E</td>\n",
       "      <td>NM</td>\n",
       "      <td>3</td>\n",
       "      <td>8.0</td>\n",
       "    </tr>\n",
       "    <tr>\n",
       "      <th>10</th>\n",
       "      <td>I-10 W</td>\n",
       "      <td>CA</td>\n",
       "      <td>15400</td>\n",
       "      <td>1.0</td>\n",
       "    </tr>\n",
       "    <tr>\n",
       "      <th>12</th>\n",
       "      <td>I-10 W</td>\n",
       "      <td>LA</td>\n",
       "      <td>3395</td>\n",
       "      <td>2.0</td>\n",
       "    </tr>\n",
       "    <tr>\n",
       "      <th>9</th>\n",
       "      <td>I-10 W</td>\n",
       "      <td>AZ</td>\n",
       "      <td>1943</td>\n",
       "      <td>3.0</td>\n",
       "    </tr>\n",
       "    <tr>\n",
       "      <th>15</th>\n",
       "      <td>I-10 W</td>\n",
       "      <td>TX</td>\n",
       "      <td>1621</td>\n",
       "      <td>4.0</td>\n",
       "    </tr>\n",
       "    <tr>\n",
       "      <th>8</th>\n",
       "      <td>I-10 W</td>\n",
       "      <td>AL</td>\n",
       "      <td>652</td>\n",
       "      <td>5.0</td>\n",
       "    </tr>\n",
       "    <tr>\n",
       "      <th>13</th>\n",
       "      <td>I-10 W</td>\n",
       "      <td>MS</td>\n",
       "      <td>199</td>\n",
       "      <td>6.0</td>\n",
       "    </tr>\n",
       "    <tr>\n",
       "      <th>11</th>\n",
       "      <td>I-10 W</td>\n",
       "      <td>FL</td>\n",
       "      <td>24</td>\n",
       "      <td>7.0</td>\n",
       "    </tr>\n",
       "    <tr>\n",
       "      <th>14</th>\n",
       "      <td>I-10 W</td>\n",
       "      <td>NM</td>\n",
       "      <td>1</td>\n",
       "      <td>8.0</td>\n",
       "    </tr>\n",
       "    <tr>\n",
       "      <th>16</th>\n",
       "      <td>I-405 N</td>\n",
       "      <td>CA</td>\n",
       "      <td>11351</td>\n",
       "      <td>1.0</td>\n",
       "    </tr>\n",
       "    <tr>\n",
       "      <th>18</th>\n",
       "      <td>I-405 N</td>\n",
       "      <td>WA</td>\n",
       "      <td>1348</td>\n",
       "      <td>2.0</td>\n",
       "    </tr>\n",
       "    <tr>\n",
       "      <th>17</th>\n",
       "      <td>I-405 N</td>\n",
       "      <td>OR</td>\n",
       "      <td>413</td>\n",
       "      <td>3.0</td>\n",
       "    </tr>\n",
       "    <tr>\n",
       "      <th>19</th>\n",
       "      <td>I-5 N</td>\n",
       "      <td>CA</td>\n",
       "      <td>19948</td>\n",
       "      <td>1.0</td>\n",
       "    </tr>\n",
       "  </tbody>\n",
       "</table>\n",
       "</div>"
      ],
      "text/plain": [
       "     Street State  Total  Rank\n",
       "2    I-10 E    CA  15989   1.0\n",
       "4    I-10 E    LA   3201   2.0\n",
       "1    I-10 E    AZ   2193   3.0\n",
       "7    I-10 E    TX   1298   4.0\n",
       "0    I-10 E    AL    638   5.0\n",
       "3    I-10 E    FL    349   6.0\n",
       "5    I-10 E    MS    158   7.0\n",
       "6    I-10 E    NM      3   8.0\n",
       "10   I-10 W    CA  15400   1.0\n",
       "12   I-10 W    LA   3395   2.0\n",
       "9    I-10 W    AZ   1943   3.0\n",
       "15   I-10 W    TX   1621   4.0\n",
       "8    I-10 W    AL    652   5.0\n",
       "13   I-10 W    MS    199   6.0\n",
       "11   I-10 W    FL     24   7.0\n",
       "14   I-10 W    NM      1   8.0\n",
       "16  I-405 N    CA  11351   1.0\n",
       "18  I-405 N    WA   1348   2.0\n",
       "17  I-405 N    OR    413   3.0\n",
       "19    I-5 N    CA  19948   1.0"
      ]
     },
     "execution_count": 61,
     "metadata": {},
     "output_type": "execute_result"
    }
   ],
   "source": [
    "\"\"\"\n",
    "This cell is looking for:\n",
    "    1. the top 10 US interstate highways and \n",
    "    2. top 10 States (where the highways pass) \n",
    "by total number of accidents. \n",
    "\n",
    "The cell:\n",
    "    1. groups the data by \"Street\" and \"State\" and calculates the sum; \n",
    "    3. ranks the values per group, based on the total number;\n",
    "    4. takes only the top 10 ranks per group.\n",
    "\n",
    "Finally, ranks are used to remove \"States\" ranked above 10, per interstate highway. \n",
    "\"\"\"\n",
    "\n",
    "# Create a DataFrame to hold the top ten streets with the highest nuumber of accidents. All of them are highways.\n",
    "df_top_highways_by_state = df[df[\"Street\"].isin(df[\"Street\"].value_counts().nlargest(10).index)][[\"Street\", \"State\"]]\n",
    "\n",
    "# Group by \"Street\" and \"State\" and calculate the sum of accidents\n",
    "df_top_highways_by_state_ranked = (df_top_highways_by_state\n",
    "    .value_counts()\n",
    "    .groupby(level=[0,1]).sum()\n",
    "    .reset_index()\n",
    "    .rename(columns={0:\"Total\"})\n",
    ")\n",
    "\n",
    "# Group by \"Street\" to rank the \"Total\" values within each group. We are ranking them, so we can only take the top 10 ranks per group(\"Street\") \n",
    "df_top_highways_by_state_ranked[\"Rank\"] = (\n",
    "    df_top_highways_by_state_ranked\n",
    "    .groupby(\"Street\")[\"Total\"]\n",
    "    .rank(ascending=False)\n",
    ")\n",
    "\n",
    "# # Exclude values where the rank is more than 10. \n",
    "# df_top_highways_by_state_ranked = (\n",
    "#     df_top_highways_by_state_ranked[df_top_highways_by_state_ranked[\"Rank\"] <= 10]\n",
    "#     .astype({\"Rank\":\"int32\"})\n",
    "# )\n",
    "\n",
    "df_top_highways_by_state_ranked.sort_values([\"Street\", \"Rank\", \"State\"]).head(20)"
   ]
  },
  {
   "cell_type": "code",
   "execution_count": 62,
   "id": "93462e5b",
   "metadata": {},
   "outputs": [],
   "source": [
    "# PLACEHOLDER: Add a visualization to show States with the most accidents for each of the top 10 highways"
   ]
  },
  {
   "cell_type": "markdown",
   "id": "c26aaf6a",
   "metadata": {},
   "source": [
    "### 5.2. Time Analysis"
   ]
  },
  {
   "cell_type": "markdown",
   "id": "743f8685",
   "metadata": {},
   "source": [
    "#### 5.2.1. Year Analysis"
   ]
  },
  {
   "cell_type": "markdown",
   "id": "60205a1a",
   "metadata": {},
   "source": [
    "INSIGHT: Looks like the car accidents are increasing significantly in the past 5 year. More than 50% of all car accidents in the past 5 years happened during 2021."
   ]
  },
  {
   "cell_type": "code",
   "execution_count": 63,
   "id": "dbf0f19a",
   "metadata": {},
   "outputs": [
    {
     "data": {
      "text/html": [
       "<div>\n",
       "<style scoped>\n",
       "    .dataframe tbody tr th:only-of-type {\n",
       "        vertical-align: middle;\n",
       "    }\n",
       "\n",
       "    .dataframe tbody tr th {\n",
       "        vertical-align: top;\n",
       "    }\n",
       "\n",
       "    .dataframe thead th {\n",
       "        text-align: right;\n",
       "    }\n",
       "</style>\n",
       "<table border=\"1\" class=\"dataframe\">\n",
       "  <thead>\n",
       "    <tr style=\"text-align: right;\">\n",
       "      <th></th>\n",
       "      <th>Year</th>\n",
       "      <th>Total</th>\n",
       "      <th>Percent</th>\n",
       "    </tr>\n",
       "  </thead>\n",
       "  <tbody>\n",
       "    <tr>\n",
       "      <th>0</th>\n",
       "      <td>2021</td>\n",
       "      <td>1348322</td>\n",
       "      <td>54.82</td>\n",
       "    </tr>\n",
       "    <tr>\n",
       "      <th>1</th>\n",
       "      <td>2020</td>\n",
       "      <td>542692</td>\n",
       "      <td>22.06</td>\n",
       "    </tr>\n",
       "    <tr>\n",
       "      <th>2</th>\n",
       "      <td>2019</td>\n",
       "      <td>203349</td>\n",
       "      <td>8.27</td>\n",
       "    </tr>\n",
       "    <tr>\n",
       "      <th>3</th>\n",
       "      <td>2017</td>\n",
       "      <td>132869</td>\n",
       "      <td>5.40</td>\n",
       "    </tr>\n",
       "    <tr>\n",
       "      <th>4</th>\n",
       "      <td>2018</td>\n",
       "      <td>129434</td>\n",
       "      <td>5.26</td>\n",
       "    </tr>\n",
       "    <tr>\n",
       "      <th>5</th>\n",
       "      <td>2016</td>\n",
       "      <td>102962</td>\n",
       "      <td>4.19</td>\n",
       "    </tr>\n",
       "  </tbody>\n",
       "</table>\n",
       "</div>"
      ],
      "text/plain": [
       "   Year    Total  Percent\n",
       "0  2021  1348322    54.82\n",
       "1  2020   542692    22.06\n",
       "2  2019   203349     8.27\n",
       "3  2017   132869     5.40\n",
       "4  2018   129434     5.26\n",
       "5  2016   102962     4.19"
      ]
     },
     "execution_count": 63,
     "metadata": {},
     "output_type": "execute_result"
    }
   ],
   "source": [
    "# Calculate the total accidents per year\n",
    "\n",
    "df[\"Start_Year\"] = df[\"Start_Time\"].dt.year\n",
    "\n",
    "df_accidents_by_year = (\n",
    "    df[\"Start_Year\"]\n",
    "    .value_counts()\n",
    "    .reset_index()\n",
    "    .rename(columns={\"index\":\"Year\", \"Start_Year\":\"Total\"})\n",
    ")\n",
    "\n",
    "df_accidents_by_year[\"Percent\"] = (\n",
    "    round(\n",
    "        df_accidents_by_year[\"Total\"] / df_accidents_by_year[\"Total\"].sum() * 100, \n",
    "        2\n",
    "    )\n",
    ")\n",
    "\n",
    "df_accidents_by_year.head(6)"
   ]
  },
  {
   "cell_type": "code",
   "execution_count": 64,
   "id": "8a67629c",
   "metadata": {},
   "outputs": [
    {
     "data": {
      "image/png": "[encoded data removed]",
      "text/plain": [
       "<Figure size 720x504 with 1 Axes>"
      ]
     },
     "metadata": {},
     "output_type": "display_data"
    }
   ],
   "source": [
    "# Group all years between 2016 and 2019 and compare them with 2020 and 2021 to highlight the dramatic increase in accidents.\n",
    "\n",
    "recent_years = df_accidents_by_year[df_accidents_by_year[\"Year\"].isin([2021, 2020])]\n",
    "\n",
    "years_aggregated = pd.DataFrame({\n",
    "    \"Year\": \"2016 - 2019\",\n",
    "    \"Total\": [df_accidents_by_year[~df_accidents_by_year[\"Year\"].isin([2021, 2020])][\"Total\"].sum()],\n",
    "    \"Percent\": [df_accidents_by_year[~df_accidents_by_year[\"Year\"].isin([2021, 2020])][\"Percent\"].sum()]\n",
    "})\n",
    "\n",
    "years_appended = pd.concat([recent_years, years_aggregated])\n",
    "\n",
    "slices = years_appended[\"Percent\"]\n",
    "labels = years_appended[\"Year\"]\n",
    "explode = [0.04, 0.05, 0.05]\n",
    "colors = [\"#C70039\", \"#FF5733\", \"#FFC300\"]\n",
    "\n",
    "plt_size = plt.figure(figsize=(10,7))\n",
    "plt.pie(slices, labels=labels, explode=explode, colors=colors, shadow=True, autopct=\"%1.1f%%\", startangle=-85)\n",
    "plt.title(\"Accidents by year (2016 - 2021)\", fontweight=\"bold\", fontsize=16)\n",
    "\n",
    "plt.show()"
   ]
  },
  {
   "cell_type": "markdown",
   "id": "f8e713b8",
   "metadata": {},
   "source": [
    "#### 5.2.2. Month Analysis"
   ]
  },
  {
   "cell_type": "markdown",
   "id": "63f4624b",
   "metadata": {},
   "source": [
    "INSIGHT: The car accidents are increasing towards the end of the year. About 40% of the car accidents happened in the last three months of the year - October, November, December."
   ]
  },
  {
   "cell_type": "code",
   "execution_count": 65,
   "id": "d421e8c5",
   "metadata": {},
   "outputs": [],
   "source": [
    "df[\"Start_Month\"] = df[\"Start_Time\"].dt.month\n",
    "\n",
    "lookup_months = {\n",
    "    1:\"January\", \n",
    "    2: \"February\", \n",
    "    3: \"March\", \n",
    "    4:\"April\", \n",
    "    5:\"May\", \n",
    "    6:\"June\", \n",
    "    7:\"July\", \n",
    "    8:\"August\", \n",
    "    9:\"September\", \n",
    "    10:\"October\", \n",
    "    11:\"November\", \n",
    "    12:\"December\"\n",
    "}\n",
    "\n",
    "df[\"Start_Month\"] = df[\"Start_Month\"].apply(lambda x: lookup_months[x])"
   ]
  },
  {
   "cell_type": "code",
   "execution_count": 66,
   "id": "3be8ac7d",
   "metadata": {},
   "outputs": [
    {
     "data": {
      "text/html": [
       "<div>\n",
       "<style scoped>\n",
       "    .dataframe tbody tr th:only-of-type {\n",
       "        vertical-align: middle;\n",
       "    }\n",
       "\n",
       "    .dataframe tbody tr th {\n",
       "        vertical-align: top;\n",
       "    }\n",
       "\n",
       "    .dataframe thead th {\n",
       "        text-align: right;\n",
       "    }\n",
       "</style>\n",
       "<table border=\"1\" class=\"dataframe\">\n",
       "  <thead>\n",
       "    <tr style=\"text-align: right;\">\n",
       "      <th></th>\n",
       "      <th>Percent</th>\n",
       "    </tr>\n",
       "  </thead>\n",
       "  <tbody>\n",
       "    <tr>\n",
       "      <th>December</th>\n",
       "      <td>16.43</td>\n",
       "    </tr>\n",
       "    <tr>\n",
       "      <th>November</th>\n",
       "      <td>12.93</td>\n",
       "    </tr>\n",
       "    <tr>\n",
       "      <th>October</th>\n",
       "      <td>10.80</td>\n",
       "    </tr>\n",
       "    <tr>\n",
       "      <th>September</th>\n",
       "      <td>8.78</td>\n",
       "    </tr>\n",
       "    <tr>\n",
       "      <th>June</th>\n",
       "      <td>7.96</td>\n",
       "    </tr>\n",
       "    <tr>\n",
       "      <th>January</th>\n",
       "      <td>6.74</td>\n",
       "    </tr>\n",
       "    <tr>\n",
       "      <th>February</th>\n",
       "      <td>6.51</td>\n",
       "    </tr>\n",
       "    <tr>\n",
       "      <th>August</th>\n",
       "      <td>6.37</td>\n",
       "    </tr>\n",
       "    <tr>\n",
       "      <th>May</th>\n",
       "      <td>6.36</td>\n",
       "    </tr>\n",
       "    <tr>\n",
       "      <th>April</th>\n",
       "      <td>6.01</td>\n",
       "    </tr>\n",
       "    <tr>\n",
       "      <th>July</th>\n",
       "      <td>5.64</td>\n",
       "    </tr>\n",
       "    <tr>\n",
       "      <th>March</th>\n",
       "      <td>5.48</td>\n",
       "    </tr>\n",
       "  </tbody>\n",
       "</table>\n",
       "</div>"
      ],
      "text/plain": [
       "           Percent\n",
       "December     16.43\n",
       "November     12.93\n",
       "October      10.80\n",
       "September     8.78\n",
       "June          7.96\n",
       "January       6.74\n",
       "February      6.51\n",
       "August        6.37\n",
       "May           6.36\n",
       "April         6.01\n",
       "July          5.64\n",
       "March         5.48"
      ]
     },
     "execution_count": 66,
     "metadata": {},
     "output_type": "execute_result"
    }
   ],
   "source": [
    "# Calculate the total accidents (in percents) per month\n",
    "\n",
    "df_accidents_by_month_percent = df[\"Start_Month\"].value_counts() / df[\"Start_Month\"].value_counts().sum() * 100\n",
    "\n",
    "(df_accidents_by_month_percent\n",
    "    .round(2)\n",
    "    .to_frame()\n",
    "    .rename(columns={\"Start_Month\":\"Percent\"})\n",
    ")"
   ]
  },
  {
   "cell_type": "code",
   "execution_count": 67,
   "id": "c8432e26",
   "metadata": {},
   "outputs": [
    {
     "data": {
      "image/png": "[encoded data removed]",
      "text/plain": [
       "<Figure size 648x432 with 1 Axes>"
      ]
     },
     "metadata": {},
     "output_type": "display_data"
    }
   ],
   "source": [
    "# Plot the rolling mean of accidents over periods of 90 days. \n",
    "\n",
    "df_accidents_rolling_mean = df[\"Start_Time\"].astype(\"str\").str[:10].value_counts().reset_index()\n",
    "df_accidents_rolling_mean[\"index\"] = pd.to_datetime(df_accidents_rolling_mean[\"index\"])\n",
    "df_accidents_rolling_mean = df_accidents_rolling_mean.set_index(\"index\").sort_index().rolling(90).mean()\n",
    "\n",
    "fig, ax = plt.subplots(figsize=(9, 6))\n",
    "\n",
    "half_year_locator = mdates.MonthLocator(interval=6)\n",
    "year_month_formatter = mdates.DateFormatter(\"%Y-%m\") # four digits for year, two for month\n",
    "\n",
    "ax.xaxis.set_major_locator(half_year_locator)\n",
    "ax.xaxis.set_major_formatter(year_month_formatter) # formatter for major axis only\n",
    "\n",
    "ax.plot(df_accidents_rolling_mean.index, df_accidents_rolling_mean.values, linewidth=2.5)\n",
    "\n",
    "plt.xticks(size=10, rotation=20)\n",
    "plt.title(\"Total Accidents over the period 2016 - 2021\", fontsize=16, fontweight=\"bold\", pad=10)\n",
    "plt.xlabel(\"Year-Month\", fontsize=13, fontweight=\"bold\")\n",
    "plt.ylabel(\"Accidents\", fontsize=13, fontweight=\"bold\")\n",
    "plt.tight_layout()"
   ]
  },
  {
   "cell_type": "markdown",
   "id": "a5322135",
   "metadata": {},
   "source": [
    "#### 5.2.3. Day Analysis"
   ]
  },
  {
   "cell_type": "markdown",
   "metadata": {},
   "source": [
    "INSIGHT: \n",
    "* The number of accidents tends to be higher on weekdays, peaking on Fridays. \n",
    "* Sundays have the least amount of accidents. "
   ]
  },
  {
   "cell_type": "code",
   "execution_count": 68,
   "id": "e67e94d8",
   "metadata": {},
   "outputs": [],
   "source": [
    "df[\"Start_Day_of_week\"] = df[\"Start_Time\"].dt.day_name()\n",
    "df[\"Start_Day\"]  = df[\"Start_Time\"].dt.day"
   ]
  },
  {
   "cell_type": "code",
   "execution_count": 69,
   "id": "517c8365",
   "metadata": {},
   "outputs": [
    {
     "data": {
      "text/html": [
       "<div>\n",
       "<style scoped>\n",
       "    .dataframe tbody tr th:only-of-type {\n",
       "        vertical-align: middle;\n",
       "    }\n",
       "\n",
       "    .dataframe tbody tr th {\n",
       "        vertical-align: top;\n",
       "    }\n",
       "\n",
       "    .dataframe thead th {\n",
       "        text-align: right;\n",
       "    }\n",
       "</style>\n",
       "<table border=\"1\" class=\"dataframe\">\n",
       "  <thead>\n",
       "    <tr style=\"text-align: right;\">\n",
       "      <th></th>\n",
       "      <th>Percent</th>\n",
       "    </tr>\n",
       "  </thead>\n",
       "  <tbody>\n",
       "    <tr>\n",
       "      <th>Friday</th>\n",
       "      <td>17.41</td>\n",
       "    </tr>\n",
       "    <tr>\n",
       "      <th>Thursday</th>\n",
       "      <td>16.39</td>\n",
       "    </tr>\n",
       "    <tr>\n",
       "      <th>Wednesday</th>\n",
       "      <td>16.12</td>\n",
       "    </tr>\n",
       "    <tr>\n",
       "      <th>Tuesday</th>\n",
       "      <td>15.71</td>\n",
       "    </tr>\n",
       "    <tr>\n",
       "      <th>Monday</th>\n",
       "      <td>14.70</td>\n",
       "    </tr>\n",
       "    <tr>\n",
       "      <th>Saturday</th>\n",
       "      <td>10.89</td>\n",
       "    </tr>\n",
       "    <tr>\n",
       "      <th>Sunday</th>\n",
       "      <td>8.79</td>\n",
       "    </tr>\n",
       "  </tbody>\n",
       "</table>\n",
       "</div>"
      ],
      "text/plain": [
       "           Percent\n",
       "Friday       17.41\n",
       "Thursday     16.39\n",
       "Wednesday    16.12\n",
       "Tuesday      15.71\n",
       "Monday       14.70\n",
       "Saturday     10.89\n",
       "Sunday        8.79"
      ]
     },
     "execution_count": 69,
     "metadata": {},
     "output_type": "execute_result"
    }
   ],
   "source": [
    "# Calculate the total accidents (in percents) per day of week\n",
    "\n",
    "df_accidents_by_day_percent = df[\"Start_Day_of_week\"].value_counts() / df[\"Start_Day_of_week\"].value_counts().sum() * 100\n",
    "\n",
    "df_accidents_by_day_percent = (\n",
    "    df_accidents_by_day_percent\n",
    "    .round(2)\n",
    "    .to_frame()\n",
    "    .rename(columns={\"Start_Day_of_week\":\"Percent\"})\n",
    ")\n",
    "\n",
    "df_accidents_by_day_percent"
   ]
  },
  {
   "cell_type": "code",
   "execution_count": 70,
   "id": "bbc221d5",
   "metadata": {},
   "outputs": [
    {
     "data": {
      "image/png": "[encoded data removed]",
      "text/plain": [
       "<Figure size 648x432 with 1 Axes>"
      ]
     },
     "metadata": {},
     "output_type": "display_data"
    }
   ],
   "source": [
    "# Visualize average percent of total accidents by week day, using a bar chart to clearly show the difference between the compared groups.\n",
    "\n",
    "lookup_days = {\n",
    "    \"Monday\":1,\n",
    "    \"Tuesday\":2,\n",
    "    \"Wednesday\":3,\n",
    "    \"Thursday\":4,\n",
    "    \"Friday\":5,\n",
    "    \"Saturday\":6,\n",
    "    \"Sunday\":7,\n",
    "}\n",
    "\n",
    "df_accidents_by_day_percent[\"Day_Num\"] = df_accidents_by_day_percent.index.map(lookup_days)\n",
    "df_accidents_by_day_percent = df_accidents_by_day_percent.sort_values(\"Day_Num\")\n",
    "\n",
    "\n",
    "plt_size = plt.figure(figsize=(9,6))\n",
    "barElements = plt.bar(df_accidents_by_day_percent.index, df_accidents_by_day_percent[\"Percent\"], width=0.5)\n",
    "plt.axhline(df_accidents_by_day_percent[\"Percent\"].mean(), color='#ffbf00', linewidth=1.2, label=\"Average\")\n",
    "plt.title(\"% of total accidents per week day (2016 - 2021)\", fontsize=16, fontweight=\"bold\", pad=10)\n",
    "plt.xlabel(\"Week day\", fontsize=13, fontweight=\"bold\")\n",
    "plt.ylabel(\"%\", fontsize=13, fontweight=\"bold\")\n",
    "plt.legend()\n",
    "plt.grid(False)\n",
    "\n",
    "# Set the alpha of each bar according to its value\n",
    "for i, y in zip(list(range(len(df_accidents_by_day_percent.index))), df_accidents_by_day_percent[\"Percent\"]):\n",
    "    barElements[i].set_alpha((y / 18))"
   ]
  },
  {
   "cell_type": "markdown",
   "id": "7110d7bb",
   "metadata": {},
   "source": [
    "INSIGHT: Is Friday the 13th a bad day in terms of car accidents? Not really! Friday the 13th is just an average day."
   ]
  },
  {
   "cell_type": "code",
   "execution_count": 71,
   "id": "b6f87cd1",
   "metadata": {},
   "outputs": [
    {
     "data": {
      "text/html": [
       "<div>\n",
       "<style scoped>\n",
       "    .dataframe tbody tr th:only-of-type {\n",
       "        vertical-align: middle;\n",
       "    }\n",
       "\n",
       "    .dataframe tbody tr th {\n",
       "        vertical-align: top;\n",
       "    }\n",
       "\n",
       "    .dataframe thead th {\n",
       "        text-align: right;\n",
       "    }\n",
       "</style>\n",
       "<table border=\"1\" class=\"dataframe\">\n",
       "  <thead>\n",
       "    <tr style=\"text-align: right;\">\n",
       "      <th></th>\n",
       "      <th>Day_of_month</th>\n",
       "      <th>Percent</th>\n",
       "    </tr>\n",
       "  </thead>\n",
       "  <tbody>\n",
       "    <tr>\n",
       "      <th>0</th>\n",
       "      <td>17</td>\n",
       "      <td>4.99</td>\n",
       "    </tr>\n",
       "    <tr>\n",
       "      <th>1</th>\n",
       "      <td>19</td>\n",
       "      <td>4.96</td>\n",
       "    </tr>\n",
       "    <tr>\n",
       "      <th>2</th>\n",
       "      <td>10</td>\n",
       "      <td>4.86</td>\n",
       "    </tr>\n",
       "    <tr>\n",
       "      <th>3</th>\n",
       "      <td>12</td>\n",
       "      <td>4.59</td>\n",
       "    </tr>\n",
       "    <tr>\n",
       "      <th>4</th>\n",
       "      <td>5</td>\n",
       "      <td>4.58</td>\n",
       "    </tr>\n",
       "    <tr>\n",
       "      <th>5</th>\n",
       "      <td>24</td>\n",
       "      <td>4.46</td>\n",
       "    </tr>\n",
       "    <tr>\n",
       "      <th>6</th>\n",
       "      <td>22</td>\n",
       "      <td>3.78</td>\n",
       "    </tr>\n",
       "    <tr>\n",
       "      <th>7</th>\n",
       "      <td>30</td>\n",
       "      <td>3.71</td>\n",
       "    </tr>\n",
       "    <tr>\n",
       "      <th>8</th>\n",
       "      <td>3</td>\n",
       "      <td>3.71</td>\n",
       "    </tr>\n",
       "    <tr>\n",
       "      <th>9</th>\n",
       "      <td>20</td>\n",
       "      <td>3.65</td>\n",
       "    </tr>\n",
       "    <tr>\n",
       "      <th>10</th>\n",
       "      <td>8</td>\n",
       "      <td>3.56</td>\n",
       "    </tr>\n",
       "    <tr>\n",
       "      <th>11</th>\n",
       "      <td>29</td>\n",
       "      <td>3.53</td>\n",
       "    </tr>\n",
       "    <tr>\n",
       "      <th>12</th>\n",
       "      <td>15</td>\n",
       "      <td>3.51</td>\n",
       "    </tr>\n",
       "    <tr>\n",
       "      <th>13</th>\n",
       "      <td>18</td>\n",
       "      <td>3.39</td>\n",
       "    </tr>\n",
       "    <tr>\n",
       "      <th>14</th>\n",
       "      <td>13</td>\n",
       "      <td>3.34</td>\n",
       "    </tr>\n",
       "  </tbody>\n",
       "</table>\n",
       "</div>"
      ],
      "text/plain": [
       "    Day_of_month  Percent\n",
       "0             17     4.99\n",
       "1             19     4.96\n",
       "2             10     4.86\n",
       "3             12     4.59\n",
       "4              5     4.58\n",
       "5             24     4.46\n",
       "6             22     3.78\n",
       "7             30     3.71\n",
       "8              3     3.71\n",
       "9             20     3.65\n",
       "10             8     3.56\n",
       "11            29     3.53\n",
       "12            15     3.51\n",
       "13            18     3.39\n",
       "14            13     3.34"
      ]
     },
     "execution_count": 71,
     "metadata": {},
     "output_type": "execute_result"
    }
   ],
   "source": [
    "# Calculate total accidents (in percent) by day of month, when the day of week is Friday\n",
    "df_accidents_by_day_friday = (\n",
    "    df[df[\"Start_Day_of_week\"] == \"Friday\"][\"Start_Day\"].value_counts() / df[df[\"Start_Day_of_week\"] == \"Friday\"][\"Start_Day\"].value_counts().sum() * 100\n",
    ")\n",
    "\n",
    "(df_accidents_by_day_friday\n",
    "    .round(2)\n",
    "    .reset_index()\n",
    "    .rename(columns={\"index\":\"Day_of_month\", \"Start_Day\":\"Percent\"})\n",
    "    .head(15)\n",
    ")"
   ]
  },
  {
   "cell_type": "markdown",
   "id": "0e34b5c1",
   "metadata": {},
   "source": [
    "#### 5.2.4. Hour Analysis"
   ]
  },
  {
   "cell_type": "markdown",
   "id": "45e7aad2",
   "metadata": {},
   "source": [
    "INSIGHT: Almost 50% of all accidents happened in the hours between 12 PM until 6 PM. On the other hand, the hours between 11 PM until 5 AM are the safest, with only 15% percent of all accidents."
   ]
  },
  {
   "cell_type": "code",
   "execution_count": 72,
   "id": "43967f0d",
   "metadata": {},
   "outputs": [
    {
     "name": "stdout",
     "output_type": "stream",
     "text": [
      "Percent of accidents during the afternoon hours (12 PM to 6 PM): 47.59%\n",
      "Percent of accidents during the night hours (11 PM to 5 AM): 14.92%\n"
     ]
    },
    {
     "data": {
      "text/html": [
       "<div>\n",
       "<style scoped>\n",
       "    .dataframe tbody tr th:only-of-type {\n",
       "        vertical-align: middle;\n",
       "    }\n",
       "\n",
       "    .dataframe tbody tr th {\n",
       "        vertical-align: top;\n",
       "    }\n",
       "\n",
       "    .dataframe thead th {\n",
       "        text-align: right;\n",
       "    }\n",
       "</style>\n",
       "<table border=\"1\" class=\"dataframe\">\n",
       "  <thead>\n",
       "    <tr style=\"text-align: right;\">\n",
       "      <th></th>\n",
       "      <th>Hour</th>\n",
       "      <th>Total</th>\n",
       "      <th>Percent</th>\n",
       "    </tr>\n",
       "  </thead>\n",
       "  <tbody>\n",
       "    <tr>\n",
       "      <th>0</th>\n",
       "      <td>17</td>\n",
       "      <td>196331</td>\n",
       "      <td>7.98</td>\n",
       "    </tr>\n",
       "    <tr>\n",
       "      <th>1</th>\n",
       "      <td>16</td>\n",
       "      <td>194334</td>\n",
       "      <td>7.90</td>\n",
       "    </tr>\n",
       "    <tr>\n",
       "      <th>2</th>\n",
       "      <td>15</td>\n",
       "      <td>190396</td>\n",
       "      <td>7.74</td>\n",
       "    </tr>\n",
       "    <tr>\n",
       "      <th>3</th>\n",
       "      <td>14</td>\n",
       "      <td>169278</td>\n",
       "      <td>6.88</td>\n",
       "    </tr>\n",
       "    <tr>\n",
       "      <th>4</th>\n",
       "      <td>18</td>\n",
       "      <td>149116</td>\n",
       "      <td>6.06</td>\n",
       "    </tr>\n",
       "    <tr>\n",
       "      <th>5</th>\n",
       "      <td>13</td>\n",
       "      <td>145929</td>\n",
       "      <td>5.93</td>\n",
       "    </tr>\n",
       "    <tr>\n",
       "      <th>6</th>\n",
       "      <td>12</td>\n",
       "      <td>125456</td>\n",
       "      <td>5.10</td>\n",
       "    </tr>\n",
       "    <tr>\n",
       "      <th>7</th>\n",
       "      <td>7</td>\n",
       "      <td>114486</td>\n",
       "      <td>4.65</td>\n",
       "    </tr>\n",
       "    <tr>\n",
       "      <th>8</th>\n",
       "      <td>8</td>\n",
       "      <td>111205</td>\n",
       "      <td>4.52</td>\n",
       "    </tr>\n",
       "    <tr>\n",
       "      <th>9</th>\n",
       "      <td>19</td>\n",
       "      <td>101267</td>\n",
       "      <td>4.12</td>\n",
       "    </tr>\n",
       "    <tr>\n",
       "      <th>10</th>\n",
       "      <td>11</td>\n",
       "      <td>97373</td>\n",
       "      <td>3.96</td>\n",
       "    </tr>\n",
       "    <tr>\n",
       "      <th>11</th>\n",
       "      <td>6</td>\n",
       "      <td>93592</td>\n",
       "      <td>3.81</td>\n",
       "    </tr>\n",
       "    <tr>\n",
       "      <th>12</th>\n",
       "      <td>9</td>\n",
       "      <td>92035</td>\n",
       "      <td>3.74</td>\n",
       "    </tr>\n",
       "    <tr>\n",
       "      <th>13</th>\n",
       "      <td>10</td>\n",
       "      <td>88229</td>\n",
       "      <td>3.59</td>\n",
       "    </tr>\n",
       "    <tr>\n",
       "      <th>14</th>\n",
       "      <td>20</td>\n",
       "      <td>81063</td>\n",
       "      <td>3.30</td>\n",
       "    </tr>\n",
       "    <tr>\n",
       "      <th>15</th>\n",
       "      <td>21</td>\n",
       "      <td>74052</td>\n",
       "      <td>3.01</td>\n",
       "    </tr>\n",
       "    <tr>\n",
       "      <th>16</th>\n",
       "      <td>22</td>\n",
       "      <td>68742</td>\n",
       "      <td>2.79</td>\n",
       "    </tr>\n",
       "    <tr>\n",
       "      <th>17</th>\n",
       "      <td>5</td>\n",
       "      <td>67520</td>\n",
       "      <td>2.75</td>\n",
       "    </tr>\n",
       "    <tr>\n",
       "      <th>18</th>\n",
       "      <td>23</td>\n",
       "      <td>62698</td>\n",
       "      <td>2.55</td>\n",
       "    </tr>\n",
       "    <tr>\n",
       "      <th>19</th>\n",
       "      <td>0</td>\n",
       "      <td>56784</td>\n",
       "      <td>2.31</td>\n",
       "    </tr>\n",
       "    <tr>\n",
       "      <th>20</th>\n",
       "      <td>1</td>\n",
       "      <td>50137</td>\n",
       "      <td>2.04</td>\n",
       "    </tr>\n",
       "    <tr>\n",
       "      <th>21</th>\n",
       "      <td>2</td>\n",
       "      <td>46458</td>\n",
       "      <td>1.89</td>\n",
       "    </tr>\n",
       "    <tr>\n",
       "      <th>22</th>\n",
       "      <td>4</td>\n",
       "      <td>42859</td>\n",
       "      <td>1.74</td>\n",
       "    </tr>\n",
       "    <tr>\n",
       "      <th>23</th>\n",
       "      <td>3</td>\n",
       "      <td>40288</td>\n",
       "      <td>1.64</td>\n",
       "    </tr>\n",
       "  </tbody>\n",
       "</table>\n",
       "</div>"
      ],
      "text/plain": [
       "    Hour   Total  Percent\n",
       "0     17  196331     7.98\n",
       "1     16  194334     7.90\n",
       "2     15  190396     7.74\n",
       "3     14  169278     6.88\n",
       "4     18  149116     6.06\n",
       "5     13  145929     5.93\n",
       "6     12  125456     5.10\n",
       "7      7  114486     4.65\n",
       "8      8  111205     4.52\n",
       "9     19  101267     4.12\n",
       "10    11   97373     3.96\n",
       "11     6   93592     3.81\n",
       "12     9   92035     3.74\n",
       "13    10   88229     3.59\n",
       "14    20   81063     3.30\n",
       "15    21   74052     3.01\n",
       "16    22   68742     2.79\n",
       "17     5   67520     2.75\n",
       "18    23   62698     2.55\n",
       "19     0   56784     2.31\n",
       "20     1   50137     2.04\n",
       "21     2   46458     1.89\n",
       "22     4   42859     1.74\n",
       "23     3   40288     1.64"
      ]
     },
     "execution_count": 72,
     "metadata": {},
     "output_type": "execute_result"
    }
   ],
   "source": [
    "df_accidents_hours = (\n",
    "    df[\"Start_Time\"]\n",
    "    .dt.hour\n",
    "    .value_counts()\n",
    "    .reset_index()\n",
    "    .rename(columns={\"index\":\"Hour\", \"Start_Time\":\"Total\"})\n",
    ")\n",
    "\n",
    "df_accidents_hours[\"Percent\"] = (\n",
    "    round((df_accidents_hours[\"Total\"] / df_accidents_hours[\"Total\"].sum()) * 100, 2)\n",
    ")\n",
    "\n",
    "afternoon_accidents_percent = (df_accidents_hours[df_accidents_hours[\"Hour\"].isin([12,13,14,15,16,17,18])][\"Percent\"].sum())\n",
    "print(f\"Percent of accidents during the afternoon hours (12 PM to 6 PM): {afternoon_accidents_percent}%\")\n",
    "\n",
    "night_time_accidents_percent = (df_accidents_hours[df_accidents_hours[\"Hour\"].isin([23, 0, 1, 2, 3, 4, 5])][\"Percent\"].sum())\n",
    "print(f\"Percent of accidents during the night hours (11 PM to 5 AM): {night_time_accidents_percent}%\")\n",
    " \n",
    "\n",
    "df_accidents_hours.head(24)"
   ]
  },
  {
   "cell_type": "code",
   "execution_count": 73,
   "id": "00422810",
   "metadata": {},
   "outputs": [
    {
     "data": {
      "image/png": "[encoded data removed]",
      "text/plain": [
       "<Figure size 648x432 with 1 Axes>"
      ]
     },
     "metadata": {},
     "output_type": "display_data"
    }
   ],
   "source": [
    "# Visualize the % of total accidents by hour, using a bar chart to clearly show the difference between the groups.\n",
    "# Bar charts are best when the changes between the different groups are large, as it is in this case.\n",
    "\n",
    "plt_size = plt.figure(figsize=(9,6))\n",
    "bars = plt.bar(df_accidents_hours.sort_values(\"Hour\")[\"Hour\"], df_accidents_hours.sort_values(\"Hour\")[\"Percent\"], width=0.7)\n",
    "plt.title(\"% of total accidents by hour (2016 - 2021)\", fontsize=16, fontweight=\"bold\", pad=10)\n",
    "plt.axhline(df_accidents_hours.sort_values(\"Hour\")[\"Percent\"].mean(), color='#ffbf00', linewidth=1.2, label=\"Average\")\n",
    "plt.xlabel(\"Hour\", fontsize=13, fontweight=\"bold\")\n",
    "plt.ylabel(\"% of Total Accidents\", fontsize=13, fontweight=\"bold\")\n",
    "plt.xticks([i for i in range(0, 24)])\n",
    "plt.legend(loc=\"upper left\")\n",
    "plt.grid(False)\n",
    "\n",
    "# Set the alpha of each bar according to its value\n",
    "for i, y in zip(list(range(24)), df_accidents_hours.sort_values(\"Hour\")[\"Percent\"]):\n",
    "    bars[i].set_alpha((y / 10) + (1 - max(df_accidents_hours.sort_values(\"Hour\")[\"Percent\"])/10))"
   ]
  },
  {
   "cell_type": "markdown",
   "id": "eb21c6fd",
   "metadata": {},
   "source": [
    "#### 5.2.5. Accident duration analysis"
   ]
  },
  {
   "cell_type": "markdown",
   "id": "58186c29",
   "metadata": {},
   "source": [
    "INSIGHT: Most of the car accidents are with duration of 1 hour and 15 minutes."
   ]
  },
  {
   "cell_type": "code",
   "execution_count": 74,
   "id": "11e89dd3",
   "metadata": {},
   "outputs": [
    {
     "data": {
      "text/plain": [
       "Text(0.5, 0, 'Duration (in hours)')"
      ]
     },
     "execution_count": 74,
     "metadata": {},
     "output_type": "execute_result"
    },
    {
     "data": {
      "image/png": "[encoded data removed]",
      "text/plain": [
       "<Figure size 648x432 with 1 Axes>"
      ]
     },
     "metadata": {},
     "output_type": "display_data"
    }
   ],
   "source": [
    "# Calculate the duration (in hours) of an accident by substracting the start time from the end time.\n",
    "# Split the result into seven bins by duration intervals\n",
    "\n",
    "df[\"Duration_Hours\"] = (df[\"End_Time\"] - df[\"Start_Time\"]).dt.round(\"15min\")\n",
    "\n",
    "\n",
    "duration_bins = [0, 1, 2, 3, 4, 5, 6, 100000]\n",
    "duration_labels = [\"0 - 1\", \"1 - 2\", \"2 - 3\", \"3 - 4\", \"4 - 5\", \"5 - 6\", \"6 =<\"]\n",
    "\n",
    "df_top_accident_duration_bins = (\n",
    "    pd.cut(\n",
    "      df[\"Duration_Hours\"] / datetime.timedelta(hours=1),\n",
    "      bins = duration_bins,\n",
    "      labels = duration_labels  \n",
    "    )\n",
    ")\n",
    "\n",
    "# duration_data = df_top_accident_duration_bins.value_counts().reindex(duration_labels)\n",
    "df_top_accident_duration_bins = (\n",
    "  df_top_accident_duration_bins\n",
    "  .value_counts()\n",
    "  .reset_index()\n",
    "  .rename(columns={\"Duration_Hours\":\"Total\"})\n",
    ")\n",
    "\n",
    "df_top_accident_duration_bins[\"Percent\"] = round(df_top_accident_duration_bins[\"Total\"] / df_top_accident_duration_bins[\"Total\"].sum(), 2) * 100\n",
    "df_top_accident_duration_bins = df_top_accident_duration_bins.set_index(\"index\").reindex(duration_labels)\n",
    "\n",
    "# Visualize the data using a bar chart to show the difference between the categories\n",
    "duration_data = df_top_accident_duration_bins.reindex(duration_labels)[\"Percent\"]\n",
    "\n",
    "fig = plt.figure(figsize=(9,6))\n",
    "plt.bar(duration_labels, duration_data, width=0.5)\n",
    "plt.title(\"% of total accidents by duration (2016 - 2021)\", fontsize=16, fontweight=\"bold\", pad=10)\n",
    "plt.ylabel(\"%\", fontsize=13, fontweight=\"bold\")\n",
    "plt.xlabel(\"Duration (in hours)\", fontsize=13, fontweight=\"bold\")"
   ]
  },
  {
   "cell_type": "markdown",
   "id": "4ed8c874",
   "metadata": {},
   "source": [
    "#### 5.2.6. Season Analysis"
   ]
  },
  {
   "cell_type": "markdown",
   "id": "6db5045f",
   "metadata": {},
   "source": [
    "INSIGHT: Most of the accidents happend during the Autumnm. Almost two times more when compared with the Spring season."
   ]
  },
  {
   "cell_type": "code",
   "execution_count": 75,
   "id": "1610c867",
   "metadata": {},
   "outputs": [],
   "source": [
    "# Define a function, which returns the season based on name of month\n",
    "def seasons(month):\n",
    "    if month in [\"March\", \"April\", \"May\"]:\n",
    "        return \"Spring\"\n",
    "    elif month in [\"June\", \"July\", \"August\"]:\n",
    "        return \"Summer\"\n",
    "    elif month in [\"September\", \"October\", \"November\"]:\n",
    "        return \"Autumn\"\n",
    "    elif month in [\"December\", \"January\", \"February\"]:\n",
    "        return \"Winter\"\n",
    "    else:\n",
    "        return \"Unknown\"\n",
    "\n",
    "# Create new column to hold the season value\n",
    "df[\"Season\"] = df[\"Start_Month\"].apply(lambda x: seasons(x))"
   ]
  },
  {
   "cell_type": "code",
   "execution_count": 76,
   "id": "6562cb05",
   "metadata": {},
   "outputs": [
    {
     "data": {
      "text/html": [
       "<div>\n",
       "<style scoped>\n",
       "    .dataframe tbody tr th:only-of-type {\n",
       "        vertical-align: middle;\n",
       "    }\n",
       "\n",
       "    .dataframe tbody tr th {\n",
       "        vertical-align: top;\n",
       "    }\n",
       "\n",
       "    .dataframe thead th {\n",
       "        text-align: right;\n",
       "    }\n",
       "</style>\n",
       "<table border=\"1\" class=\"dataframe\">\n",
       "  <thead>\n",
       "    <tr style=\"text-align: right;\">\n",
       "      <th></th>\n",
       "      <th>Total</th>\n",
       "      <th>Percent</th>\n",
       "    </tr>\n",
       "    <tr>\n",
       "      <th>Season</th>\n",
       "      <th></th>\n",
       "      <th></th>\n",
       "    </tr>\n",
       "  </thead>\n",
       "  <tbody>\n",
       "    <tr>\n",
       "      <th>Autumn</th>\n",
       "      <td>799572</td>\n",
       "      <td>32.5</td>\n",
       "    </tr>\n",
       "    <tr>\n",
       "      <th>Winter</th>\n",
       "      <td>729817</td>\n",
       "      <td>29.7</td>\n",
       "    </tr>\n",
       "    <tr>\n",
       "      <th>Summer</th>\n",
       "      <td>491367</td>\n",
       "      <td>20.0</td>\n",
       "    </tr>\n",
       "    <tr>\n",
       "      <th>Spring</th>\n",
       "      <td>438872</td>\n",
       "      <td>17.8</td>\n",
       "    </tr>\n",
       "  </tbody>\n",
       "</table>\n",
       "</div>"
      ],
      "text/plain": [
       "         Total  Percent\n",
       "Season                 \n",
       "Autumn  799572     32.5\n",
       "Winter  729817     29.7\n",
       "Summer  491367     20.0\n",
       "Spring  438872     17.8"
      ]
     },
     "execution_count": 76,
     "metadata": {},
     "output_type": "execute_result"
    }
   ],
   "source": [
    "# Calculate total accidents by season\n",
    "df_accidents_seasons = (\n",
    "    df[\"Season\"]\n",
    "    .value_counts()\n",
    "    .reset_index()\n",
    "    .rename(columns={\"index\":\"Season\", \"Season\":\"Total\"})\n",
    ")\n",
    "\n",
    "df_accidents_seasons[\"Percent\"] = round((df_accidents_seasons[\"Total\"] / df_accidents_seasons[\"Total\"].sum()) * 100, 1)\n",
    "df_accidents_seasons = df_accidents_seasons.set_index(\"Season\")\n",
    "\n",
    "df_accidents_seasons.head()"
   ]
  },
  {
   "cell_type": "code",
   "execution_count": 77,
   "id": "60243000",
   "metadata": {},
   "outputs": [
    {
     "data": {
      "text/plain": [
       "Text(0.5, 1.0, '% of Total Accidents by Season (2016 - 2021)')"
      ]
     },
     "execution_count": 77,
     "metadata": {},
     "output_type": "execute_result"
    },
    {
     "data": {
      "image/png": "[encoded data removed]",
      "text/plain": [
       "<Figure size 720x504 with 1 Axes>"
      ]
     },
     "metadata": {},
     "output_type": "display_data"
    }
   ],
   "source": [
    "# Add title !\n",
    "\n",
    "season_slices = df_accidents_seasons[\"Percent\"].values\n",
    "season_labels = df_accidents_seasons[\"Percent\"].index\n",
    "explode = [0.05, 0.05, 0.05, 0.05]\n",
    "# Add colors\n",
    "\n",
    "plt_size = plt.figure(figsize=(10,7))\n",
    "plt.pie(season_slices, labels=season_labels, explode=explode, shadow=True, autopct=\"%1.1f%%\", startangle=-85)\n",
    "plt.title(\"% of Total Accidents by Season (2016 - 2021)\", fontweight=\"bold\", fontsize=16)"
   ]
  },
  {
   "cell_type": "markdown",
   "id": "a711dc54",
   "metadata": {},
   "source": [
    "### 5.3. Weather Conditions Analysis"
   ]
  },
  {
   "cell_type": "markdown",
   "id": "df5b13cd",
   "metadata": {},
   "source": [
    "#### 5.3.1. Temperature Analysis"
   ]
  },
  {
   "cell_type": "code",
   "execution_count": 78,
   "id": "eb7e39a4",
   "metadata": {},
   "outputs": [],
   "source": [
    "# Define a function to convert Fahrenheit to Celsius\n",
    "def fahrenheit_to_celsius(f_temperature):\n",
    "    return round(((f_temperature - 32) * 5556) / 10000, 1)\n",
    "\n",
    "# fahrenheit_to_celsius(6.3)\n",
    "\n",
    "# Create new column to hold the temperature in Celsius\n",
    "df[\"Temperature(C)\"] = df[\"Temperature(F)\"].apply(fahrenheit_to_celsius)"
   ]
  },
  {
   "cell_type": "code",
   "execution_count": 79,
   "id": "4082ce29",
   "metadata": {},
   "outputs": [],
   "source": [
    "# Split the temperatures in several different categories/buckets\n",
    "temperature_buckets = [-100, 0, 6, 10, 14, 18, 23, 27, 30, 40, 100]\n",
    "temperature_buckets_labels = [\"Freezing\", \"Very Cold\", \"Cold\", \"Cool\", \"Mild\", \"Moderate\", \"Warm\", \"Very Warm\", \"Hot\", \"Scorching\"]\n",
    "\n",
    "df[\"Temperature_Binned\"] = pd.cut(df[\"Temperature(C)\"], temperature_buckets, labels=temperature_buckets_labels)"
   ]
  },
  {
   "cell_type": "code",
   "execution_count": 80,
   "id": "b08f3b11",
   "metadata": {},
   "outputs": [
    {
     "data": {
      "text/html": [
       "<div>\n",
       "<style scoped>\n",
       "    .dataframe tbody tr th:only-of-type {\n",
       "        vertical-align: middle;\n",
       "    }\n",
       "\n",
       "    .dataframe tbody tr th {\n",
       "        vertical-align: top;\n",
       "    }\n",
       "\n",
       "    .dataframe thead th {\n",
       "        text-align: right;\n",
       "    }\n",
       "</style>\n",
       "<table border=\"1\" class=\"dataframe\">\n",
       "  <thead>\n",
       "    <tr style=\"text-align: right;\">\n",
       "      <th></th>\n",
       "      <th>Temperature_Bin</th>\n",
       "      <th>Total</th>\n",
       "      <th>Percent</th>\n",
       "    </tr>\n",
       "  </thead>\n",
       "  <tbody>\n",
       "    <tr>\n",
       "      <th>0</th>\n",
       "      <td>Moderate</td>\n",
       "      <td>453055</td>\n",
       "      <td>18.4</td>\n",
       "    </tr>\n",
       "    <tr>\n",
       "      <th>1</th>\n",
       "      <td>Warm</td>\n",
       "      <td>351455</td>\n",
       "      <td>14.3</td>\n",
       "    </tr>\n",
       "    <tr>\n",
       "      <th>2</th>\n",
       "      <td>Mild</td>\n",
       "      <td>349611</td>\n",
       "      <td>14.2</td>\n",
       "    </tr>\n",
       "    <tr>\n",
       "      <th>3</th>\n",
       "      <td>Cool</td>\n",
       "      <td>303747</td>\n",
       "      <td>12.3</td>\n",
       "    </tr>\n",
       "    <tr>\n",
       "      <th>4</th>\n",
       "      <td>Cold</td>\n",
       "      <td>262685</td>\n",
       "      <td>10.7</td>\n",
       "    </tr>\n",
       "    <tr>\n",
       "      <th>5</th>\n",
       "      <td>Very Warm</td>\n",
       "      <td>232056</td>\n",
       "      <td>9.4</td>\n",
       "    </tr>\n",
       "    <tr>\n",
       "      <th>6</th>\n",
       "      <td>Very Cold</td>\n",
       "      <td>191515</td>\n",
       "      <td>7.8</td>\n",
       "    </tr>\n",
       "    <tr>\n",
       "      <th>7</th>\n",
       "      <td>Hot</td>\n",
       "      <td>180659</td>\n",
       "      <td>7.3</td>\n",
       "    </tr>\n",
       "    <tr>\n",
       "      <th>8</th>\n",
       "      <td>Freezing</td>\n",
       "      <td>131626</td>\n",
       "      <td>5.4</td>\n",
       "    </tr>\n",
       "    <tr>\n",
       "      <th>9</th>\n",
       "      <td>Scorching</td>\n",
       "      <td>3219</td>\n",
       "      <td>0.1</td>\n",
       "    </tr>\n",
       "  </tbody>\n",
       "</table>\n",
       "</div>"
      ],
      "text/plain": [
       "  Temperature_Bin   Total  Percent\n",
       "0        Moderate  453055     18.4\n",
       "1            Warm  351455     14.3\n",
       "2            Mild  349611     14.2\n",
       "3            Cool  303747     12.3\n",
       "4            Cold  262685     10.7\n",
       "5       Very Warm  232056      9.4\n",
       "6       Very Cold  191515      7.8\n",
       "7             Hot  180659      7.3\n",
       "8        Freezing  131626      5.4\n",
       "9       Scorching    3219      0.1"
      ]
     },
     "execution_count": 80,
     "metadata": {},
     "output_type": "execute_result"
    }
   ],
   "source": [
    "# Calculate total car accidents by temperature bins\n",
    "df_accidents_temperature_bins = (\n",
    "    df[\"Temperature_Binned\"]\n",
    "    .value_counts()\n",
    "    .reset_index()\n",
    "    .rename(columns = {\"index\":\"Temperature_Bin\", \"Temperature_Binned\":\"Total\"})\n",
    ")\n",
    "\n",
    "df_accidents_temperature_bins[\"Percent\"] = (\n",
    "    round(\n",
    "        (df_accidents_temperature_bins[\"Total\"] / df_accidents_temperature_bins[\"Total\"].sum()) * 100\n",
    "        , 1)\n",
    ")\n",
    "\n",
    "df_accidents_temperature_bins"
   ]
  },
  {
   "cell_type": "markdown",
   "id": "5383e4b2",
   "metadata": {},
   "source": [
    "#### 5.3.2. Night/Day Analysis"
   ]
  },
  {
   "cell_type": "markdown",
   "id": "c02ce82c",
   "metadata": {},
   "source": [
    "INSIGHT: About 2/3 of the accidents happened during the day."
   ]
  },
  {
   "cell_type": "code",
   "execution_count": 81,
   "id": "af1a1d49",
   "metadata": {},
   "outputs": [
    {
     "data": {
      "text/html": [
       "<div>\n",
       "<style scoped>\n",
       "    .dataframe tbody tr th:only-of-type {\n",
       "        vertical-align: middle;\n",
       "    }\n",
       "\n",
       "    .dataframe tbody tr th {\n",
       "        vertical-align: top;\n",
       "    }\n",
       "\n",
       "    .dataframe thead th {\n",
       "        text-align: right;\n",
       "    }\n",
       "</style>\n",
       "<table border=\"1\" class=\"dataframe\">\n",
       "  <thead>\n",
       "    <tr style=\"text-align: right;\">\n",
       "      <th></th>\n",
       "      <th>Day_Night</th>\n",
       "      <th>Total</th>\n",
       "      <th>Percent</th>\n",
       "    </tr>\n",
       "  </thead>\n",
       "  <tbody>\n",
       "    <tr>\n",
       "      <th>0</th>\n",
       "      <td>Day</td>\n",
       "      <td>1583468</td>\n",
       "      <td>64.4</td>\n",
       "    </tr>\n",
       "    <tr>\n",
       "      <th>1</th>\n",
       "      <td>Night</td>\n",
       "      <td>876160</td>\n",
       "      <td>35.6</td>\n",
       "    </tr>\n",
       "  </tbody>\n",
       "</table>\n",
       "</div>"
      ],
      "text/plain": [
       "  Day_Night    Total  Percent\n",
       "0       Day  1583468     64.4\n",
       "1     Night   876160     35.6"
      ]
     },
     "execution_count": 81,
     "metadata": {},
     "output_type": "execute_result"
    }
   ],
   "source": [
    "# Calculate total accidents by time of day (day or night)\n",
    "df_accidents_day_night = (\n",
    "    df[\"Sunrise_Sunset\"]\n",
    "    .value_counts()\n",
    "    .reset_index()\n",
    "    .rename(columns={\"index\":\"Day_Night\", \"Sunrise_Sunset\":\"Total\"})\n",
    ")\n",
    "\n",
    "df_accidents_day_night[\"Percent\"] = (\n",
    "    round(\n",
    "        (df_accidents_day_night[\"Total\"] / df_accidents_day_night[\"Total\"].sum()) * 100, \n",
    "        1)\n",
    ")\n",
    "\n",
    "df_accidents_day_night"
   ]
  },
  {
   "cell_type": "markdown",
   "id": "34da7bc6",
   "metadata": {},
   "source": [
    "#### 5.3.3. Visibility Analysis"
   ]
  },
  {
   "cell_type": "markdown",
   "id": "e05e3adf",
   "metadata": {},
   "source": [
    "INSIGHTS: More than 81% of all accidents happened during times with visibility of up to 10 miles. On the other hand less than 2% happend when the visibility was less than 2 miles."
   ]
  },
  {
   "cell_type": "code",
   "execution_count": 82,
   "id": "0401e284",
   "metadata": {},
   "outputs": [
    {
     "data": {
      "text/html": [
       "<div>\n",
       "<style scoped>\n",
       "    .dataframe tbody tr th:only-of-type {\n",
       "        vertical-align: middle;\n",
       "    }\n",
       "\n",
       "    .dataframe tbody tr th {\n",
       "        vertical-align: top;\n",
       "    }\n",
       "\n",
       "    .dataframe thead th {\n",
       "        text-align: right;\n",
       "    }\n",
       "</style>\n",
       "<table border=\"1\" class=\"dataframe\">\n",
       "  <thead>\n",
       "    <tr style=\"text-align: right;\">\n",
       "      <th></th>\n",
       "      <th>Visibility(mi)</th>\n",
       "      <th>Total</th>\n",
       "      <th>Percent</th>\n",
       "    </tr>\n",
       "  </thead>\n",
       "  <tbody>\n",
       "    <tr>\n",
       "      <th>0</th>\n",
       "      <td>10.0</td>\n",
       "      <td>2005094</td>\n",
       "      <td>81.52</td>\n",
       "    </tr>\n",
       "    <tr>\n",
       "      <th>1</th>\n",
       "      <td>7.0</td>\n",
       "      <td>71562</td>\n",
       "      <td>2.91</td>\n",
       "    </tr>\n",
       "    <tr>\n",
       "      <th>2</th>\n",
       "      <td>9.0</td>\n",
       "      <td>62284</td>\n",
       "      <td>2.53</td>\n",
       "    </tr>\n",
       "    <tr>\n",
       "      <th>3</th>\n",
       "      <td>8.0</td>\n",
       "      <td>51329</td>\n",
       "      <td>2.09</td>\n",
       "    </tr>\n",
       "    <tr>\n",
       "      <th>4</th>\n",
       "      <td>5.0</td>\n",
       "      <td>47964</td>\n",
       "      <td>1.95</td>\n",
       "    </tr>\n",
       "  </tbody>\n",
       "</table>\n",
       "</div>"
      ],
      "text/plain": [
       "   Visibility(mi)    Total  Percent\n",
       "0            10.0  2005094    81.52\n",
       "1             7.0    71562     2.91\n",
       "2             9.0    62284     2.53\n",
       "3             8.0    51329     2.09\n",
       "4             5.0    47964     1.95"
      ]
     },
     "execution_count": 82,
     "metadata": {},
     "output_type": "execute_result"
    }
   ],
   "source": [
    "# Calculate total accidents by visibility in miles\n",
    "df_accidents_visibility = (\n",
    "    df.round({\"Visibility(mi)\":2})[\"Visibility(mi)\"]\n",
    "    .value_counts()\n",
    "    .reset_index()\n",
    "    .rename(\n",
    "        columns={\n",
    "            \"index\":\"Visibility(mi)\", \n",
    "            \"Visibility(mi)\":\"Total\"\n",
    "        }\n",
    "    )\n",
    ")\n",
    "\n",
    "df_accidents_visibility[\"Percent\"] = (\n",
    "    round((df_accidents_visibility[\"Total\"] / df_accidents_visibility[\"Total\"].sum()) * 100, 2)\n",
    ")\n",
    "\n",
    "df_accidents_visibility.sort_values(by=\"Percent\", ascending=False).head()"
   ]
  },
  {
   "cell_type": "markdown",
   "id": "77d4288b",
   "metadata": {},
   "source": [
    "#### 5.3.4. Precipitation Analysis"
   ]
  },
  {
   "cell_type": "markdown",
   "id": "a55f40b2",
   "metadata": {},
   "source": [
    "INSIGHT: \n",
    "* 77% of all accidnets happend in the absence of any rain;\n",
    "* Almost 19% of all accidents happend during a light rain;\n",
    "* Just 1% of all accidents happend during moderate or heavy rain."
   ]
  },
  {
   "cell_type": "code",
   "execution_count": 83,
   "id": "367d6d11",
   "metadata": {},
   "outputs": [
    {
     "data": {
      "text/html": [
       "<div>\n",
       "<style scoped>\n",
       "    .dataframe tbody tr th:only-of-type {\n",
       "        vertical-align: middle;\n",
       "    }\n",
       "\n",
       "    .dataframe tbody tr th {\n",
       "        vertical-align: top;\n",
       "    }\n",
       "\n",
       "    .dataframe thead th {\n",
       "        text-align: right;\n",
       "    }\n",
       "</style>\n",
       "<table border=\"1\" class=\"dataframe\">\n",
       "  <thead>\n",
       "    <tr style=\"text-align: right;\">\n",
       "      <th></th>\n",
       "      <th>Precipitation_Bin</th>\n",
       "      <th>Total</th>\n",
       "      <th>Percent</th>\n",
       "    </tr>\n",
       "  </thead>\n",
       "  <tbody>\n",
       "    <tr>\n",
       "      <th>0</th>\n",
       "      <td>No Rain</td>\n",
       "      <td>499545</td>\n",
       "      <td>87.54</td>\n",
       "    </tr>\n",
       "    <tr>\n",
       "      <th>1</th>\n",
       "      <td>Light Rain</td>\n",
       "      <td>65376</td>\n",
       "      <td>11.46</td>\n",
       "    </tr>\n",
       "    <tr>\n",
       "      <th>2</th>\n",
       "      <td>Moderate Rain</td>\n",
       "      <td>5747</td>\n",
       "      <td>1.01</td>\n",
       "    </tr>\n",
       "    <tr>\n",
       "      <th>3</th>\n",
       "      <td>Heavy Rain</td>\n",
       "      <td>0</td>\n",
       "      <td>0.00</td>\n",
       "    </tr>\n",
       "  </tbody>\n",
       "</table>\n",
       "</div>"
      ],
      "text/plain": [
       "  Precipitation_Bin   Total  Percent\n",
       "0           No Rain  499545    87.54\n",
       "1        Light Rain   65376    11.46\n",
       "2     Moderate Rain    5747     1.01\n",
       "3        Heavy Rain       0     0.00"
      ]
     },
     "execution_count": 83,
     "metadata": {},
     "output_type": "execute_result"
    }
   ],
   "source": [
    "# Split precipitation(in) into several bins\n",
    "precipitation_buckets = [0, 0.0393, 0.1968, 0.3937, 100]\n",
    "precipitation_bucket_labels = [\"No Rain\", \"Light Rain\", \"Moderate Rain\", \"Heavy Rain\"]\n",
    "\n",
    "df_precipitation_bins = (\n",
    "    pd.cut(\n",
    "        df[\"Precipitation(in)\"],\n",
    "        bins=precipitation_buckets,\n",
    "        labels=precipitation_bucket_labels\n",
    "    )\n",
    ")\n",
    "\n",
    "# Calculate total accidents by precipitation bins\n",
    "df_precipitation_bins = (\n",
    "    df_precipitation_bins\n",
    "    .value_counts()\n",
    "    .reset_index()\n",
    "    .rename(\n",
    "        columns={\n",
    "            \"index\":\"Precipitation_Bin\", \n",
    "            \"Precipitation(in)\":\"Total\"\n",
    "        }\n",
    "    )\n",
    ")\n",
    "\n",
    "df_precipitation_bins[\"Percent\"] = (\n",
    "    round((df_precipitation_bins[\"Total\"] / df_precipitation_bins[\"Total\"].sum()) * 100, 2)\n",
    ")\n",
    "\n",
    "df_precipitation_bins.head()"
   ]
  },
  {
   "cell_type": "markdown",
   "id": "34716ee1",
   "metadata": {},
   "source": [
    "### 5.4. Infrastructure Analysis"
   ]
  },
  {
   "cell_type": "markdown",
   "id": "c20a2e76",
   "metadata": {},
   "source": [
    "INSIGHT: \n",
    "* 10.3% of all accidents happened near a junciton;\n",
    "* 9.6% of all accidents happened near a traffic signal;\n",
    "* 7.4% of all accidents happened near crossing;\n",
    "* Almost none accidents happened near a roundabout;\n",
    "* Less than 0.1% of all accidents happened near a bump;\n",
    "* No accidents have been recorded near a turning loop\n",
    "\n",
    "From the above information we can conclude that replacing a junction with a roundabout might significantly reduce the number of accidents."
   ]
  },
  {
   "cell_type": "code",
   "execution_count": 84,
   "id": "5dec7450",
   "metadata": {},
   "outputs": [],
   "source": [
    "# Create DataFrame for each of the infrastructure objects, containing total values of True and False. \n",
    "# All DataFrames are appended together and pivoted in the next cell.\n",
    "\n",
    "df_amenity = df[\"Amenity\"].value_counts().reset_index().rename(columns={\"Amenity\":\"Total\"})\n",
    "df_amenity[\"Infrastructure_Object\"] = \"Amenity\"\n",
    "df_infrastructure_objects = df_amenity\n",
    "\n",
    "df_bump = df[\"Bump\"].value_counts().reset_index().rename(columns={\"Bump\":\"Total\"})\n",
    "df_bump[\"Infrastructure_Object\"] = \"Bump\"\n",
    "df_infrastructure_objects = pd.concat([df_infrastructure_objects, df_bump])\n",
    "\n",
    "df_crossing = df[\"Crossing\"].value_counts().reset_index().rename(columns={\"Crossing\":\"Total\"})\n",
    "df_crossing[\"Infrastructure_Object\"] = \"Crossing\"\n",
    "df_infrastructure_objects = pd.concat([df_infrastructure_objects, df_crossing])\n",
    "\n",
    "df_give_way = df[\"Give_Way\"].value_counts().reset_index().rename(columns={\"Give_Way\":\"Total\"})\n",
    "df_give_way[\"Infrastructure_Object\"] = \"Give_Way\"\n",
    "df_infrastructure_objects = pd.concat([df_infrastructure_objects, df_give_way])\n",
    "\n",
    "df_junction = df[\"Junction\"].value_counts().reset_index().rename(columns={\"Junction\":\"Total\"})\n",
    "df_junction[\"Infrastructure_Object\"] = \"Junction\"\n",
    "df_infrastructure_objects = pd.concat([df_infrastructure_objects, df_junction])\n",
    "\n",
    "df_no_exit = df[\"No_Exit\"].value_counts().reset_index().rename(columns={\"No_Exit\":\"Total\"})\n",
    "df_no_exit[\"Infrastructure_Object\"] = \"No_Exit\"\n",
    "df_infrastructure_objects = pd.concat([df_infrastructure_objects, df_no_exit])\n",
    "\n",
    "df_railway = df[\"Railway\"].value_counts().reset_index().rename(columns={\"Railway\":\"Total\"})\n",
    "df_railway[\"Infrastructure_Object\"] = \"Railway\"\n",
    "df_infrastructure_objects = pd.concat([df_infrastructure_objects, df_railway])\n",
    "\n",
    "df_roundabout = df[\"Roundabout\"].value_counts().reset_index().rename(columns={\"Roundabout\":\"Total\"})\n",
    "df_roundabout[\"Infrastructure_Object\"] = \"Roundabout\"\n",
    "df_infrastructure_objects = pd.concat([df_infrastructure_objects, df_roundabout])\n",
    "\n",
    "df_station = df[\"Station\"].value_counts().reset_index().rename(columns={\"Station\":\"Total\"})\n",
    "df_station[\"Infrastructure_Object\"] = \"Station\"\n",
    "df_infrastructure_objects = pd.concat([df_infrastructure_objects, df_station])\n",
    "\n",
    "df_stop = df[\"Stop\"].value_counts().reset_index().rename(columns={\"Stop\":\"Total\"})\n",
    "df_stop[\"Infrastructure_Object\"] = \"Stop\"\n",
    "df_infrastructure_objects = pd.concat([df_infrastructure_objects, df_stop])\n",
    "\n",
    "df_traffic_calming = df[\"Traffic_Calming\"].value_counts().reset_index().rename(columns={\"Traffic_Calming\":\"Total\"})\n",
    "df_traffic_calming[\"Infrastructure_Object\"] = \"Traffic_Calming\"\n",
    "df_infrastructure_objects = pd.concat([df_infrastructure_objects, df_traffic_calming])\n",
    "\n",
    "df_traffic_signal = df[\"Traffic_Signal\"].value_counts().reset_index().rename(columns={\"Traffic_Signal\":\"Total\"})\n",
    "df_traffic_signal[\"Infrastructure_Object\"] = \"Traffic_Signal\"\n",
    "df_infrastructure_objects = pd.concat([df_infrastructure_objects, df_traffic_signal])\n",
    "\n",
    "df_turning_loop = df[\"Turning_Loop\"].value_counts().reset_index().rename(columns={\"Turning_Loop\":\"Total\"})\n",
    "df_turning_loop[\"Infrastructure_Object\"] = \"Turning_Loop\"\n",
    "df_infrastructure_objects = pd.concat([df_infrastructure_objects, df_turning_loop])"
   ]
  },
  {
   "cell_type": "code",
   "execution_count": 85,
   "id": "fe4fdd1a",
   "metadata": {},
   "outputs": [],
   "source": [
    "df_infrastructure_objects = (\n",
    "    df_infrastructure_objects\n",
    "    .pivot(\n",
    "        index=\"Infrastructure_Object\", \n",
    "        columns=\"index\", \n",
    "        values=\"Total\"\n",
    "    )\n",
    "    .reset_index()\n",
    ")\n",
    "\n",
    "df_infrastructure_objects = (\n",
    "    df_infrastructure_objects\n",
    "    .rename(\n",
    "        columns={False:\"False_Total\", True:\"True_Total\"}\n",
    "    )\n",
    ")\n",
    "\n",
    "df_infrastructure_objects[\"False_Percent\"] = (\n",
    "    round(df_infrastructure_objects[\"False_Total\"] / (df_infrastructure_objects[\"False_Total\"] + df_infrastructure_objects[\"True_Total\"]) * 100, 2)\n",
    ")\n",
    "\n",
    "df_infrastructure_objects[\"True_Percent\"] = (\n",
    "    round(df_infrastructure_objects[\"True_Total\"] / (df_infrastructure_objects[\"False_Total\"] + df_infrastructure_objects[\"True_Total\"]) * 100, 2)\n",
    ")"
   ]
  },
  {
   "cell_type": "code",
   "execution_count": 86,
   "id": "1a0b31d3",
   "metadata": {},
   "outputs": [
    {
     "data": {
      "text/html": [
       "<div>\n",
       "<style scoped>\n",
       "    .dataframe tbody tr th:only-of-type {\n",
       "        vertical-align: middle;\n",
       "    }\n",
       "\n",
       "    .dataframe tbody tr th {\n",
       "        vertical-align: top;\n",
       "    }\n",
       "\n",
       "    .dataframe thead th {\n",
       "        text-align: right;\n",
       "    }\n",
       "</style>\n",
       "<table border=\"1\" class=\"dataframe\">\n",
       "  <thead>\n",
       "    <tr style=\"text-align: right;\">\n",
       "      <th>index</th>\n",
       "      <th>Infrastructure_Object</th>\n",
       "      <th>False_Total</th>\n",
       "      <th>True_Total</th>\n",
       "      <th>False_Percent</th>\n",
       "      <th>True_Percent</th>\n",
       "    </tr>\n",
       "  </thead>\n",
       "  <tbody>\n",
       "    <tr>\n",
       "      <th>4</th>\n",
       "      <td>Junction</td>\n",
       "      <td>2206497.0</td>\n",
       "      <td>253131.0</td>\n",
       "      <td>89.71</td>\n",
       "      <td>10.29</td>\n",
       "    </tr>\n",
       "    <tr>\n",
       "      <th>11</th>\n",
       "      <td>Traffic_Signal</td>\n",
       "      <td>2223204.0</td>\n",
       "      <td>236424.0</td>\n",
       "      <td>90.39</td>\n",
       "      <td>9.61</td>\n",
       "    </tr>\n",
       "    <tr>\n",
       "      <th>2</th>\n",
       "      <td>Crossing</td>\n",
       "      <td>2277871.0</td>\n",
       "      <td>181757.0</td>\n",
       "      <td>92.61</td>\n",
       "      <td>7.39</td>\n",
       "    </tr>\n",
       "    <tr>\n",
       "      <th>8</th>\n",
       "      <td>Station</td>\n",
       "      <td>2396872.0</td>\n",
       "      <td>62756.0</td>\n",
       "      <td>97.45</td>\n",
       "      <td>2.55</td>\n",
       "    </tr>\n",
       "    <tr>\n",
       "      <th>9</th>\n",
       "      <td>Stop</td>\n",
       "      <td>2415953.0</td>\n",
       "      <td>43675.0</td>\n",
       "      <td>98.22</td>\n",
       "      <td>1.78</td>\n",
       "    </tr>\n",
       "    <tr>\n",
       "      <th>0</th>\n",
       "      <td>Amenity</td>\n",
       "      <td>2434537.0</td>\n",
       "      <td>25091.0</td>\n",
       "      <td>98.98</td>\n",
       "      <td>1.02</td>\n",
       "    </tr>\n",
       "    <tr>\n",
       "      <th>6</th>\n",
       "      <td>Railway</td>\n",
       "      <td>2439630.0</td>\n",
       "      <td>19998.0</td>\n",
       "      <td>99.19</td>\n",
       "      <td>0.81</td>\n",
       "    </tr>\n",
       "    <tr>\n",
       "      <th>3</th>\n",
       "      <td>Give_Way</td>\n",
       "      <td>2453843.0</td>\n",
       "      <td>5785.0</td>\n",
       "      <td>99.76</td>\n",
       "      <td>0.24</td>\n",
       "    </tr>\n",
       "    <tr>\n",
       "      <th>5</th>\n",
       "      <td>No_Exit</td>\n",
       "      <td>2455729.0</td>\n",
       "      <td>3899.0</td>\n",
       "      <td>99.84</td>\n",
       "      <td>0.16</td>\n",
       "    </tr>\n",
       "    <tr>\n",
       "      <th>10</th>\n",
       "      <td>Traffic_Calming</td>\n",
       "      <td>2458018.0</td>\n",
       "      <td>1610.0</td>\n",
       "      <td>99.93</td>\n",
       "      <td>0.07</td>\n",
       "    </tr>\n",
       "    <tr>\n",
       "      <th>1</th>\n",
       "      <td>Bump</td>\n",
       "      <td>2458653.0</td>\n",
       "      <td>975.0</td>\n",
       "      <td>99.96</td>\n",
       "      <td>0.04</td>\n",
       "    </tr>\n",
       "    <tr>\n",
       "      <th>7</th>\n",
       "      <td>Roundabout</td>\n",
       "      <td>2459517.0</td>\n",
       "      <td>111.0</td>\n",
       "      <td>100.00</td>\n",
       "      <td>0.00</td>\n",
       "    </tr>\n",
       "    <tr>\n",
       "      <th>12</th>\n",
       "      <td>Turning_Loop</td>\n",
       "      <td>2459628.0</td>\n",
       "      <td>NaN</td>\n",
       "      <td>NaN</td>\n",
       "      <td>NaN</td>\n",
       "    </tr>\n",
       "  </tbody>\n",
       "</table>\n",
       "</div>"
      ],
      "text/plain": [
       "index Infrastructure_Object  False_Total  True_Total  False_Percent  \\\n",
       "4                  Junction    2206497.0    253131.0          89.71   \n",
       "11           Traffic_Signal    2223204.0    236424.0          90.39   \n",
       "2                  Crossing    2277871.0    181757.0          92.61   \n",
       "8                   Station    2396872.0     62756.0          97.45   \n",
       "9                      Stop    2415953.0     43675.0          98.22   \n",
       "0                   Amenity    2434537.0     25091.0          98.98   \n",
       "6                   Railway    2439630.0     19998.0          99.19   \n",
       "3                  Give_Way    2453843.0      5785.0          99.76   \n",
       "5                   No_Exit    2455729.0      3899.0          99.84   \n",
       "10          Traffic_Calming    2458018.0      1610.0          99.93   \n",
       "1                      Bump    2458653.0       975.0          99.96   \n",
       "7                Roundabout    2459517.0       111.0         100.00   \n",
       "12             Turning_Loop    2459628.0         NaN            NaN   \n",
       "\n",
       "index  True_Percent  \n",
       "4             10.29  \n",
       "11             9.61  \n",
       "2              7.39  \n",
       "8              2.55  \n",
       "9              1.78  \n",
       "0              1.02  \n",
       "6              0.81  \n",
       "3              0.24  \n",
       "5              0.16  \n",
       "10             0.07  \n",
       "1              0.04  \n",
       "7              0.00  \n",
       "12              NaN  "
      ]
     },
     "execution_count": 86,
     "metadata": {},
     "output_type": "execute_result"
    }
   ],
   "source": [
    "df_infrastructure_objects.sort_values(by=[\"True_Percent\"], ascending=False)"
   ]
  },
  {
   "cell_type": "markdown",
   "id": "889e8ccc",
   "metadata": {},
   "source": [
    "### 5.5. Other Analysis"
   ]
  },
  {
   "cell_type": "markdown",
   "id": "cfa70011",
   "metadata": {},
   "source": [
    "#### 5.5.1. Severity Analysis"
   ]
  },
  {
   "cell_type": "markdown",
   "id": "d135a650",
   "metadata": {},
   "source": [
    "INSIGHT: More than 93 % of all accidents have a severity of 2"
   ]
  },
  {
   "cell_type": "code",
   "execution_count": 87,
   "id": "8a8c0afe",
   "metadata": {},
   "outputs": [
    {
     "data": {
      "text/html": [
       "<div>\n",
       "<style scoped>\n",
       "    .dataframe tbody tr th:only-of-type {\n",
       "        vertical-align: middle;\n",
       "    }\n",
       "\n",
       "    .dataframe tbody tr th {\n",
       "        vertical-align: top;\n",
       "    }\n",
       "\n",
       "    .dataframe thead th {\n",
       "        text-align: right;\n",
       "    }\n",
       "</style>\n",
       "<table border=\"1\" class=\"dataframe\">\n",
       "  <thead>\n",
       "    <tr style=\"text-align: right;\">\n",
       "      <th></th>\n",
       "      <th>Severity</th>\n",
       "      <th>Total</th>\n",
       "      <th>Percent</th>\n",
       "    </tr>\n",
       "  </thead>\n",
       "  <tbody>\n",
       "    <tr>\n",
       "      <th>0</th>\n",
       "      <td>2</td>\n",
       "      <td>2296769</td>\n",
       "      <td>0.93</td>\n",
       "    </tr>\n",
       "    <tr>\n",
       "      <th>1</th>\n",
       "      <td>3</td>\n",
       "      <td>139411</td>\n",
       "      <td>0.06</td>\n",
       "    </tr>\n",
       "    <tr>\n",
       "      <th>2</th>\n",
       "      <td>1</td>\n",
       "      <td>23448</td>\n",
       "      <td>0.01</td>\n",
       "    </tr>\n",
       "  </tbody>\n",
       "</table>\n",
       "</div>"
      ],
      "text/plain": [
       "   Severity    Total  Percent\n",
       "0         2  2296769     0.93\n",
       "1         3   139411     0.06\n",
       "2         1    23448     0.01"
      ]
     },
     "execution_count": 87,
     "metadata": {},
     "output_type": "execute_result"
    }
   ],
   "source": [
    "# Calculate total accidents by severity\n",
    "df_accidents_severity = (\n",
    "    df[\"Severity\"]\n",
    "    .value_counts()\n",
    "    .reset_index()\n",
    "    .rename(columns={\"index\":\"Severity\", \"Severity\":\"Total\"})\n",
    ")\n",
    "\n",
    "df_accidents_severity[\"Percent\"] = (\n",
    "    round(\n",
    "        df_accidents_severity[\"Total\"] / df_accidents_severity[\"Total\"].sum(), \n",
    "    2)\n",
    ")\n",
    "\n",
    "df_accidents_severity"
   ]
  },
  {
   "cell_type": "markdown",
   "id": "3774f601",
   "metadata": {},
   "source": [
    "#### 5.5.2. Distance Analysis"
   ]
  },
  {
   "cell_type": "markdown",
   "id": "7562d6e9",
   "metadata": {},
   "source": [
    "INSIGHT: The average distance in miles of road extent affected by an accident is 0.55. More than 80% of all accidents resulted in a road extent of up to 1 mile."
   ]
  },
  {
   "cell_type": "code",
   "execution_count": 88,
   "id": "e09dc562",
   "metadata": {},
   "outputs": [
    {
     "name": "stdout",
     "output_type": "stream",
     "text": [
      "Average distance in miles of road extent affected by an accident:  0.55\n"
     ]
    },
    {
     "data": {
      "text/html": [
       "<div>\n",
       "<style scoped>\n",
       "    .dataframe tbody tr th:only-of-type {\n",
       "        vertical-align: middle;\n",
       "    }\n",
       "\n",
       "    .dataframe tbody tr th {\n",
       "        vertical-align: top;\n",
       "    }\n",
       "\n",
       "    .dataframe thead th {\n",
       "        text-align: right;\n",
       "    }\n",
       "</style>\n",
       "<table border=\"1\" class=\"dataframe\">\n",
       "  <thead>\n",
       "    <tr style=\"text-align: right;\">\n",
       "      <th></th>\n",
       "      <th>Bins</th>\n",
       "      <th>Total</th>\n",
       "      <th>Percent</th>\n",
       "    </tr>\n",
       "  </thead>\n",
       "  <tbody>\n",
       "    <tr>\n",
       "      <th>0</th>\n",
       "      <td>0-1(mi)</td>\n",
       "      <td>1704512</td>\n",
       "      <td>0.81</td>\n",
       "    </tr>\n",
       "    <tr>\n",
       "      <th>1</th>\n",
       "      <td>1-2(mi)</td>\n",
       "      <td>243541</td>\n",
       "      <td>0.12</td>\n",
       "    </tr>\n",
       "    <tr>\n",
       "      <th>2</th>\n",
       "      <td>2-3(mi)</td>\n",
       "      <td>95358</td>\n",
       "      <td>0.05</td>\n",
       "    </tr>\n",
       "    <tr>\n",
       "      <th>3</th>\n",
       "      <td>3-4(mi)</td>\n",
       "      <td>45058</td>\n",
       "      <td>0.02</td>\n",
       "    </tr>\n",
       "    <tr>\n",
       "      <th>4</th>\n",
       "      <td>4(mi) &lt;</td>\n",
       "      <td>28278</td>\n",
       "      <td>0.01</td>\n",
       "    </tr>\n",
       "  </tbody>\n",
       "</table>\n",
       "</div>"
      ],
      "text/plain": [
       "      Bins    Total  Percent\n",
       "0  0-1(mi)  1704512     0.81\n",
       "1  1-2(mi)   243541     0.12\n",
       "2  2-3(mi)    95358     0.05\n",
       "3  3-4(mi)    45058     0.02\n",
       "4  4(mi) <    28278     0.01"
      ]
     },
     "execution_count": 88,
     "metadata": {},
     "output_type": "execute_result"
    }
   ],
   "source": [
    "# Distance(mi) - The length of the road extent affected by the accident.\n",
    "print(\"Average distance in miles of road extent affected by an accident: \", round(df[\"Distance(mi)\"].mean(),2))\n",
    "\n",
    "# Split the 'Distance(mi)' column into several bins and calculate total number of accidents by bin and percent of total\n",
    "df_distance_bins = (\n",
    "    pd.cut(\n",
    "        df[\"Distance(mi)\"], \n",
    "        bins=[0,1,2,3,4,100], \n",
    "        labels=[\"0-1(mi)\", \"1-2(mi)\", \"2-3(mi)\", \"3-4(mi)\", \"4(mi) <\"]\n",
    "    )\n",
    "    .value_counts()\n",
    "    .reset_index()\n",
    "    .rename(columns={\"index\":\"Bins\", \"Distance(mi)\":\"Total\"})\n",
    ")\n",
    "\n",
    "df_distance_bins[\"Percent\"] = round(df_distance_bins[\"Total\"] / df_distance_bins[\"Total\"].sum(), 2)\n",
    "\n",
    "df_distance_bins.head()\n"
   ]
  },
  {
   "cell_type": "code",
   "execution_count": 89,
   "id": "4514ced2",
   "metadata": {},
   "outputs": [],
   "source": [
    "# TO BE CONTINUNED..."
   ]
  },
  {
   "cell_type": "markdown",
   "id": "5ce2862b",
   "metadata": {},
   "source": [
    "# 99. Testing"
   ]
  },
  {
   "cell_type": "code",
   "execution_count": 90,
   "id": "91a22501",
   "metadata": {},
   "outputs": [
    {
     "data": {
      "text/html": [
       "<div>\n",
       "<style scoped>\n",
       "    .dataframe tbody tr th:only-of-type {\n",
       "        vertical-align: middle;\n",
       "    }\n",
       "\n",
       "    .dataframe tbody tr th {\n",
       "        vertical-align: top;\n",
       "    }\n",
       "\n",
       "    .dataframe thead th {\n",
       "        text-align: right;\n",
       "    }\n",
       "</style>\n",
       "<table border=\"1\" class=\"dataframe\">\n",
       "  <thead>\n",
       "    <tr style=\"text-align: right;\">\n",
       "      <th></th>\n",
       "      <th>Temperature(F)</th>\n",
       "      <th>Wind_Speed(mph)</th>\n",
       "    </tr>\n",
       "  </thead>\n",
       "  <tbody>\n",
       "    <tr>\n",
       "      <th>Temperature(F)</th>\n",
       "      <td>1.000000</td>\n",
       "      <td>0.130874</td>\n",
       "    </tr>\n",
       "    <tr>\n",
       "      <th>Wind_Speed(mph)</th>\n",
       "      <td>0.130874</td>\n",
       "      <td>1.000000</td>\n",
       "    </tr>\n",
       "  </tbody>\n",
       "</table>\n",
       "</div>"
      ],
      "text/plain": [
       "                 Temperature(F)  Wind_Speed(mph)\n",
       "Temperature(F)         1.000000         0.130874\n",
       "Wind_Speed(mph)        0.130874         1.000000"
      ]
     },
     "execution_count": 90,
     "metadata": {},
     "output_type": "execute_result"
    }
   ],
   "source": [
    "df[[\"Temperature(F)\", \"Wind_Speed(mph)\"]].corr()"
   ]
  },
  {
   "cell_type": "code",
   "execution_count": 91,
   "id": "a17c3138",
   "metadata": {},
   "outputs": [],
   "source": [
    "df[\"Season_Category\"] = df[\"Season\"].astype(\"category\").cat.codes.value_counts()"
   ]
  },
  {
   "cell_type": "code",
   "execution_count": 92,
   "id": "bef7ca21",
   "metadata": {},
   "outputs": [
    {
     "data": {
      "text/plain": [
       "Autumn    799572\n",
       "Winter    729817\n",
       "Summer    491367\n",
       "Spring    438872\n",
       "Name: Season, dtype: int64"
      ]
     },
     "execution_count": 92,
     "metadata": {},
     "output_type": "execute_result"
    }
   ],
   "source": [
    "df[\"Season\"].value_counts()"
   ]
  },
  {
   "cell_type": "code",
   "execution_count": 93,
   "id": "c56830b3",
   "metadata": {},
   "outputs": [
    {
     "data": {
      "text/html": [
       "<div>\n",
       "<style scoped>\n",
       "    .dataframe tbody tr th:only-of-type {\n",
       "        vertical-align: middle;\n",
       "    }\n",
       "\n",
       "    .dataframe tbody tr th {\n",
       "        vertical-align: top;\n",
       "    }\n",
       "\n",
       "    .dataframe thead th {\n",
       "        text-align: right;\n",
       "    }\n",
       "</style>\n",
       "<table border=\"1\" class=\"dataframe\">\n",
       "  <thead>\n",
       "    <tr style=\"text-align: right;\">\n",
       "      <th></th>\n",
       "      <th>Temperature(F)</th>\n",
       "      <th>Season_Category</th>\n",
       "      <th>Wind_Speed(mph)</th>\n",
       "    </tr>\n",
       "  </thead>\n",
       "  <tbody>\n",
       "    <tr>\n",
       "      <th>Temperature(F)</th>\n",
       "      <td>1.000000</td>\n",
       "      <td>0.914617</td>\n",
       "      <td>0.130874</td>\n",
       "    </tr>\n",
       "    <tr>\n",
       "      <th>Season_Category</th>\n",
       "      <td>0.914617</td>\n",
       "      <td>1.000000</td>\n",
       "      <td>0.697137</td>\n",
       "    </tr>\n",
       "    <tr>\n",
       "      <th>Wind_Speed(mph)</th>\n",
       "      <td>0.130874</td>\n",
       "      <td>0.697137</td>\n",
       "      <td>1.000000</td>\n",
       "    </tr>\n",
       "  </tbody>\n",
       "</table>\n",
       "</div>"
      ],
      "text/plain": [
       "                 Temperature(F)  Season_Category  Wind_Speed(mph)\n",
       "Temperature(F)         1.000000         0.914617         0.130874\n",
       "Season_Category        0.914617         1.000000         0.697137\n",
       "Wind_Speed(mph)        0.130874         0.697137         1.000000"
      ]
     },
     "execution_count": 93,
     "metadata": {},
     "output_type": "execute_result"
    }
   ],
   "source": [
    "df[[\"Temperature(F)\", \"Season_Category\", \"Wind_Speed(mph)\"]].corr()"
   ]
  },
  {
   "cell_type": "code",
   "execution_count": 94,
   "id": "e9788e52",
   "metadata": {},
   "outputs": [],
   "source": [
    "# PLACEHOLDER: Add map visualization using lat and lng"
   ]
  },
  {
   "cell_type": "code",
   "execution_count": 95,
   "id": "92de97e2",
   "metadata": {},
   "outputs": [],
   "source": [
    "# CORRELATION TEST...\n",
    "\n",
    "# df_top_states_enhanced = (\n",
    "#     df_top_states\n",
    "#     .reset_index()\n",
    "#     .merge(\n",
    "#         df_states_population, \n",
    "#         left_on=\"index\", \n",
    "#         right_on=\"State\", \n",
    "#         how=\"left\"\n",
    "#     )\n",
    "#     [[\"index\", \"Total\", \"Percent\", \"2021 Population\"]]\n",
    "#     .rename(columns={\"2021 Population\":\"Population\"})\n",
    "#     .set_index(\"index\")\n",
    "# )\n",
    "\n",
    "# # df_top_states_enhanced.head(60)\n",
    "\n",
    "# # df_top_states_enhanced[[\"Total\", \"Population\"]].corr()[\"Populaiton\"]\n",
    "\n",
    "# import seaborn as sns\n",
    "\n",
    "# sns.regplot(x=df_top_states_enhanced[\"Total\"], y=df_top_states_enhanced[\"Population\"])"
   ]
  },
  {
   "cell_type": "code",
   "execution_count": 96,
   "id": "9af101b7",
   "metadata": {},
   "outputs": [],
   "source": [
    "# df_corr_test = df.select_dtypes(\n",
    "#     include=[\"int16\", \"int32\", \"int64\", \"float16\", \"float32\", \"float64\"]\n",
    "# ).drop(columns=[\"Start_Lat\", \"Start_Lng\", \"End_Lat\", \"End_Lng\", \"Start_Year\", \"Start_Day\", \"Season_Category\"]).corr()\n",
    "\n",
    "# plt.matshow(df_corr_test)"
   ]
  },
  {
   "cell_type": "code",
   "execution_count": 97,
   "id": "2336708f",
   "metadata": {},
   "outputs": [],
   "source": [
    "# labels = [c for c in df_corr_test.columns]\n",
    "\n",
    "# fig = plt.figure(figsize=(12,22))\n",
    "# ax = fig.add_subplot(111)\n",
    "# ax.set_yticklabels(labels)\n",
    "# ax.set_xticklabels(labels)\n",
    "# ax.matshow(df_corr_test, cmap=plt.cm.RdYlGn)"
   ]
  },
  {
   "cell_type": "code",
   "execution_count": 98,
   "id": "f1a27e6b",
   "metadata": {},
   "outputs": [
    {
     "data": {
      "text/html": [
       "<div>\n",
       "<style scoped>\n",
       "    .dataframe tbody tr th:only-of-type {\n",
       "        vertical-align: middle;\n",
       "    }\n",
       "\n",
       "    .dataframe tbody tr th {\n",
       "        vertical-align: top;\n",
       "    }\n",
       "\n",
       "    .dataframe thead th {\n",
       "        text-align: right;\n",
       "    }\n",
       "</style>\n",
       "<table border=\"1\" class=\"dataframe\">\n",
       "  <thead>\n",
       "    <tr style=\"text-align: right;\">\n",
       "      <th></th>\n",
       "      <th>ID</th>\n",
       "      <th>Severity</th>\n",
       "      <th>Start_Time</th>\n",
       "      <th>End_Time</th>\n",
       "      <th>Start_Lat</th>\n",
       "      <th>Start_Lng</th>\n",
       "      <th>End_Lat</th>\n",
       "      <th>End_Lng</th>\n",
       "      <th>Distance(mi)</th>\n",
       "      <th>Description</th>\n",
       "      <th>Street</th>\n",
       "      <th>Side</th>\n",
       "      <th>City</th>\n",
       "      <th>County</th>\n",
       "      <th>State</th>\n",
       "      <th>Zipcode</th>\n",
       "      <th>Timezone</th>\n",
       "      <th>Airport_Code</th>\n",
       "      <th>Weather_Timestamp</th>\n",
       "      <th>Temperature(F)</th>\n",
       "      <th>Wind_Chill(F)</th>\n",
       "      <th>Humidity(%)</th>\n",
       "      <th>Pressure(in)</th>\n",
       "      <th>Visibility(mi)</th>\n",
       "      <th>Wind_Direction</th>\n",
       "      <th>Wind_Speed(mph)</th>\n",
       "      <th>Precipitation(in)</th>\n",
       "      <th>Weather_Condition</th>\n",
       "      <th>Amenity</th>\n",
       "      <th>Bump</th>\n",
       "      <th>Crossing</th>\n",
       "      <th>Give_Way</th>\n",
       "      <th>Junction</th>\n",
       "      <th>No_Exit</th>\n",
       "      <th>Railway</th>\n",
       "      <th>Roundabout</th>\n",
       "      <th>Station</th>\n",
       "      <th>Stop</th>\n",
       "      <th>Traffic_Calming</th>\n",
       "      <th>Traffic_Signal</th>\n",
       "      <th>Turning_Loop</th>\n",
       "      <th>Sunrise_Sunset</th>\n",
       "      <th>Start_Year</th>\n",
       "      <th>Start_Month</th>\n",
       "      <th>Start_Day_of_week</th>\n",
       "      <th>Start_Day</th>\n",
       "      <th>Duration_Hours</th>\n",
       "      <th>Season</th>\n",
       "      <th>Temperature(C)</th>\n",
       "      <th>Temperature_Binned</th>\n",
       "      <th>Season_Category</th>\n",
       "    </tr>\n",
       "  </thead>\n",
       "  <tbody>\n",
       "    <tr>\n",
       "      <th>0</th>\n",
       "      <td>A-1</td>\n",
       "      <td>3</td>\n",
       "      <td>2016-02-08 00:37:08</td>\n",
       "      <td>2016-02-08 06:37:08</td>\n",
       "      <td>40.108910</td>\n",
       "      <td>-83.092860</td>\n",
       "      <td>40.112060</td>\n",
       "      <td>-83.031870</td>\n",
       "      <td>3.230</td>\n",
       "      <td>Between Sawmill Rd/Exit 20 and OH-315/Olentang...</td>\n",
       "      <td>Outerbelt E</td>\n",
       "      <td>R</td>\n",
       "      <td>Dublin</td>\n",
       "      <td>Franklin</td>\n",
       "      <td>OH</td>\n",
       "      <td>43017</td>\n",
       "      <td>US/Eastern</td>\n",
       "      <td>KOSU</td>\n",
       "      <td>2016-02-08 00:53:00</td>\n",
       "      <td>42.1</td>\n",
       "      <td>36.100000</td>\n",
       "      <td>58.0</td>\n",
       "      <td>29.76</td>\n",
       "      <td>10.0</td>\n",
       "      <td>SW</td>\n",
       "      <td>10.400000</td>\n",
       "      <td>0.000000</td>\n",
       "      <td>Light Rain</td>\n",
       "      <td>False</td>\n",
       "      <td>False</td>\n",
       "      <td>False</td>\n",
       "      <td>False</td>\n",
       "      <td>False</td>\n",
       "      <td>False</td>\n",
       "      <td>False</td>\n",
       "      <td>False</td>\n",
       "      <td>False</td>\n",
       "      <td>False</td>\n",
       "      <td>False</td>\n",
       "      <td>False</td>\n",
       "      <td>False</td>\n",
       "      <td>Night</td>\n",
       "      <td>2016</td>\n",
       "      <td>February</td>\n",
       "      <td>Monday</td>\n",
       "      <td>8</td>\n",
       "      <td>0 days 06:00:00</td>\n",
       "      <td>Winter</td>\n",
       "      <td>5.6</td>\n",
       "      <td>Very Cold</td>\n",
       "      <td>799572.0</td>\n",
       "    </tr>\n",
       "    <tr>\n",
       "      <th>1</th>\n",
       "      <td>A-2</td>\n",
       "      <td>2</td>\n",
       "      <td>2016-02-08 05:56:20</td>\n",
       "      <td>2016-02-08 11:56:20</td>\n",
       "      <td>39.865420</td>\n",
       "      <td>-84.062800</td>\n",
       "      <td>39.865010</td>\n",
       "      <td>-84.048730</td>\n",
       "      <td>0.747</td>\n",
       "      <td>At OH-4/OH-235/Exit 41 - Accident.</td>\n",
       "      <td>I-70 E</td>\n",
       "      <td>R</td>\n",
       "      <td>Dayton</td>\n",
       "      <td>Montgomery</td>\n",
       "      <td>OH</td>\n",
       "      <td>45424</td>\n",
       "      <td>US/Eastern</td>\n",
       "      <td>KFFO</td>\n",
       "      <td>2016-02-08 05:58:00</td>\n",
       "      <td>36.9</td>\n",
       "      <td>59.665472</td>\n",
       "      <td>91.0</td>\n",
       "      <td>29.68</td>\n",
       "      <td>10.0</td>\n",
       "      <td>CALM</td>\n",
       "      <td>7.394373</td>\n",
       "      <td>0.020000</td>\n",
       "      <td>Light Rain</td>\n",
       "      <td>False</td>\n",
       "      <td>False</td>\n",
       "      <td>False</td>\n",
       "      <td>False</td>\n",
       "      <td>False</td>\n",
       "      <td>False</td>\n",
       "      <td>False</td>\n",
       "      <td>False</td>\n",
       "      <td>False</td>\n",
       "      <td>False</td>\n",
       "      <td>False</td>\n",
       "      <td>False</td>\n",
       "      <td>False</td>\n",
       "      <td>Night</td>\n",
       "      <td>2016</td>\n",
       "      <td>February</td>\n",
       "      <td>Monday</td>\n",
       "      <td>8</td>\n",
       "      <td>0 days 06:00:00</td>\n",
       "      <td>Winter</td>\n",
       "      <td>2.7</td>\n",
       "      <td>Very Cold</td>\n",
       "      <td>438872.0</td>\n",
       "    </tr>\n",
       "    <tr>\n",
       "      <th>2</th>\n",
       "      <td>A-3</td>\n",
       "      <td>2</td>\n",
       "      <td>2016-02-08 06:15:39</td>\n",
       "      <td>2016-02-08 12:15:39</td>\n",
       "      <td>39.102660</td>\n",
       "      <td>-84.524680</td>\n",
       "      <td>39.102090</td>\n",
       "      <td>-84.523960</td>\n",
       "      <td>0.055</td>\n",
       "      <td>At I-71/US-50/Exit 1 - Accident.</td>\n",
       "      <td>I-75 S</td>\n",
       "      <td>R</td>\n",
       "      <td>Cincinnati</td>\n",
       "      <td>Hamilton</td>\n",
       "      <td>OH</td>\n",
       "      <td>45203</td>\n",
       "      <td>US/Eastern</td>\n",
       "      <td>KLUK</td>\n",
       "      <td>2016-02-08 05:53:00</td>\n",
       "      <td>36.0</td>\n",
       "      <td>59.665472</td>\n",
       "      <td>97.0</td>\n",
       "      <td>29.70</td>\n",
       "      <td>10.0</td>\n",
       "      <td>CALM</td>\n",
       "      <td>7.394373</td>\n",
       "      <td>0.020000</td>\n",
       "      <td>Overcast</td>\n",
       "      <td>False</td>\n",
       "      <td>False</td>\n",
       "      <td>False</td>\n",
       "      <td>False</td>\n",
       "      <td>True</td>\n",
       "      <td>False</td>\n",
       "      <td>False</td>\n",
       "      <td>False</td>\n",
       "      <td>False</td>\n",
       "      <td>False</td>\n",
       "      <td>False</td>\n",
       "      <td>False</td>\n",
       "      <td>False</td>\n",
       "      <td>Night</td>\n",
       "      <td>2016</td>\n",
       "      <td>February</td>\n",
       "      <td>Monday</td>\n",
       "      <td>8</td>\n",
       "      <td>0 days 06:00:00</td>\n",
       "      <td>Winter</td>\n",
       "      <td>2.2</td>\n",
       "      <td>Very Cold</td>\n",
       "      <td>491367.0</td>\n",
       "    </tr>\n",
       "    <tr>\n",
       "      <th>3</th>\n",
       "      <td>A-4</td>\n",
       "      <td>2</td>\n",
       "      <td>2016-02-08 06:51:45</td>\n",
       "      <td>2016-02-08 12:51:45</td>\n",
       "      <td>41.062130</td>\n",
       "      <td>-81.537840</td>\n",
       "      <td>41.062170</td>\n",
       "      <td>-81.535470</td>\n",
       "      <td>0.123</td>\n",
       "      <td>At Dart Ave/Exit 21 - Accident.</td>\n",
       "      <td>I-77 N</td>\n",
       "      <td>R</td>\n",
       "      <td>Akron</td>\n",
       "      <td>Summit</td>\n",
       "      <td>OH</td>\n",
       "      <td>44311</td>\n",
       "      <td>US/Eastern</td>\n",
       "      <td>KAKR</td>\n",
       "      <td>2016-02-08 06:54:00</td>\n",
       "      <td>39.0</td>\n",
       "      <td>59.665472</td>\n",
       "      <td>55.0</td>\n",
       "      <td>29.65</td>\n",
       "      <td>10.0</td>\n",
       "      <td>CALM</td>\n",
       "      <td>7.394373</td>\n",
       "      <td>0.007022</td>\n",
       "      <td>Overcast</td>\n",
       "      <td>False</td>\n",
       "      <td>False</td>\n",
       "      <td>False</td>\n",
       "      <td>False</td>\n",
       "      <td>False</td>\n",
       "      <td>False</td>\n",
       "      <td>False</td>\n",
       "      <td>False</td>\n",
       "      <td>False</td>\n",
       "      <td>False</td>\n",
       "      <td>False</td>\n",
       "      <td>False</td>\n",
       "      <td>False</td>\n",
       "      <td>Night</td>\n",
       "      <td>2016</td>\n",
       "      <td>February</td>\n",
       "      <td>Monday</td>\n",
       "      <td>8</td>\n",
       "      <td>0 days 06:00:00</td>\n",
       "      <td>Winter</td>\n",
       "      <td>3.9</td>\n",
       "      <td>Very Cold</td>\n",
       "      <td>729817.0</td>\n",
       "    </tr>\n",
       "    <tr>\n",
       "      <th>4</th>\n",
       "      <td>A-5</td>\n",
       "      <td>3</td>\n",
       "      <td>2016-02-08 07:53:43</td>\n",
       "      <td>2016-02-08 13:53:43</td>\n",
       "      <td>39.172393</td>\n",
       "      <td>-84.492792</td>\n",
       "      <td>39.170476</td>\n",
       "      <td>-84.501798</td>\n",
       "      <td>0.500</td>\n",
       "      <td>At Mitchell Ave/Exit 6 - Accident.</td>\n",
       "      <td>I-75 S</td>\n",
       "      <td>R</td>\n",
       "      <td>Cincinnati</td>\n",
       "      <td>Hamilton</td>\n",
       "      <td>OH</td>\n",
       "      <td>45217</td>\n",
       "      <td>US/Eastern</td>\n",
       "      <td>KLUK</td>\n",
       "      <td>2016-02-08 07:53:00</td>\n",
       "      <td>37.0</td>\n",
       "      <td>29.800000</td>\n",
       "      <td>93.0</td>\n",
       "      <td>29.69</td>\n",
       "      <td>10.0</td>\n",
       "      <td>W</td>\n",
       "      <td>10.400000</td>\n",
       "      <td>0.010000</td>\n",
       "      <td>Light Rain</td>\n",
       "      <td>False</td>\n",
       "      <td>False</td>\n",
       "      <td>False</td>\n",
       "      <td>False</td>\n",
       "      <td>False</td>\n",
       "      <td>False</td>\n",
       "      <td>False</td>\n",
       "      <td>False</td>\n",
       "      <td>False</td>\n",
       "      <td>False</td>\n",
       "      <td>False</td>\n",
       "      <td>False</td>\n",
       "      <td>False</td>\n",
       "      <td>Day</td>\n",
       "      <td>2016</td>\n",
       "      <td>February</td>\n",
       "      <td>Monday</td>\n",
       "      <td>8</td>\n",
       "      <td>0 days 06:00:00</td>\n",
       "      <td>Winter</td>\n",
       "      <td>2.8</td>\n",
       "      <td>Very Cold</td>\n",
       "      <td>NaN</td>\n",
       "    </tr>\n",
       "  </tbody>\n",
       "</table>\n",
       "</div>"
      ],
      "text/plain": [
       "    ID  Severity          Start_Time            End_Time  Start_Lat  \\\n",
       "0  A-1         3 2016-02-08 00:37:08 2016-02-08 06:37:08  40.108910   \n",
       "1  A-2         2 2016-02-08 05:56:20 2016-02-08 11:56:20  39.865420   \n",
       "2  A-3         2 2016-02-08 06:15:39 2016-02-08 12:15:39  39.102660   \n",
       "3  A-4         2 2016-02-08 06:51:45 2016-02-08 12:51:45  41.062130   \n",
       "4  A-5         3 2016-02-08 07:53:43 2016-02-08 13:53:43  39.172393   \n",
       "\n",
       "   Start_Lng    End_Lat    End_Lng  Distance(mi)  \\\n",
       "0 -83.092860  40.112060 -83.031870         3.230   \n",
       "1 -84.062800  39.865010 -84.048730         0.747   \n",
       "2 -84.524680  39.102090 -84.523960         0.055   \n",
       "3 -81.537840  41.062170 -81.535470         0.123   \n",
       "4 -84.492792  39.170476 -84.501798         0.500   \n",
       "\n",
       "                                         Description       Street Side  \\\n",
       "0  Between Sawmill Rd/Exit 20 and OH-315/Olentang...  Outerbelt E    R   \n",
       "1                 At OH-4/OH-235/Exit 41 - Accident.       I-70 E    R   \n",
       "2                   At I-71/US-50/Exit 1 - Accident.       I-75 S    R   \n",
       "3                    At Dart Ave/Exit 21 - Accident.       I-77 N    R   \n",
       "4                 At Mitchell Ave/Exit 6 - Accident.       I-75 S    R   \n",
       "\n",
       "         City      County State Zipcode    Timezone Airport_Code  \\\n",
       "0      Dublin    Franklin    OH   43017  US/Eastern         KOSU   \n",
       "1      Dayton  Montgomery    OH   45424  US/Eastern         KFFO   \n",
       "2  Cincinnati    Hamilton    OH   45203  US/Eastern         KLUK   \n",
       "3       Akron      Summit    OH   44311  US/Eastern         KAKR   \n",
       "4  Cincinnati    Hamilton    OH   45217  US/Eastern         KLUK   \n",
       "\n",
       "    Weather_Timestamp  Temperature(F)  Wind_Chill(F)  Humidity(%)  \\\n",
       "0 2016-02-08 00:53:00            42.1      36.100000         58.0   \n",
       "1 2016-02-08 05:58:00            36.9      59.665472         91.0   \n",
       "2 2016-02-08 05:53:00            36.0      59.665472         97.0   \n",
       "3 2016-02-08 06:54:00            39.0      59.665472         55.0   \n",
       "4 2016-02-08 07:53:00            37.0      29.800000         93.0   \n",
       "\n",
       "   Pressure(in)  Visibility(mi) Wind_Direction  Wind_Speed(mph)  \\\n",
       "0         29.76            10.0             SW        10.400000   \n",
       "1         29.68            10.0           CALM         7.394373   \n",
       "2         29.70            10.0           CALM         7.394373   \n",
       "3         29.65            10.0           CALM         7.394373   \n",
       "4         29.69            10.0              W        10.400000   \n",
       "\n",
       "   Precipitation(in) Weather_Condition  Amenity   Bump  Crossing  Give_Way  \\\n",
       "0           0.000000        Light Rain    False  False     False     False   \n",
       "1           0.020000        Light Rain    False  False     False     False   \n",
       "2           0.020000          Overcast    False  False     False     False   \n",
       "3           0.007022          Overcast    False  False     False     False   \n",
       "4           0.010000        Light Rain    False  False     False     False   \n",
       "\n",
       "   Junction  No_Exit  Railway  Roundabout  Station   Stop  Traffic_Calming  \\\n",
       "0     False    False    False       False    False  False            False   \n",
       "1     False    False    False       False    False  False            False   \n",
       "2      True    False    False       False    False  False            False   \n",
       "3     False    False    False       False    False  False            False   \n",
       "4     False    False    False       False    False  False            False   \n",
       "\n",
       "   Traffic_Signal  Turning_Loop Sunrise_Sunset  Start_Year Start_Month  \\\n",
       "0           False         False          Night        2016    February   \n",
       "1           False         False          Night        2016    February   \n",
       "2           False         False          Night        2016    February   \n",
       "3           False         False          Night        2016    February   \n",
       "4           False         False            Day        2016    February   \n",
       "\n",
       "  Start_Day_of_week  Start_Day  Duration_Hours  Season  Temperature(C)  \\\n",
       "0            Monday          8 0 days 06:00:00  Winter             5.6   \n",
       "1            Monday          8 0 days 06:00:00  Winter             2.7   \n",
       "2            Monday          8 0 days 06:00:00  Winter             2.2   \n",
       "3            Monday          8 0 days 06:00:00  Winter             3.9   \n",
       "4            Monday          8 0 days 06:00:00  Winter             2.8   \n",
       "\n",
       "  Temperature_Binned  Season_Category  \n",
       "0          Very Cold         799572.0  \n",
       "1          Very Cold         438872.0  \n",
       "2          Very Cold         491367.0  \n",
       "3          Very Cold         729817.0  \n",
       "4          Very Cold              NaN  "
      ]
     },
     "execution_count": 98,
     "metadata": {},
     "output_type": "execute_result"
    }
   ],
   "source": [
    "df.head()"
   ]
  },
  {
   "cell_type": "code",
   "execution_count": null,
   "id": "4c82e2c5",
   "metadata": {},
   "outputs": [],
   "source": []
  }
 ],
 "metadata": {
  "kernelspec": {
   "display_name": "Python 3.10.5 ('geo_env')",
   "language": "python",
   "name": "python3"
  },
  "language_info": {
   "codemirror_mode": {
    "name": "ipython",
    "version": 3
   },
   "file_extension": ".py",
   "mimetype": "text/x-python",
   "name": "python",
   "nbconvert_exporter": "python",
   "pygments_lexer": "ipython3",
   "version": "3.10.5"
  },
  "vscode": {
   "interpreter": {
    "hash": "70b302c66257e11decc9febb904681c98e0862cf1ad11e74dc287db6560c6f06"
   }
  }
 },
 "nbformat": 4,
 "nbformat_minor": 5
}
